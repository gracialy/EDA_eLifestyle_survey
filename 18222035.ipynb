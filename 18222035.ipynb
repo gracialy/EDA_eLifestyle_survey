{
  "cells": [
    {
      "cell_type": "markdown",
      "metadata": {
        "id": "qWRnDhj7tQGf"
      },
      "source": [
        "# **Explanatory Data Analysis (EDA) for Survey eChannel, eCommerce, eLifestyle & Fraud/Penipuan Digital**"
      ]
    },
    {
      "cell_type": "code",
      "execution_count": 4,
      "metadata": {
        "colab": {
          "base_uri": "https://localhost:8080/"
        },
        "id": "8Hqg2fW_V2tr",
        "outputId": "18779785-fb57-46d3-9898-1ba50555fa8f"
      },
      "outputs": [
        {
          "name": "stdout",
          "output_type": "stream",
          "text": [
            "Mounted at /content/drive\n"
          ]
        }
      ],
      "source": [
        "from google.colab import drive\n",
        "drive.mount('/content/drive')"
      ]
    },
    {
      "cell_type": "code",
      "execution_count": 5,
      "metadata": {
        "colab": {
          "base_uri": "https://localhost:8080/"
        },
        "id": "9qgt4vEoW1bo",
        "outputId": "50004132-a47c-41b7-eeaf-ab0ab14ac629"
      },
      "outputs": [
        {
          "name": "stdout",
          "output_type": "stream",
          "text": [
            "/content/drive/MyDrive/ITB/Tools Probstat/Tubes\n"
          ]
        }
      ],
      "source": [
        "cd /content/drive/MyDrive/ITB/Tools Probstat/Tubes"
      ]
    },
    {
      "cell_type": "code",
      "execution_count": 2,
      "metadata": {
        "id": "QRRwx7hKQBtL"
      },
      "outputs": [],
      "source": [
        "import pandas as pd"
      ]
    },
    {
      "cell_type": "code",
      "execution_count": 3,
      "metadata": {
        "id": "VPLHSc73ROk7"
      },
      "outputs": [],
      "source": [
        "file_path = \"18222035.xlsx\"\n",
        "df = pd.read_excel(file_path)"
      ]
    },
    {
      "cell_type": "code",
      "execution_count": 10,
      "metadata": {},
      "outputs": [
        {
          "name": "stdout",
          "output_type": "stream",
          "text": [
            "<class 'pandas.core.frame.DataFrame'>\n",
            "RangeIndex: 284 entries, 0 to 283\n",
            "Columns: 150 entries, Jenis Kelamin to keluhan_belanja_online_6\n",
            "dtypes: int64(1), object(149)\n",
            "memory usage: 332.9+ KB\n"
          ]
        }
      ],
      "source": [
        "df.info()"
      ]
    },
    {
      "cell_type": "code",
      "execution_count": 5,
      "metadata": {},
      "outputs": [
        {
          "data": {
            "text/html": [
              "<div>\n",
              "<style scoped>\n",
              "    .dataframe tbody tr th:only-of-type {\n",
              "        vertical-align: middle;\n",
              "    }\n",
              "\n",
              "    .dataframe tbody tr th {\n",
              "        vertical-align: top;\n",
              "    }\n",
              "\n",
              "    .dataframe thead th {\n",
              "        text-align: right;\n",
              "    }\n",
              "</style>\n",
              "<table border=\"1\" class=\"dataframe\">\n",
              "  <thead>\n",
              "    <tr style=\"text-align: right;\">\n",
              "      <th></th>\n",
              "      <th>Jenis Kelamin</th>\n",
              "      <th>Usia</th>\n",
              "      <th>Pendidikan Terakhir</th>\n",
              "      <th>Pekerjaan</th>\n",
              "      <th>Penghasilan per Bulan</th>\n",
              "      <th>Domisili</th>\n",
              "      <th>Durasi Penggunaan Internet per Hari (dalam Jam)</th>\n",
              "      <th>Aktivitas Online Meningkat</th>\n",
              "      <th>Aktivitas yang Meningkat dalam 3 Bulan Terakhir</th>\n",
              "      <th>layanan_aktif_1</th>\n",
              "      <th>...</th>\n",
              "      <th>cara_pembayaran_belanja_online_5</th>\n",
              "      <th>cara_pembayaran_belanja_online_6</th>\n",
              "      <th>cara_pembayaran_belanja_online_7</th>\n",
              "      <th>cara_pembayaran_belanja_online_8</th>\n",
              "      <th>keluhan_belanja_online_1</th>\n",
              "      <th>keluhan_belanja_online_2</th>\n",
              "      <th>keluhan_belanja_online_3</th>\n",
              "      <th>keluhan_belanja_online_4</th>\n",
              "      <th>keluhan_belanja_online_5</th>\n",
              "      <th>keluhan_belanja_online_6</th>\n",
              "    </tr>\n",
              "  </thead>\n",
              "  <tbody>\n",
              "    <tr>\n",
              "      <th>0</th>\n",
              "      <td>Pria</td>\n",
              "      <td>19</td>\n",
              "      <td>SMA</td>\n",
              "      <td>Pelajar / Mahasiswa</td>\n",
              "      <td>&lt; Rp 2 juta</td>\n",
              "      <td>Jakarta</td>\n",
              "      <td>NaN</td>\n",
              "      <td>Tidak</td>\n",
              "      <td>NaN</td>\n",
              "      <td>Mobile Banking</td>\n",
              "      <td>...</td>\n",
              "      <td>Transfer via ATM</td>\n",
              "      <td>NaN</td>\n",
              "      <td>NaN</td>\n",
              "      <td>menggunakan fitur Paylater</td>\n",
              "      <td>Barang yang diperoleh tidak sesuai dengan spes...</td>\n",
              "      <td>Barang rusak/ salah tetapi tidak dapat dikemba...</td>\n",
              "      <td>NaN</td>\n",
              "      <td>NaN</td>\n",
              "      <td>NaN</td>\n",
              "      <td>NaN</td>\n",
              "    </tr>\n",
              "    <tr>\n",
              "      <th>1</th>\n",
              "      <td>Pria</td>\n",
              "      <td>20</td>\n",
              "      <td>SMA</td>\n",
              "      <td>Pelajar / Mahasiswa</td>\n",
              "      <td>&lt; Rp 2 juta</td>\n",
              "      <td>Bandung</td>\n",
              "      <td>600%</td>\n",
              "      <td>Ya</td>\n",
              "      <td>Streaming video/ film</td>\n",
              "      <td>Mobile Banking</td>\n",
              "      <td>...</td>\n",
              "      <td>Transfer via ATM</td>\n",
              "      <td>NaN</td>\n",
              "      <td>Melalui minimarket</td>\n",
              "      <td>NaN</td>\n",
              "      <td>NaN</td>\n",
              "      <td>NaN</td>\n",
              "      <td>NaN</td>\n",
              "      <td>NaN</td>\n",
              "      <td>NaN</td>\n",
              "      <td>NaN</td>\n",
              "    </tr>\n",
              "    <tr>\n",
              "      <th>2</th>\n",
              "      <td>Wanita</td>\n",
              "      <td>53</td>\n",
              "      <td>D3</td>\n",
              "      <td>Karyawan Swasta</td>\n",
              "      <td>&gt; Rp 10 juta</td>\n",
              "      <td>Jakarta</td>\n",
              "      <td>200%</td>\n",
              "      <td>Ya</td>\n",
              "      <td>Akses media sosial</td>\n",
              "      <td>NaN</td>\n",
              "      <td>...</td>\n",
              "      <td>Transfer via ATM</td>\n",
              "      <td>NaN</td>\n",
              "      <td>NaN</td>\n",
              "      <td>NaN</td>\n",
              "      <td>NaN</td>\n",
              "      <td>NaN</td>\n",
              "      <td>Pembayaran sudah dilakukan; barang tidak tersedia</td>\n",
              "      <td>NaN</td>\n",
              "      <td>NaN</td>\n",
              "      <td>NaN</td>\n",
              "    </tr>\n",
              "    <tr>\n",
              "      <th>3</th>\n",
              "      <td>Pria</td>\n",
              "      <td>19</td>\n",
              "      <td>SMA</td>\n",
              "      <td>Pelajar / Mahasiswa</td>\n",
              "      <td>&lt; Rp 2 juta</td>\n",
              "      <td>Jakarta</td>\n",
              "      <td>NaN</td>\n",
              "      <td>Ya</td>\n",
              "      <td>Game online</td>\n",
              "      <td>Mobile Banking</td>\n",
              "      <td>...</td>\n",
              "      <td>NaN</td>\n",
              "      <td>NaN</td>\n",
              "      <td>NaN</td>\n",
              "      <td>NaN</td>\n",
              "      <td>NaN</td>\n",
              "      <td>NaN</td>\n",
              "      <td>NaN</td>\n",
              "      <td>NaN</td>\n",
              "      <td>NaN</td>\n",
              "      <td>NaN</td>\n",
              "    </tr>\n",
              "    <tr>\n",
              "      <th>4</th>\n",
              "      <td>Wanita</td>\n",
              "      <td>23</td>\n",
              "      <td>S1</td>\n",
              "      <td>Karyawan Swasta</td>\n",
              "      <td>Rp 5 juta – Rp 10 juta</td>\n",
              "      <td>Jakarta</td>\n",
              "      <td>NaN</td>\n",
              "      <td>Sama saja</td>\n",
              "      <td>NaN</td>\n",
              "      <td>Mobile Banking</td>\n",
              "      <td>...</td>\n",
              "      <td>NaN</td>\n",
              "      <td>NaN</td>\n",
              "      <td>NaN</td>\n",
              "      <td>NaN</td>\n",
              "      <td>Barang yang diperoleh tidak sesuai dengan spes...</td>\n",
              "      <td>Barang rusak/ salah tetapi tidak dapat dikemba...</td>\n",
              "      <td>NaN</td>\n",
              "      <td>Jumlah barang yang diterima kurang</td>\n",
              "      <td>NaN</td>\n",
              "      <td>NaN</td>\n",
              "    </tr>\n",
              "  </tbody>\n",
              "</table>\n",
              "<p>5 rows × 150 columns</p>\n",
              "</div>"
            ],
            "text/plain": [
              "  Jenis Kelamin  Usia Pendidikan Terakhir            Pekerjaan  \\\n",
              "0          Pria    19                 SMA  Pelajar / Mahasiswa   \n",
              "1          Pria    20                 SMA  Pelajar / Mahasiswa   \n",
              "2        Wanita    53                  D3      Karyawan Swasta   \n",
              "3          Pria    19                 SMA  Pelajar / Mahasiswa   \n",
              "4        Wanita    23                  S1      Karyawan Swasta   \n",
              "\n",
              "    Penghasilan per Bulan Domisili  \\\n",
              "0             < Rp 2 juta  Jakarta   \n",
              "1             < Rp 2 juta  Bandung   \n",
              "2            > Rp 10 juta  Jakarta   \n",
              "3             < Rp 2 juta  Jakarta   \n",
              "4  Rp 5 juta – Rp 10 juta  Jakarta   \n",
              "\n",
              "  Durasi Penggunaan Internet per Hari (dalam Jam) Aktivitas Online Meningkat  \\\n",
              "0                                             NaN                      Tidak   \n",
              "1                                            600%                         Ya   \n",
              "2                                            200%                         Ya   \n",
              "3                                             NaN                         Ya   \n",
              "4                                             NaN                  Sama saja   \n",
              "\n",
              "  Aktivitas yang Meningkat dalam 3 Bulan Terakhir layanan_aktif_1  ...  \\\n",
              "0                                             NaN  Mobile Banking  ...   \n",
              "1                           Streaming video/ film  Mobile Banking  ...   \n",
              "2                              Akses media sosial             NaN  ...   \n",
              "3                                     Game online  Mobile Banking  ...   \n",
              "4                                             NaN  Mobile Banking  ...   \n",
              "\n",
              "  cara_pembayaran_belanja_online_5 cara_pembayaran_belanja_online_6  \\\n",
              "0                 Transfer via ATM                              NaN   \n",
              "1                 Transfer via ATM                              NaN   \n",
              "2                 Transfer via ATM                              NaN   \n",
              "3                              NaN                              NaN   \n",
              "4                              NaN                              NaN   \n",
              "\n",
              "  cara_pembayaran_belanja_online_7 cara_pembayaran_belanja_online_8  \\\n",
              "0                              NaN       menggunakan fitur Paylater   \n",
              "1               Melalui minimarket                              NaN   \n",
              "2                              NaN                              NaN   \n",
              "3                              NaN                              NaN   \n",
              "4                              NaN                              NaN   \n",
              "\n",
              "                            keluhan_belanja_online_1  \\\n",
              "0  Barang yang diperoleh tidak sesuai dengan spes...   \n",
              "1                                                NaN   \n",
              "2                                                NaN   \n",
              "3                                                NaN   \n",
              "4  Barang yang diperoleh tidak sesuai dengan spes...   \n",
              "\n",
              "                            keluhan_belanja_online_2  \\\n",
              "0  Barang rusak/ salah tetapi tidak dapat dikemba...   \n",
              "1                                                NaN   \n",
              "2                                                NaN   \n",
              "3                                                NaN   \n",
              "4  Barang rusak/ salah tetapi tidak dapat dikemba...   \n",
              "\n",
              "                            keluhan_belanja_online_3  \\\n",
              "0                                                NaN   \n",
              "1                                                NaN   \n",
              "2  Pembayaran sudah dilakukan; barang tidak tersedia   \n",
              "3                                                NaN   \n",
              "4                                                NaN   \n",
              "\n",
              "             keluhan_belanja_online_4 keluhan_belanja_online_5  \\\n",
              "0                                 NaN                      NaN   \n",
              "1                                 NaN                      NaN   \n",
              "2                                 NaN                      NaN   \n",
              "3                                 NaN                      NaN   \n",
              "4  Jumlah barang yang diterima kurang                      NaN   \n",
              "\n",
              "  keluhan_belanja_online_6  \n",
              "0                      NaN  \n",
              "1                      NaN  \n",
              "2                      NaN  \n",
              "3                      NaN  \n",
              "4                      NaN  \n",
              "\n",
              "[5 rows x 150 columns]"
            ]
          },
          "execution_count": 5,
          "metadata": {},
          "output_type": "execute_result"
        }
      ],
      "source": [
        "df.head()"
      ]
    },
    {
      "cell_type": "markdown",
      "metadata": {
        "id": "L1Xiv2-1tfOP"
      },
      "source": [
        "## **Description**\n",
        "\n",
        "Melakukan EDA terhadap hasil kuisioner untuk mendapatkan gambaran umum tentang dataset, menganalisis karakteristik atribut, dan menghasilkan insight dari data."
      ]
    },
    {
      "cell_type": "markdown",
      "metadata": {
        "id": "q_oFzGq2u5E2"
      },
      "source": [
        "## **Table of Contents**\n",
        "\n",
        "- [Description](https://colab.research.google.com/drive/1-rjmFaGKFRtaSAR6RyfnNlhXuJQ_TB7Q#scrollTo=L1Xiv2-1tfOP&line=3&uniqifier=1)\n",
        "- [Data Cleaning](https://colab.research.google.com/drive/1-rjmFaGKFRtaSAR6RyfnNlhXuJQ_TB7Q#scrollTo=QHSuEJ82Be3F&line=1&uniqifier=1)\n",
        "- [Function](https://colab.research.google.com/drive/1-rjmFaGKFRtaSAR6RyfnNlhXuJQ_TB7Q#scrollTo=vHN6BkqaHW29&line=3&uniqifier=1)\n",
        "- [Preliminary EDA](https://colab.research.google.com/drive/1-rjmFaGKFRtaSAR6RyfnNlhXuJQ_TB7Q#scrollTo=LfSaEL5NYXdf&line=1&uniqifier=1)\n",
        "- [Univariate EDA](https://colab.research.google.com/drive/1-rjmFaGKFRtaSAR6RyfnNlhXuJQ_TB7Q#scrollTo=5n4N8kE_VkFT&line=1&uniqifier=1)\n",
        "- [Bivariate EDA](https://colab.research.google.com/drive/1-rjmFaGKFRtaSAR6RyfnNlhXuJQ_TB7Q#scrollTo=E5z6RahqwNbF&line=1&uniqifier=1)\n",
        "\n"
      ]
    },
    {
      "cell_type": "markdown",
      "metadata": {
        "id": "QHSuEJ82Be3F"
      },
      "source": [
        "## **Data Cleaning**\n"
      ]
    },
    {
      "cell_type": "markdown",
      "metadata": {
        "id": "EWL147f7BHM4"
      },
      "source": [
        "### Memastikan kolom Usia memiliki nilai yang masuk akal"
      ]
    },
    {
      "cell_type": "code",
      "execution_count": 9,
      "metadata": {
        "colab": {
          "base_uri": "https://localhost:8080/"
        },
        "id": "tjkHkGfI9oRK",
        "outputId": "e0e2380b-e34d-41f6-ef02-bbee4b4efa5c"
      },
      "outputs": [
        {
          "name": "stdout",
          "output_type": "stream",
          "text": [
            "188    1994\n",
            "235    1976\n",
            "264    1971\n",
            "173      64\n",
            "198      60\n",
            "20       59\n",
            "65       59\n",
            "179      59\n",
            "16       57\n",
            "48       57\n",
            "Name: Usia, dtype: int64\n"
          ]
        }
      ],
      "source": [
        "top_10_ages = df.nlargest(10, 'Usia')['Usia']\n",
        "print(top_10_ages)"
      ]
    },
    {
      "cell_type": "markdown",
      "metadata": {
        "id": "Vm4VzkvgCE56"
      },
      "source": [
        "Berdasarkan observasi, terdapat 3 kesalahan input usia menjadi tahun lahir. Ubah menjadi usia dengan mengasumsikan tahun survey adalah 2022."
      ]
    },
    {
      "cell_type": "code",
      "execution_count": 10,
      "metadata": {
        "id": "BZQn-WmX__4L"
      },
      "outputs": [],
      "source": [
        "current_year = 2022\n",
        "\n",
        "to_correct = [188, 235, 264]\n",
        "birth_years = [df.loc[index, 'Usia'] for index in to_correct]\n",
        "\n",
        "correct_ages = [current_year - birth_year for birth_year in birth_years]\n",
        "\n",
        "df.loc[to_correct, 'Usia'] = correct_ages\n"
      ]
    },
    {
      "cell_type": "code",
      "execution_count": 11,
      "metadata": {
        "colab": {
          "base_uri": "https://localhost:8080/"
        },
        "id": "0KuPb-KMAnwt",
        "outputId": "0ac10d29-45c9-4604-dcd3-5c7a4f8f3e9c"
      },
      "outputs": [
        {
          "name": "stdout",
          "output_type": "stream",
          "text": [
            "188    28\n",
            "235    46\n",
            "264    51\n",
            "Name: Usia, dtype: int64\n"
          ]
        }
      ],
      "source": [
        "# corrected datas\n",
        "print(df.loc[to_correct, 'Usia'])"
      ]
    },
    {
      "cell_type": "markdown",
      "metadata": {
        "id": "UnW_BPkEisjt"
      },
      "source": [
        "### Menyeragamkan data Pendidikan Terakhir"
      ]
    },
    {
      "cell_type": "code",
      "execution_count": 18,
      "metadata": {
        "colab": {
          "base_uri": "https://localhost:8080/",
          "height": 0
        },
        "id": "s0MjPvTZi8kX",
        "outputId": "d8cb7b8e-a58b-42a5-ceaa-1e0c8f30e847"
      },
      "outputs": [
        {
          "data": {
            "text/html": [
              "\n",
              "  <div id=\"df-a83bb7ea-6f92-4c38-b0fc-40944a16647c\" class=\"colab-df-container\">\n",
              "    <div>\n",
              "<style scoped>\n",
              "    .dataframe tbody tr th:only-of-type {\n",
              "        vertical-align: middle;\n",
              "    }\n",
              "\n",
              "    .dataframe tbody tr th {\n",
              "        vertical-align: top;\n",
              "    }\n",
              "\n",
              "    .dataframe thead th {\n",
              "        text-align: right;\n",
              "    }\n",
              "</style>\n",
              "<table border=\"1\" class=\"dataframe\">\n",
              "  <thead>\n",
              "    <tr style=\"text-align: right;\">\n",
              "      <th></th>\n",
              "      <th>value</th>\n",
              "      <th>frequency</th>\n",
              "    </tr>\n",
              "  </thead>\n",
              "  <tbody>\n",
              "    <tr>\n",
              "      <th>0</th>\n",
              "      <td>SMA</td>\n",
              "      <td>131</td>\n",
              "    </tr>\n",
              "    <tr>\n",
              "      <th>1</th>\n",
              "      <td>S1</td>\n",
              "      <td>112</td>\n",
              "    </tr>\n",
              "    <tr>\n",
              "      <th>2</th>\n",
              "      <td>S2</td>\n",
              "      <td>17</td>\n",
              "    </tr>\n",
              "    <tr>\n",
              "      <th>3</th>\n",
              "      <td>D3</td>\n",
              "      <td>16</td>\n",
              "    </tr>\n",
              "    <tr>\n",
              "      <th>4</th>\n",
              "      <td>D4</td>\n",
              "      <td>4</td>\n",
              "    </tr>\n",
              "    <tr>\n",
              "      <th>5</th>\n",
              "      <td>S3</td>\n",
              "      <td>1</td>\n",
              "    </tr>\n",
              "    <tr>\n",
              "      <th>6</th>\n",
              "      <td>Profesi</td>\n",
              "      <td>1</td>\n",
              "    </tr>\n",
              "    <tr>\n",
              "      <th>7</th>\n",
              "      <td>Sekolah</td>\n",
              "      <td>1</td>\n",
              "    </tr>\n",
              "    <tr>\n",
              "      <th>8</th>\n",
              "      <td>S1 + Profesi</td>\n",
              "      <td>1</td>\n",
              "    </tr>\n",
              "  </tbody>\n",
              "</table>\n",
              "</div>\n",
              "    <div class=\"colab-df-buttons\">\n",
              "\n",
              "  <div class=\"colab-df-container\">\n",
              "    <button class=\"colab-df-convert\" onclick=\"convertToInteractive('df-a83bb7ea-6f92-4c38-b0fc-40944a16647c')\"\n",
              "            title=\"Convert this dataframe to an interactive table.\"\n",
              "            style=\"display:none;\">\n",
              "\n",
              "  <svg xmlns=\"http://www.w3.org/2000/svg\" height=\"24px\" viewBox=\"0 -960 960 960\">\n",
              "    <path d=\"M120-120v-720h720v720H120Zm60-500h600v-160H180v160Zm220 220h160v-160H400v160Zm0 220h160v-160H400v160ZM180-400h160v-160H180v160Zm440 0h160v-160H620v160ZM180-180h160v-160H180v160Zm440 0h160v-160H620v160Z\"/>\n",
              "  </svg>\n",
              "    </button>\n",
              "\n",
              "  <style>\n",
              "    .colab-df-container {\n",
              "      display:flex;\n",
              "      gap: 12px;\n",
              "    }\n",
              "\n",
              "    .colab-df-convert {\n",
              "      background-color: #E8F0FE;\n",
              "      border: none;\n",
              "      border-radius: 50%;\n",
              "      cursor: pointer;\n",
              "      display: none;\n",
              "      fill: #1967D2;\n",
              "      height: 32px;\n",
              "      padding: 0 0 0 0;\n",
              "      width: 32px;\n",
              "    }\n",
              "\n",
              "    .colab-df-convert:hover {\n",
              "      background-color: #E2EBFA;\n",
              "      box-shadow: 0px 1px 2px rgba(60, 64, 67, 0.3), 0px 1px 3px 1px rgba(60, 64, 67, 0.15);\n",
              "      fill: #174EA6;\n",
              "    }\n",
              "\n",
              "    .colab-df-buttons div {\n",
              "      margin-bottom: 4px;\n",
              "    }\n",
              "\n",
              "    [theme=dark] .colab-df-convert {\n",
              "      background-color: #3B4455;\n",
              "      fill: #D2E3FC;\n",
              "    }\n",
              "\n",
              "    [theme=dark] .colab-df-convert:hover {\n",
              "      background-color: #434B5C;\n",
              "      box-shadow: 0px 1px 3px 1px rgba(0, 0, 0, 0.15);\n",
              "      filter: drop-shadow(0px 1px 2px rgba(0, 0, 0, 0.3));\n",
              "      fill: #FFFFFF;\n",
              "    }\n",
              "  </style>\n",
              "\n",
              "    <script>\n",
              "      const buttonEl =\n",
              "        document.querySelector('#df-a83bb7ea-6f92-4c38-b0fc-40944a16647c button.colab-df-convert');\n",
              "      buttonEl.style.display =\n",
              "        google.colab.kernel.accessAllowed ? 'block' : 'none';\n",
              "\n",
              "      async function convertToInteractive(key) {\n",
              "        const element = document.querySelector('#df-a83bb7ea-6f92-4c38-b0fc-40944a16647c');\n",
              "        const dataTable =\n",
              "          await google.colab.kernel.invokeFunction('convertToInteractive',\n",
              "                                                    [key], {});\n",
              "        if (!dataTable) return;\n",
              "\n",
              "        const docLinkHtml = 'Like what you see? Visit the ' +\n",
              "          '<a target=\"_blank\" href=https://colab.research.google.com/notebooks/data_table.ipynb>data table notebook</a>'\n",
              "          + ' to learn more about interactive tables.';\n",
              "        element.innerHTML = '';\n",
              "        dataTable['output_type'] = 'display_data';\n",
              "        await google.colab.output.renderOutput(dataTable, element);\n",
              "        const docLink = document.createElement('div');\n",
              "        docLink.innerHTML = docLinkHtml;\n",
              "        element.appendChild(docLink);\n",
              "      }\n",
              "    </script>\n",
              "  </div>\n",
              "\n",
              "\n",
              "<div id=\"df-dc92a9af-8274-41c8-aed8-3aba72766e93\">\n",
              "  <button class=\"colab-df-quickchart\" onclick=\"quickchart('df-dc92a9af-8274-41c8-aed8-3aba72766e93')\"\n",
              "            title=\"Suggest charts\"\n",
              "            style=\"display:none;\">\n",
              "\n",
              "<svg xmlns=\"http://www.w3.org/2000/svg\" height=\"24px\"viewBox=\"0 0 24 24\"\n",
              "     width=\"24px\">\n",
              "    <g>\n",
              "        <path d=\"M19 3H5c-1.1 0-2 .9-2 2v14c0 1.1.9 2 2 2h14c1.1 0 2-.9 2-2V5c0-1.1-.9-2-2-2zM9 17H7v-7h2v7zm4 0h-2V7h2v10zm4 0h-2v-4h2v4z\"/>\n",
              "    </g>\n",
              "</svg>\n",
              "  </button>\n",
              "\n",
              "<style>\n",
              "  .colab-df-quickchart {\n",
              "      --bg-color: #E8F0FE;\n",
              "      --fill-color: #1967D2;\n",
              "      --hover-bg-color: #E2EBFA;\n",
              "      --hover-fill-color: #174EA6;\n",
              "      --disabled-fill-color: #AAA;\n",
              "      --disabled-bg-color: #DDD;\n",
              "  }\n",
              "\n",
              "  [theme=dark] .colab-df-quickchart {\n",
              "      --bg-color: #3B4455;\n",
              "      --fill-color: #D2E3FC;\n",
              "      --hover-bg-color: #434B5C;\n",
              "      --hover-fill-color: #FFFFFF;\n",
              "      --disabled-bg-color: #3B4455;\n",
              "      --disabled-fill-color: #666;\n",
              "  }\n",
              "\n",
              "  .colab-df-quickchart {\n",
              "    background-color: var(--bg-color);\n",
              "    border: none;\n",
              "    border-radius: 50%;\n",
              "    cursor: pointer;\n",
              "    display: none;\n",
              "    fill: var(--fill-color);\n",
              "    height: 32px;\n",
              "    padding: 0;\n",
              "    width: 32px;\n",
              "  }\n",
              "\n",
              "  .colab-df-quickchart:hover {\n",
              "    background-color: var(--hover-bg-color);\n",
              "    box-shadow: 0 1px 2px rgba(60, 64, 67, 0.3), 0 1px 3px 1px rgba(60, 64, 67, 0.15);\n",
              "    fill: var(--button-hover-fill-color);\n",
              "  }\n",
              "\n",
              "  .colab-df-quickchart-complete:disabled,\n",
              "  .colab-df-quickchart-complete:disabled:hover {\n",
              "    background-color: var(--disabled-bg-color);\n",
              "    fill: var(--disabled-fill-color);\n",
              "    box-shadow: none;\n",
              "  }\n",
              "\n",
              "  .colab-df-spinner {\n",
              "    border: 2px solid var(--fill-color);\n",
              "    border-color: transparent;\n",
              "    border-bottom-color: var(--fill-color);\n",
              "    animation:\n",
              "      spin 1s steps(1) infinite;\n",
              "  }\n",
              "\n",
              "  @keyframes spin {\n",
              "    0% {\n",
              "      border-color: transparent;\n",
              "      border-bottom-color: var(--fill-color);\n",
              "      border-left-color: var(--fill-color);\n",
              "    }\n",
              "    20% {\n",
              "      border-color: transparent;\n",
              "      border-left-color: var(--fill-color);\n",
              "      border-top-color: var(--fill-color);\n",
              "    }\n",
              "    30% {\n",
              "      border-color: transparent;\n",
              "      border-left-color: var(--fill-color);\n",
              "      border-top-color: var(--fill-color);\n",
              "      border-right-color: var(--fill-color);\n",
              "    }\n",
              "    40% {\n",
              "      border-color: transparent;\n",
              "      border-right-color: var(--fill-color);\n",
              "      border-top-color: var(--fill-color);\n",
              "    }\n",
              "    60% {\n",
              "      border-color: transparent;\n",
              "      border-right-color: var(--fill-color);\n",
              "    }\n",
              "    80% {\n",
              "      border-color: transparent;\n",
              "      border-right-color: var(--fill-color);\n",
              "      border-bottom-color: var(--fill-color);\n",
              "    }\n",
              "    90% {\n",
              "      border-color: transparent;\n",
              "      border-bottom-color: var(--fill-color);\n",
              "    }\n",
              "  }\n",
              "</style>\n",
              "\n",
              "  <script>\n",
              "    async function quickchart(key) {\n",
              "      const quickchartButtonEl =\n",
              "        document.querySelector('#' + key + ' button');\n",
              "      quickchartButtonEl.disabled = true;  // To prevent multiple clicks.\n",
              "      quickchartButtonEl.classList.add('colab-df-spinner');\n",
              "      try {\n",
              "        const charts = await google.colab.kernel.invokeFunction(\n",
              "            'suggestCharts', [key], {});\n",
              "      } catch (error) {\n",
              "        console.error('Error during call to suggestCharts:', error);\n",
              "      }\n",
              "      quickchartButtonEl.classList.remove('colab-df-spinner');\n",
              "      quickchartButtonEl.classList.add('colab-df-quickchart-complete');\n",
              "    }\n",
              "    (() => {\n",
              "      let quickchartButtonEl =\n",
              "        document.querySelector('#df-dc92a9af-8274-41c8-aed8-3aba72766e93 button');\n",
              "      quickchartButtonEl.style.display =\n",
              "        google.colab.kernel.accessAllowed ? 'block' : 'none';\n",
              "    })();\n",
              "  </script>\n",
              "</div>\n",
              "    </div>\n",
              "  </div>\n"
            ],
            "text/plain": [
              "          value  frequency\n",
              "0           SMA        131\n",
              "1            S1        112\n",
              "2            S2         17\n",
              "3            D3         16\n",
              "4            D4          4\n",
              "5            S3          1\n",
              "6       Profesi          1\n",
              "7       Sekolah          1\n",
              "8  S1 + Profesi          1"
            ]
          },
          "execution_count": 18,
          "metadata": {},
          "output_type": "execute_result"
        }
      ],
      "source": [
        "pendidikan_freq = get_unique_values_and_frequencies(df, 'Pendidikan Terakhir')\n",
        "\n",
        "pendidikan_freq"
      ]
    },
    {
      "cell_type": "markdown",
      "metadata": {
        "id": "GlifjfZqjInK"
      },
      "source": [
        "Dari data, terdapat beberapa outlier yang dapat digabung dengan kelompok lain. Misalnya,\n",
        "- \"Sekolah\" dapat digabung dengan \"SMA\"\n",
        "- \"S1 + Profesi\" dan \"Profesi\" dapat digabung dengan \"S1\" dengan asumsi bahwa pendidikan profesi adalah pendidikan yang harus diambil tamatan jurusan tertentu untuk mendapat sertifikasi profesi."
      ]
    },
    {
      "cell_type": "code",
      "execution_count": 19,
      "metadata": {
        "id": "-dmnaP19k_BC"
      },
      "outputs": [],
      "source": [
        "df[\"Pendidikan Terakhir\"].replace({\n",
        "    \"Profesi\": \"S1\",\n",
        "    \"S1 + Profesi\": \"S1\",\n",
        "    \"Sekolah\": \"SMA\"\n",
        "}, inplace=True)\n"
      ]
    },
    {
      "cell_type": "code",
      "execution_count": 20,
      "metadata": {
        "colab": {
          "base_uri": "https://localhost:8080/",
          "height": 0
        },
        "id": "CW9m0vKwklcS",
        "outputId": "7bb05081-4ba5-429e-9ca9-bb0230d0963f"
      },
      "outputs": [
        {
          "data": {
            "text/html": [
              "\n",
              "  <div id=\"df-aa200818-daf6-4c60-9b83-c8801cbb3bda\" class=\"colab-df-container\">\n",
              "    <div>\n",
              "<style scoped>\n",
              "    .dataframe tbody tr th:only-of-type {\n",
              "        vertical-align: middle;\n",
              "    }\n",
              "\n",
              "    .dataframe tbody tr th {\n",
              "        vertical-align: top;\n",
              "    }\n",
              "\n",
              "    .dataframe thead th {\n",
              "        text-align: right;\n",
              "    }\n",
              "</style>\n",
              "<table border=\"1\" class=\"dataframe\">\n",
              "  <thead>\n",
              "    <tr style=\"text-align: right;\">\n",
              "      <th></th>\n",
              "      <th>value</th>\n",
              "      <th>frequency</th>\n",
              "    </tr>\n",
              "  </thead>\n",
              "  <tbody>\n",
              "    <tr>\n",
              "      <th>0</th>\n",
              "      <td>SMA</td>\n",
              "      <td>132</td>\n",
              "    </tr>\n",
              "    <tr>\n",
              "      <th>1</th>\n",
              "      <td>S1</td>\n",
              "      <td>114</td>\n",
              "    </tr>\n",
              "    <tr>\n",
              "      <th>2</th>\n",
              "      <td>S2</td>\n",
              "      <td>17</td>\n",
              "    </tr>\n",
              "    <tr>\n",
              "      <th>3</th>\n",
              "      <td>D3</td>\n",
              "      <td>16</td>\n",
              "    </tr>\n",
              "    <tr>\n",
              "      <th>4</th>\n",
              "      <td>D4</td>\n",
              "      <td>4</td>\n",
              "    </tr>\n",
              "    <tr>\n",
              "      <th>5</th>\n",
              "      <td>S3</td>\n",
              "      <td>1</td>\n",
              "    </tr>\n",
              "  </tbody>\n",
              "</table>\n",
              "</div>\n",
              "    <div class=\"colab-df-buttons\">\n",
              "\n",
              "  <div class=\"colab-df-container\">\n",
              "    <button class=\"colab-df-convert\" onclick=\"convertToInteractive('df-aa200818-daf6-4c60-9b83-c8801cbb3bda')\"\n",
              "            title=\"Convert this dataframe to an interactive table.\"\n",
              "            style=\"display:none;\">\n",
              "\n",
              "  <svg xmlns=\"http://www.w3.org/2000/svg\" height=\"24px\" viewBox=\"0 -960 960 960\">\n",
              "    <path d=\"M120-120v-720h720v720H120Zm60-500h600v-160H180v160Zm220 220h160v-160H400v160Zm0 220h160v-160H400v160ZM180-400h160v-160H180v160Zm440 0h160v-160H620v160ZM180-180h160v-160H180v160Zm440 0h160v-160H620v160Z\"/>\n",
              "  </svg>\n",
              "    </button>\n",
              "\n",
              "  <style>\n",
              "    .colab-df-container {\n",
              "      display:flex;\n",
              "      gap: 12px;\n",
              "    }\n",
              "\n",
              "    .colab-df-convert {\n",
              "      background-color: #E8F0FE;\n",
              "      border: none;\n",
              "      border-radius: 50%;\n",
              "      cursor: pointer;\n",
              "      display: none;\n",
              "      fill: #1967D2;\n",
              "      height: 32px;\n",
              "      padding: 0 0 0 0;\n",
              "      width: 32px;\n",
              "    }\n",
              "\n",
              "    .colab-df-convert:hover {\n",
              "      background-color: #E2EBFA;\n",
              "      box-shadow: 0px 1px 2px rgba(60, 64, 67, 0.3), 0px 1px 3px 1px rgba(60, 64, 67, 0.15);\n",
              "      fill: #174EA6;\n",
              "    }\n",
              "\n",
              "    .colab-df-buttons div {\n",
              "      margin-bottom: 4px;\n",
              "    }\n",
              "\n",
              "    [theme=dark] .colab-df-convert {\n",
              "      background-color: #3B4455;\n",
              "      fill: #D2E3FC;\n",
              "    }\n",
              "\n",
              "    [theme=dark] .colab-df-convert:hover {\n",
              "      background-color: #434B5C;\n",
              "      box-shadow: 0px 1px 3px 1px rgba(0, 0, 0, 0.15);\n",
              "      filter: drop-shadow(0px 1px 2px rgba(0, 0, 0, 0.3));\n",
              "      fill: #FFFFFF;\n",
              "    }\n",
              "  </style>\n",
              "\n",
              "    <script>\n",
              "      const buttonEl =\n",
              "        document.querySelector('#df-aa200818-daf6-4c60-9b83-c8801cbb3bda button.colab-df-convert');\n",
              "      buttonEl.style.display =\n",
              "        google.colab.kernel.accessAllowed ? 'block' : 'none';\n",
              "\n",
              "      async function convertToInteractive(key) {\n",
              "        const element = document.querySelector('#df-aa200818-daf6-4c60-9b83-c8801cbb3bda');\n",
              "        const dataTable =\n",
              "          await google.colab.kernel.invokeFunction('convertToInteractive',\n",
              "                                                    [key], {});\n",
              "        if (!dataTable) return;\n",
              "\n",
              "        const docLinkHtml = 'Like what you see? Visit the ' +\n",
              "          '<a target=\"_blank\" href=https://colab.research.google.com/notebooks/data_table.ipynb>data table notebook</a>'\n",
              "          + ' to learn more about interactive tables.';\n",
              "        element.innerHTML = '';\n",
              "        dataTable['output_type'] = 'display_data';\n",
              "        await google.colab.output.renderOutput(dataTable, element);\n",
              "        const docLink = document.createElement('div');\n",
              "        docLink.innerHTML = docLinkHtml;\n",
              "        element.appendChild(docLink);\n",
              "      }\n",
              "    </script>\n",
              "  </div>\n",
              "\n",
              "\n",
              "<div id=\"df-e25a7978-25ea-4c10-97d2-88f6806fc5ca\">\n",
              "  <button class=\"colab-df-quickchart\" onclick=\"quickchart('df-e25a7978-25ea-4c10-97d2-88f6806fc5ca')\"\n",
              "            title=\"Suggest charts\"\n",
              "            style=\"display:none;\">\n",
              "\n",
              "<svg xmlns=\"http://www.w3.org/2000/svg\" height=\"24px\"viewBox=\"0 0 24 24\"\n",
              "     width=\"24px\">\n",
              "    <g>\n",
              "        <path d=\"M19 3H5c-1.1 0-2 .9-2 2v14c0 1.1.9 2 2 2h14c1.1 0 2-.9 2-2V5c0-1.1-.9-2-2-2zM9 17H7v-7h2v7zm4 0h-2V7h2v10zm4 0h-2v-4h2v4z\"/>\n",
              "    </g>\n",
              "</svg>\n",
              "  </button>\n",
              "\n",
              "<style>\n",
              "  .colab-df-quickchart {\n",
              "      --bg-color: #E8F0FE;\n",
              "      --fill-color: #1967D2;\n",
              "      --hover-bg-color: #E2EBFA;\n",
              "      --hover-fill-color: #174EA6;\n",
              "      --disabled-fill-color: #AAA;\n",
              "      --disabled-bg-color: #DDD;\n",
              "  }\n",
              "\n",
              "  [theme=dark] .colab-df-quickchart {\n",
              "      --bg-color: #3B4455;\n",
              "      --fill-color: #D2E3FC;\n",
              "      --hover-bg-color: #434B5C;\n",
              "      --hover-fill-color: #FFFFFF;\n",
              "      --disabled-bg-color: #3B4455;\n",
              "      --disabled-fill-color: #666;\n",
              "  }\n",
              "\n",
              "  .colab-df-quickchart {\n",
              "    background-color: var(--bg-color);\n",
              "    border: none;\n",
              "    border-radius: 50%;\n",
              "    cursor: pointer;\n",
              "    display: none;\n",
              "    fill: var(--fill-color);\n",
              "    height: 32px;\n",
              "    padding: 0;\n",
              "    width: 32px;\n",
              "  }\n",
              "\n",
              "  .colab-df-quickchart:hover {\n",
              "    background-color: var(--hover-bg-color);\n",
              "    box-shadow: 0 1px 2px rgba(60, 64, 67, 0.3), 0 1px 3px 1px rgba(60, 64, 67, 0.15);\n",
              "    fill: var(--button-hover-fill-color);\n",
              "  }\n",
              "\n",
              "  .colab-df-quickchart-complete:disabled,\n",
              "  .colab-df-quickchart-complete:disabled:hover {\n",
              "    background-color: var(--disabled-bg-color);\n",
              "    fill: var(--disabled-fill-color);\n",
              "    box-shadow: none;\n",
              "  }\n",
              "\n",
              "  .colab-df-spinner {\n",
              "    border: 2px solid var(--fill-color);\n",
              "    border-color: transparent;\n",
              "    border-bottom-color: var(--fill-color);\n",
              "    animation:\n",
              "      spin 1s steps(1) infinite;\n",
              "  }\n",
              "\n",
              "  @keyframes spin {\n",
              "    0% {\n",
              "      border-color: transparent;\n",
              "      border-bottom-color: var(--fill-color);\n",
              "      border-left-color: var(--fill-color);\n",
              "    }\n",
              "    20% {\n",
              "      border-color: transparent;\n",
              "      border-left-color: var(--fill-color);\n",
              "      border-top-color: var(--fill-color);\n",
              "    }\n",
              "    30% {\n",
              "      border-color: transparent;\n",
              "      border-left-color: var(--fill-color);\n",
              "      border-top-color: var(--fill-color);\n",
              "      border-right-color: var(--fill-color);\n",
              "    }\n",
              "    40% {\n",
              "      border-color: transparent;\n",
              "      border-right-color: var(--fill-color);\n",
              "      border-top-color: var(--fill-color);\n",
              "    }\n",
              "    60% {\n",
              "      border-color: transparent;\n",
              "      border-right-color: var(--fill-color);\n",
              "    }\n",
              "    80% {\n",
              "      border-color: transparent;\n",
              "      border-right-color: var(--fill-color);\n",
              "      border-bottom-color: var(--fill-color);\n",
              "    }\n",
              "    90% {\n",
              "      border-color: transparent;\n",
              "      border-bottom-color: var(--fill-color);\n",
              "    }\n",
              "  }\n",
              "</style>\n",
              "\n",
              "  <script>\n",
              "    async function quickchart(key) {\n",
              "      const quickchartButtonEl =\n",
              "        document.querySelector('#' + key + ' button');\n",
              "      quickchartButtonEl.disabled = true;  // To prevent multiple clicks.\n",
              "      quickchartButtonEl.classList.add('colab-df-spinner');\n",
              "      try {\n",
              "        const charts = await google.colab.kernel.invokeFunction(\n",
              "            'suggestCharts', [key], {});\n",
              "      } catch (error) {\n",
              "        console.error('Error during call to suggestCharts:', error);\n",
              "      }\n",
              "      quickchartButtonEl.classList.remove('colab-df-spinner');\n",
              "      quickchartButtonEl.classList.add('colab-df-quickchart-complete');\n",
              "    }\n",
              "    (() => {\n",
              "      let quickchartButtonEl =\n",
              "        document.querySelector('#df-e25a7978-25ea-4c10-97d2-88f6806fc5ca button');\n",
              "      quickchartButtonEl.style.display =\n",
              "        google.colab.kernel.accessAllowed ? 'block' : 'none';\n",
              "    })();\n",
              "  </script>\n",
              "</div>\n",
              "    </div>\n",
              "  </div>\n"
            ],
            "text/plain": [
              "  value  frequency\n",
              "0   SMA        132\n",
              "1    S1        114\n",
              "2    S2         17\n",
              "3    D3         16\n",
              "4    D4          4\n",
              "5    S3          1"
            ]
          },
          "execution_count": 20,
          "metadata": {},
          "output_type": "execute_result"
        }
      ],
      "source": [
        "pendidikan_freq = get_unique_values_and_frequencies(df, 'Pendidikan Terakhir')\n",
        "\n",
        "pendidikan_freq"
      ]
    },
    {
      "cell_type": "markdown",
      "metadata": {
        "id": "vHN6BkqaHW29"
      },
      "source": [
        "## **Function**\n",
        "\n"
      ]
    },
    {
      "cell_type": "code",
      "execution_count": 14,
      "metadata": {
        "id": "XwmWG1bHHYp3"
      },
      "outputs": [],
      "source": [
        "def get_unique_values_and_frequencies(df, column_name):\n",
        "    \"\"\"\n",
        "    Returns a DataFrame showing unique values and their frequencies in a specified column.\n",
        "\n",
        "    Args:\n",
        "        df (pd.DataFrame): The DataFrame containing the data.\n",
        "        column_name (str): The name of the column to analyze.\n",
        "\n",
        "    Returns:\n",
        "        pd.DataFrame: A DataFrame with two columns: 'value' and 'frequency'.\n",
        "    \"\"\"\n",
        "\n",
        "    unique_values = df[column_name].unique()\n",
        "    frequencies = df[column_name].value_counts().reset_index(name='frequency')\n",
        "    frequencies.columns = ['value', 'frequency']\n",
        "\n",
        "    return frequencies"
      ]
    },
    {
      "cell_type": "code",
      "execution_count": 15,
      "metadata": {
        "id": "hi92dNEKIenp"
      },
      "outputs": [],
      "source": [
        "def get_unique_values_and_frequencies_for_matching_columns(df, column_name_prefix):\n",
        "    \"\"\"\n",
        "    Returns a DataFrame with unique values and frequencies for all columns starting with a given prefix.\n",
        "\n",
        "    Args:\n",
        "        df (pd.DataFrame): The DataFrame containing the data.\n",
        "        column_name_prefix (str): The prefix to search for in column names.\n",
        "\n",
        "    Returns:\n",
        "        pd.DataFrame: A DataFrame with columns 'column', 'value', and 'frequency'.\n",
        "    \"\"\"\n",
        "\n",
        "    results = []\n",
        "\n",
        "    for column in df.columns:\n",
        "        if column.startswith(column_name_prefix):\n",
        "            frequencies = df[column].value_counts().reset_index(name='frequency')\n",
        "            frequencies['column'] = column\n",
        "            results.append(frequencies)\n",
        "\n",
        "    return pd.concat(results, ignore_index=True)"
      ]
    },
    {
      "cell_type": "code",
      "execution_count": 16,
      "metadata": {
        "id": "6WvnyCUiKLQF"
      },
      "outputs": [],
      "source": [
        "def filter_and_get_data(df, column1, value1, column2):\n",
        "    \"\"\"\n",
        "    Filters a DataFrame based on a value in column1 and returns data from specific columns.\n",
        "\n",
        "    Args:\n",
        "        df (pd.DataFrame): The DataFrame containing the data.\n",
        "        column1 (str): The name of the column to filter on.\n",
        "        value1 (str): The value to filter for in column1.\n",
        "        column2 (str): The name of the column to include in the output DataFrame.\n",
        "\n",
        "    Returns:\n",
        "        pd.DataFrame: A DataFrame containing data for the filtered rows.\n",
        "    \"\"\"\n",
        "\n",
        "    filtered_df = df[df[column1] == value1]\n",
        "\n",
        "    if filtered_df.empty:\n",
        "        print(f\"No data found for value '{value1}' in column '{column1}'.\")\n",
        "        return pd.DataFrame()\n",
        "    else:\n",
        "        # Include additional columns if needed\n",
        "        # filtered_df = filtered_df[[column2, ...other_columns...]]\n",
        "        return filtered_df[[column2]]"
      ]
    },
    {
      "cell_type": "code",
      "execution_count": 17,
      "metadata": {
        "id": "wSeNhTg5RliF"
      },
      "outputs": [],
      "source": [
        "def get_no_answer_df(df, columnstart):\n",
        "    \"\"\"\n",
        "    Return dataframe that doesn't answer any of column starting with \"columnstart\"\n",
        "\n",
        "    Args:\n",
        "        df (pd.DataFrame): Input dataframe\n",
        "        columnstart (str): Prefix of column names to filter\n",
        "\n",
        "    Returns:\n",
        "        pd.DataFrame: Dataframe with no answer\n",
        "    \"\"\"\n",
        "\n",
        "    matching_columns = [col for col in df.columns if col.startswith(columnstart)]\n",
        "    return df[df[matching_columns].isna().all(axis=1)]"
      ]
    },
    {
      "cell_type": "markdown",
      "metadata": {
        "id": "LfSaEL5NYXdf"
      },
      "source": [
        "## **Preliminary EDA**"
      ]
    },
    {
      "cell_type": "code",
      "execution_count": 21,
      "metadata": {
        "colab": {
          "base_uri": "https://localhost:8080/"
        },
        "id": "ymGfq2p1YWAB",
        "outputId": "3531bd49-f8a8-4fbc-9b27-98799383d9c3"
      },
      "outputs": [
        {
          "name": "stdout",
          "output_type": "stream",
          "text": [
            "(284, 150)\n"
          ]
        }
      ],
      "source": [
        "n_row = df.shape[0]\n",
        "n_column = df.shape[1]\n",
        "print(df.shape)"
      ]
    },
    {
      "cell_type": "code",
      "execution_count": 62,
      "metadata": {
        "id": "1jmI6ZHyZmcy"
      },
      "outputs": [],
      "source": [
        "# list all attributes\n",
        "attributes = df.transpose()\n",
        "\n",
        "attributes = attributes.reset_index()\n",
        "attributes = attributes.rename(columns={'index': 'attribute'})\n",
        "attributes = attributes.drop(attributes.columns[1:], axis=1)\n",
        "\n",
        "# list all missing values\n",
        "missing_values = []\n",
        "for i in range(df.shape[1]):\n",
        "    missing_values.append(df.iloc[:, i].isnull().sum())\n",
        "attributes['missing_values'] = missing_values"
      ]
    },
    {
      "cell_type": "markdown",
      "metadata": {
        "id": "ScGw43c0ceXb"
      },
      "source": [
        "### **Conclusion**\n",
        "\n",
        "Ukuran sampel dataset adalah 284 data.\n",
        "\n",
        "Jumlah atribut dataset adalah 150.\n",
        "\n",
        "Jumlah missing value per atribut adalah sebagai berikut:"
      ]
    },
    {
      "cell_type": "code",
      "execution_count": null,
      "metadata": {
        "colab": {
          "base_uri": "https://localhost:8080/"
        },
        "id": "ryZHhrZliOWI",
        "outputId": "4d209cb9-adbe-45dc-ddf3-463d379783a9"
      },
      "outputs": [
        {
          "name": "stdout",
          "output_type": "stream",
          "text": [
            "Jenis Kelamin : 0\n",
            "Usia : 0\n",
            "Pendidikan Terakhir : 0\n",
            "Pekerjaan : 0\n",
            "Penghasilan per Bulan : 0\n",
            "Domisili : 0\n",
            "Durasi Penggunaan Internet per Hari (dalam Jam) : 78\n",
            "Aktivitas Online Meningkat : 0\n",
            "Aktivitas yang Meningkat dalam 3 Bulan Terakhir : 114\n",
            "layanan_aktif_1 : 42\n",
            "layanan_aktif_2 : 106\n",
            "layanan_aktif_3 : 257\n",
            "layanan_aktif_4 : 228\n",
            "layanan_aktif_5 : 259\n",
            "layanan_aktif_6 : 269\n",
            "bank_1 : 223\n",
            "bank_2 : 201\n",
            "bank_3 : 131\n",
            "bank_4 : 270\n",
            "bank_5 : 226\n",
            "bank_6 : 277\n",
            "bank_7 : 272\n",
            "18. Bagaimana frekuensi penggunaan Channel Bank berikut? [ATM] : 37\n",
            "18. Bagaimana frekuensi penggunaan Channel Bank berikut? [Internet Banking ] : 171\n",
            "18. Bagaimana frekuensi penggunaan Channel Bank berikut? [Mobile Banking ] : 34\n",
            "18. Bagaimana frekuensi penggunaan Channel Bank berikut? [SMS Banking] : 215\n",
            "18. Bagaimana frekuensi penggunaan Channel Bank berikut? [Datang ke cabang bank] : 197\n",
            "19. Manakah channel/ layanan yang lebih Anda sukai ketika Anda akan menggunakan fitur-fitur layanan perbankan berikut? [Cek Saldo ] : 35\n",
            "19. Manakah channel/ layanan yang lebih Anda sukai ketika Anda akan menggunakan fitur-fitur layanan perbankan berikut? [Mutasi Rekening] : 74\n",
            "19. Manakah channel/ layanan yang lebih Anda sukai ketika Anda akan menggunakan fitur-fitur layanan perbankan berikut? [Transfer antar rekening (sesama bank)] : 33\n",
            "19. Manakah channel/ layanan yang lebih Anda sukai ketika Anda akan menggunakan fitur-fitur layanan perbankan berikut? [Transfer antar bank] : 47\n",
            "19. Manakah channel/ layanan yang lebih Anda sukai ketika Anda akan menggunakan fitur-fitur layanan perbankan berikut? [Pembelian Pulsa, eMoney atau voucher-voucher lain] : 49\n",
            "19. Manakah channel/ layanan yang lebih Anda sukai ketika Anda akan menggunakan fitur-fitur layanan perbankan berikut? [Pembayaran Tagihan] : 70\n",
            "keluhan_1 : 64\n",
            "keluhan_2 : 239\n",
            "keluhan_3 : 265\n",
            "keluhan_4 : 271\n",
            "emoney_pilihan_1 : 70\n",
            "emoney_pilihan_2 : 121\n",
            "emoney_pilihan_3 : 112\n",
            "emoney_pilihan_4 : 179\n",
            "emoney_pilihan_5 : 198\n",
            "emoney_pilihan_6 : 215\n",
            "emoney_pilihan_7 : 235\n",
            "emoney_pilihan_8 : 266\n",
            "emoney_pilihan_9 : 266\n",
            "emoney_pilihan_10 : 282\n",
            "emoney_pilihan_11 : 281\n",
            "alasan_pakai_emoney_1 : 79\n",
            "alasan_pakai_emoney_2 : 86\n",
            "alasan_pakai_emoney_3 : 147\n",
            "alasan_pakai_emoney_4 : 160\n",
            "alasan_pakai_emoney_5 : 207\n",
            "penggunaan_emoney_1 : 83\n",
            "penggunaan_emoney_2 : 108\n",
            "penggunaan_emoney_3 : 109\n",
            "penggunaan_emoney_4 : 151\n",
            "penggunaan_emoney_5 : 153\n",
            "penggunaan_emoney_6 : 152\n",
            "penggunaan_emoney_7 : 160\n",
            "penggunaan_emoney_8 : 176\n",
            "penggunaan_emoney_9 : 196\n",
            "penggunaan_emoney_10 : 220\n",
            "cara_topup_emoney_1 : 57\n",
            "cara_topup_emoney_2 : 237\n",
            "cara_topup_emoney_3 : 240\n",
            "cara_topup_emoney_4 : 257\n",
            "cara_topup_emoney_5 : 278\n",
            "cara_topup_emoney_6 : 282\n",
            "cara_topup_emoney_7 : 282\n",
            "39. Berapa biasanya nominal Anda melakukan top up/ isi ulang? : 20\n",
            "40. Berapa frekuensi top up/ Isi ulang ? : 19\n",
            "keluhan_emoney_1 : 183\n",
            "keluhan_emoney_2 : 214\n",
            "keluhan_emoney_3 : 257\n",
            "keluhan_emoney_4 : 272\n",
            "penggunaan_qr_1 : 85\n",
            "penggunaan_qr_2 : 127\n",
            "penggunaan_qr_3 : 163\n",
            "penggunaan_qr_4 : 250\n",
            "lokasi_qr_1 : 102\n",
            "lokasi_qr_2 : 118\n",
            "lokasi_qr_3 : 147\n",
            "lokasi_qr_4 : 169\n",
            "lokasi_qr_5 : 176\n",
            "lokasi_qr_6 : 257\n",
            "45. Bagaimana frekuensi Anda melakukan belanja online dalam 6 bulan terakhir? : 1\n",
            "belanja_online_meningkat_6bln_terakhir_1 : 188\n",
            "belanja_online_meningkat_6bln_terakhir_2 : 215\n",
            "belanja_online_meningkat_6bln_terakhir_3 : 222\n",
            "belanja_online_meningkat_6bln_terakhir_4 : 245\n",
            "belanja_online_meningkat_6bln_terakhir_5 : 245\n",
            "belanja_online_meningkat_6bln_terakhir_6 : 243\n",
            "belanja_online_meningkat_6bln_terakhir_7 : 244\n",
            "belanja_online_meningkat_6bln_terakhir_8 : 259\n",
            "belanja_online_meningkat_6bln_terakhir_9 : 272\n",
            "belanja_online_meningkat_6bln_terakhir_10 : 272\n",
            "47. Bagaimana kecenderungan Anda jika akan berbelanja hal-hal berikut? [fashion & mode] : 27\n",
            "47. Bagaimana kecenderungan Anda jika akan berbelanja hal-hal berikut? [groceries / keperluan sehari- hari] : 19\n",
            "47. Bagaimana kecenderungan Anda jika akan berbelanja hal-hal berikut? [handphone] : 30\n",
            "47. Bagaimana kecenderungan Anda jika akan berbelanja hal-hal berikut? [laptop/computer] : 30\n",
            "47. Bagaimana kecenderungan Anda jika akan berbelanja hal-hal berikut? [alat elektronik rumah tangga] : 34\n",
            "47. Bagaimana kecenderungan Anda jika akan berbelanja hal-hal berikut? [kosmetik & alat kecantikan/ perawatan badan] : 33\n",
            "47. Bagaimana kecenderungan Anda jika akan berbelanja hal-hal berikut? [buku, hobi & koleksi] : 31\n",
            "47. Bagaimana kecenderungan Anda jika akan berbelanja hal-hal berikut? [pulsa (data & komunikasi)] : 19\n",
            "47. Bagaimana kecenderungan Anda jika akan berbelanja hal-hal berikut? [makanan & minuman] : 20\n",
            "47. Bagaimana kecenderungan Anda jika akan berbelanja hal-hal berikut? [tiket pesawat tiket kereta api hotel] : 25\n",
            "47. Bagaimana kecenderungan Anda jika akan berbelanja hal-hal berikut? [tiket bioskop tiket wisata] : 30\n",
            "tempat_belanja_online_1 : 23\n",
            "tempat_belanja_online_2 : 81\n",
            "tempat_belanja_online_3 : 244\n",
            "tempat_belanja_online_4 : 251\n",
            "tempat_belanja_online_5 : 256\n",
            "tempat_belanja_online_6 : 271\n",
            "tempat_belanja_online_7 : 277\n",
            "tempat_belanja_online_8 : 280\n",
            "ecommerce_pilihan_1 : 66\n",
            "ecommerce_pilihan_2 : 87\n",
            "ecommerce_pilihan_3 : 102\n",
            "ecommerce_pilihan_4 : 169\n",
            "ecommerce_pilihan_5 : 240\n",
            "ecommerce_pilihan_6 : 265\n",
            "ecommerce_pilihan_7 : 264\n",
            "ecommerce_pilihan_8 : 262\n",
            "ecommerce_pilihan_9 : 279\n",
            "ecommerce_pilihan_10 : 280\n",
            "ecommerce_pilihan_11 : 281\n",
            "ecommerce_pilihan_12 : 282\n",
            "50. Apakah Anda pernah menggunakan layanan Food Delivery (pembelian makanan/ minuman secara online )? Jika Pernah, mohon sebutkan layanan yang PALING sering Anda gunakan? : 0\n",
            "alasan_belanja_offline_1 : 54\n",
            "alasan_belanja_offline_2 : 88\n",
            "alasan_belanja_offline_3 : 143\n",
            "alasan_belanja_offline_4 : 158\n",
            "alasan_belanja_offline_5 : 178\n",
            "alasan_belanja_offline_6 : 247\n",
            "alasan_belanja_offline_7 : 278\n",
            "cara_pembayaran_belanja_online_1 : 111\n",
            "cara_pembayaran_belanja_online_2 : 124\n",
            "cara_pembayaran_belanja_online_3 : 149\n",
            "cara_pembayaran_belanja_online_4 : 218\n",
            "cara_pembayaran_belanja_online_5 : 238\n",
            "cara_pembayaran_belanja_online_6 : 244\n",
            "cara_pembayaran_belanja_online_7 : 261\n",
            "cara_pembayaran_belanja_online_8 : 267\n",
            "keluhan_belanja_online_1 : 108\n",
            "keluhan_belanja_online_2 : 188\n",
            "keluhan_belanja_online_3 : 206\n",
            "keluhan_belanja_online_4 : 223\n",
            "keluhan_belanja_online_5 : 255\n",
            "keluhan_belanja_online_6 : 272\n"
          ]
        }
      ],
      "source": [
        "for index, row in attributes.iterrows():\n",
        "    print(row['attribute'], \":\", row['missing_values'])"
      ]
    },
    {
      "cell_type": "markdown",
      "metadata": {
        "id": "HtPnL-Zjo28R"
      },
      "source": [
        "**Catatan**: Beberapa atribut merupakan hasil dari multiple choice"
      ]
    },
    {
      "cell_type": "markdown",
      "metadata": {
        "id": "V0gnW_7Vc9qn"
      },
      "source": [
        "## **Visualisasi Data**"
      ]
    },
    {
      "cell_type": "code",
      "execution_count": 23,
      "metadata": {
        "id": "HegZK7TsM9Yq"
      },
      "outputs": [],
      "source": [
        "import matplotlib.pyplot as plt"
      ]
    },
    {
      "cell_type": "markdown",
      "metadata": {
        "id": "__kAPPo9dy4W"
      },
      "source": [
        "### Pie Chart Proporsi Jenis Kelamin Responden"
      ]
    },
    {
      "cell_type": "code",
      "execution_count": 24,
      "metadata": {
        "colab": {
          "base_uri": "https://localhost:8080/",
          "height": 428
        },
        "id": "-6xUx2MkdCTv",
        "outputId": "69aa76ed-c02c-4214-de5d-de70e1c43896"
      },
      "outputs": [
        {
          "data": {
            "image/png": "[encoded data removed]",
            "text/plain": [
              "<Figure size 640x480 with 1 Axes>"
            ]
          },
          "metadata": {},
          "output_type": "display_data"
        }
      ],
      "source": [
        "jenis_kelamin = df[\"Jenis Kelamin\"]\n",
        "\n",
        "gender_counts = jenis_kelamin.value_counts()\n",
        "\n",
        "plt.pie(gender_counts, labels=gender_counts.index, autopct=\"%1.1f%%\")\n",
        "plt.title(\"Proporsi Jenis Kelamin Responden\")\n",
        "plt.show()"
      ]
    },
    {
      "cell_type": "markdown",
      "metadata": {
        "id": "PHPmO6enfSqX"
      },
      "source": [
        "Diperoleh proporsi wanita sebesar 51.4% dan pria sebesar 48.6%. Proporsi ini cukup seimbang, menunjukkan bahwa data yang diperoleh tidak bias antara salah satu gender."
      ]
    },
    {
      "cell_type": "markdown",
      "metadata": {
        "id": "l1-4i3XLgXPY"
      },
      "source": [
        "### Histogram Distribusi Usia Responden"
      ]
    },
    {
      "cell_type": "code",
      "execution_count": 25,
      "metadata": {
        "colab": {
          "base_uri": "https://localhost:8080/",
          "height": 472
        },
        "id": "4ELZ0Imngkn0",
        "outputId": "93dc2c8e-7fd8-404f-959a-4c337362c777"
      },
      "outputs": [
        {
          "data": {
            "image/png": "[encoded data removed]",
            "text/plain": [
              "<Figure size 640x480 with 1 Axes>"
            ]
          },
          "metadata": {},
          "output_type": "display_data"
        }
      ],
      "source": [
        "usia = df[\"Usia\"]\n",
        "\n",
        "plt.hist(usia, bins=10, edgecolor=\"black\")\n",
        "plt.xlabel(\"Usia\")\n",
        "plt.ylabel(\"Jumlah Responden\")\n",
        "plt.title(\"Histogram Usia Responden\")\n",
        "plt.show()"
      ]
    },
    {
      "cell_type": "markdown",
      "metadata": {
        "id": "_mZ9sloLhQY1"
      },
      "source": [
        "Distribusi usia responden tampak tidak simetris dengan kecenderungan lebih banyak responden yang berusia muda dibandingkan usia tua. Sebagian besar responden terkonsentrasi pada rentang usia 20-an dan 30-an.\n",
        "\n",
        "Kelompok usia dengan jumlah responden terbanyak adalah sekitar awal 20-an. Kelompok usia ini umum menjadi target utama pemasaran online karena mereka aktif berbelanja dan menggunakan internet."
      ]
    },
    {
      "cell_type": "markdown",
      "metadata": {
        "id": "DohlOfXEihjS"
      },
      "source": [
        "### Bar Chart Distribusi Pendidikan Terakhir Responden"
      ]
    },
    {
      "cell_type": "code",
      "execution_count": 26,
      "metadata": {
        "colab": {
          "base_uri": "https://localhost:8080/",
          "height": 472
        },
        "id": "3LAYhdq4nfc0",
        "outputId": "050625e4-d4dc-46b9-a6ac-87025c72719b"
      },
      "outputs": [
        {
          "data": {
            "image/png": "[encoded data removed]",
            "text/plain": [
              "<Figure size 640x480 with 1 Axes>"
            ]
          },
          "metadata": {},
          "output_type": "display_data"
        }
      ],
      "source": [
        "education_level = df[\"Pendidikan Terakhir\"]\n",
        "\n",
        "plt.bar(education_level.unique(), education_level.value_counts())\n",
        "\n",
        "plt.xlabel(\"Tingkat Pendidikan\")\n",
        "plt.ylabel(\"Jumlah\")\n",
        "plt.title(\"Distribusi Tingkat Pendidikan Responden\")\n",
        "\n",
        "plt.show()"
      ]
    },
    {
      "cell_type": "markdown",
      "metadata": {
        "id": "o9p2_IS4nvG0"
      },
      "source": [
        "Diperoleh mayoritas responden memiliki tingkat pendidikan terakhir SMA, diikuti dengan D3 lalu S1. Data ini menunjukkan mayoritas responden masih belum mencapai tingkat perguruan tinggi. Persentase ini cukup tertinggal dari tingkat pendidikan negara-negara maju."
      ]
    },
    {
      "cell_type": "markdown",
      "metadata": {
        "id": "7gDEPMoSoWYb"
      },
      "source": [
        "### Violin Plot Penghasilan per Bulan Responden Berdasarkan Usia dan Jenis Kelamin"
      ]
    },
    {
      "cell_type": "code",
      "execution_count": 28,
      "metadata": {
        "colab": {
          "base_uri": "https://localhost:8080/",
          "height": 412
        },
        "id": "5joCl4JlrOFA",
        "outputId": "2c384dda-0d0c-45f9-d157-a6c7a0d577b4"
      },
      "outputs": [
        {
          "data": {
            "image/png": "[encoded data removed]",
            "text/plain": [
              "<Figure size 640x480 with 1 Axes>"
            ]
          },
          "metadata": {},
          "output_type": "display_data"
        }
      ],
      "source": [
        "import seaborn as sns\n",
        "\n",
        "sns.violinplot(x=\"Usia\", y=\"Penghasilan per Bulan\", hue=\"Jenis Kelamin\", data=df, split=True, inner=\"quart\")\n",
        "\n",
        "plt.xlabel(\"Usia\")\n",
        "plt.ylabel(\"Penghasilan per Bulan (Rp)\")\n",
        "plt.title(\"Distribusi Penghasilan di Indonesia berdasarkan Usia dan Jenis Kelamin\")\n",
        "plt.legend(title=\"Jenis Kelamin\")\n",
        "\n",
        "plt.show()"
      ]
    },
    {
      "cell_type": "markdown",
      "metadata": {
        "id": "gEKxdzUSrdQp"
      },
      "source": [
        "Responden pada rentang usia awal 20-an cenderung memiliki penghasilan <5 juta untuk pria dan wanita. Pada rentang usia lain, penghasilan responden umumnya berada pada rentang 5-10 juta. Terdapat lebih banyak wanita dengan penghasilan >10 juta dibandingkann pria dalam kategori serupa. Kebanyakan pria dan wanita dengan penghasilan >10 juta berada pada rentang umur mendekati 50-60."
      ]
    },
    {
      "cell_type": "markdown",
      "metadata": {
        "id": "hWJ5AZlusOzM"
      },
      "source": [
        "### Horizontal Bar Chart Distribusi Pekerjaan"
      ]
    },
    {
      "cell_type": "code",
      "execution_count": 29,
      "metadata": {
        "colab": {
          "base_uri": "https://localhost:8080/",
          "height": 345
        },
        "id": "AOpW6L4puZaz",
        "outputId": "acb6688e-4c59-4ff4-ca40-1650efc3527c"
      },
      "outputs": [
        {
          "data": {
            "image/png": "[encoded data removed]",
            "text/plain": [
              "<Figure size 640x480 with 1 Axes>"
            ]
          },
          "metadata": {},
          "output_type": "display_data"
        }
      ],
      "source": [
        "job_distribution = df[\"Pekerjaan\"].value_counts()\n",
        "\n",
        "plt.barh(job_distribution.index, job_distribution.values)\n",
        "\n",
        "plt.xlabel(\"Jumlah\")\n",
        "plt.ylabel(\"Pekerjaan\")\n",
        "\n",
        "plt.show()"
      ]
    },
    {
      "cell_type": "markdown",
      "metadata": {
        "id": "Rc716yrkuduJ"
      },
      "source": [
        "Mayoritas responden merupakan Pelajar/Mahasiswa, diikuti dengan Karyawan Swasta dan Pegawai Negeri. Hal ini sesuai dengan rentang usia responden yang mayoritas berusia awal 20-an."
      ]
    },
    {
      "cell_type": "markdown",
      "metadata": {
        "id": "QLosMIEmu8eq"
      },
      "source": [
        "### Scatter Plot Aktivitas Online Meningkat dan Usia"
      ]
    },
    {
      "cell_type": "code",
      "execution_count": 30,
      "metadata": {
        "colab": {
          "base_uri": "https://localhost:8080/",
          "height": 596
        },
        "id": "TVLj8x0q04xw",
        "outputId": "ec443674-46ec-4c3a-8f7e-8d2b5106d830"
      },
      "outputs": [
        {
          "name": "stderr",
          "output_type": "stream",
          "text": [
            "<ipython-input-30-28360e75fe96>:3: SettingWithCopyWarning: \n",
            "A value is trying to be set on a copy of a slice from a DataFrame.\n",
            "Try using .loc[row_indexer,col_indexer] = value instead\n",
            "\n",
            "See the caveats in the documentation: https://pandas.pydata.org/pandas-docs/stable/user_guide/indexing.html#returning-a-view-versus-a-copy\n",
            "  aom[\"Aktivitas Online Meningkat\"] = aom[\"Aktivitas Online Meningkat\"].replace({\n"
          ]
        },
        {
          "data": {
            "image/png": "[encoded data removed]",
            "text/plain": [
              "<Figure size 640x480 with 1 Axes>"
            ]
          },
          "metadata": {},
          "output_type": "display_data"
        }
      ],
      "source": [
        "aom = df[[\"Aktivitas Online Meningkat\", \"Usia\"]]\n",
        "\n",
        "aom[\"Aktivitas Online Meningkat\"] = aom[\"Aktivitas Online Meningkat\"].replace({\n",
        "    \"Ya\": 1,\n",
        "    \"Tidak\": 0,\n",
        "    \"Sama saja\": 0.5\n",
        "})\n",
        "\n",
        "plt.scatter(aom[\"Usia\"], aom[\"Aktivitas Online Meningkat\"], label=\"Aktivitas online meningkat\")\n",
        "plt.xlabel(\"Usia (tahun)\")\n",
        "plt.ylabel(\"Aktivitas online meningkat\")\n",
        "plt.title(\"Hubungan Aktivitas Online Meningkat dengan Usia\")\n",
        "plt.legend()\n",
        "plt.show()\n"
      ]
    },
    {
      "cell_type": "markdown",
      "metadata": {
        "id": "qhD4Bkpr1Igc"
      },
      "source": [
        "Diperoleh aktivitas online meningkat lebih padat pada rentang usia awal 20-an. Sementara itu, pada usia 50-an, tren cenderung meningkat atau sama saja. Lebih sedikit responden yang cenderung mengurangi aktivitas online."
      ]
    },
    {
      "cell_type": "markdown",
      "metadata": {
        "id": "5n4N8kE_VkFT"
      },
      "source": [
        "## **Univariate EDA**"
      ]
    },
    {
      "cell_type": "code",
      "execution_count": 33,
      "metadata": {
        "id": "fiMCXgQ4aZnz"
      },
      "outputs": [],
      "source": [
        "import numpy as np\n",
        "import scipy.stats as stats"
      ]
    },
    {
      "cell_type": "markdown",
      "metadata": {
        "id": "pQo263l7xnhK"
      },
      "source": [
        "### Confidence Interval 95% for One-Sample Proportion\n",
        "\n",
        "\n",
        "---"
      ]
    },
    {
      "cell_type": "markdown",
      "metadata": {
        "id": "JmoXvMp5cP2F"
      },
      "source": [
        "#### Proporsi responden Pria dalam keseluruhan responden\n",
        "\n",
        "- Atribut: Jenis Kelamin\n",
        "- Jumlah data: 284\n",
        "- Jumlah missing values: 0"
      ]
    },
    {
      "cell_type": "code",
      "execution_count": 31,
      "metadata": {
        "colab": {
          "base_uri": "https://localhost:8080/"
        },
        "id": "AFb8uy7rVncd",
        "outputId": "0168f737-fdb1-4e2d-d858-da98e782fec6"
      },
      "outputs": [
        {
          "name": "stdout",
          "output_type": "stream",
          "text": [
            "proportion: 0.4859154929577465\n"
          ]
        }
      ],
      "source": [
        "prop = (df['Jenis Kelamin'] == 'Pria').sum() / len(df)\n",
        "print(\"proportion:\", prop)"
      ]
    },
    {
      "cell_type": "code",
      "execution_count": 34,
      "metadata": {
        "colab": {
          "base_uri": "https://localhost:8080/"
        },
        "id": "2oyoTq5QzThV",
        "outputId": "9a18f503-bc67-4f7f-d4ce-bf0600201d07"
      },
      "outputs": [
        {
          "name": "stdout",
          "output_type": "stream",
          "text": [
            "margin of error: 0.058128156802420484\n",
            "lower bound: 0.427787336155326\n",
            "upper bound: 0.544043649760167\n"
          ]
        }
      ],
      "source": [
        "alpha = 0.05\n",
        "n = len(df)\n",
        "z = stats.norm.ppf(1 - alpha / 2)\n",
        "\n",
        "mor = z * np.sqrt(prop * (1 - prop) / n)\n",
        "\n",
        "lower_bound = prop - mor\n",
        "upper_bound = prop + mor\n",
        "\n",
        "print(\"margin of error:\", mor)\n",
        "print(\"lower bound:\", lower_bound)\n",
        "print(\"upper bound:\", upper_bound)"
      ]
    },
    {
      "cell_type": "markdown",
      "metadata": {
        "id": "GHxdju8UcbQe"
      },
      "source": [
        "#### **Insight**\n",
        "Berdasarkan confidence interval 95%, proporsi responden pria dalam dataset ini adalah antara 42.8% dan 54.4% dengan margin of error 0.06.\n",
        "\n",
        "Berdasarkan confidence interval 95%, proporsi responden pria dalam dataset ini adalah antara 42.8% dan 54.4% dengan margin of error 0.06.\n",
        "\n",
        "Berdasarkan insight ini, kita dapat menyimpulkan bahwa proporsi responden pria dalam dataset ini kemungkinan besar berada di kisaran 42% hingga 54%. Margin of error sebesar 0,06 menunjukkan bahwa proporsi responden pria dalam dataset ini mungkin berbeda dari yang sebenarnya sebesar 0,06%.\n",
        "\n",
        "Proporsi ini cukup seimbang, menandakan adanya keseimbangan gender dalam partisipasi survey ini. Keseimbangan data berkaitan dengan keakuratan data. Data yang seimbang cenderung lebih netral dalam merepresentasikan tren antara kedua gender. Kesimpulannya, data ini cukup baik untuk menganalisis tren dalam kedua gender."
      ]
    },
    {
      "cell_type": "markdown",
      "metadata": {
        "id": "cZ20L0s4cbQc"
      },
      "source": [
        "#### Proporsi responden dengan aktivitas online meningkat\n",
        "\n",
        "- Atribut: Aktivitas Online Meningkat\n",
        "- Jumlah data: 284\n",
        "- Jumlah missing values: 0"
      ]
    },
    {
      "cell_type": "code",
      "execution_count": 35,
      "metadata": {
        "colab": {
          "base_uri": "https://localhost:8080/"
        },
        "id": "0wWLHg4pcbQd",
        "outputId": "9088e5d0-fc20-46bf-bef6-3bc30539b1d0"
      },
      "outputs": [
        {
          "name": "stdout",
          "output_type": "stream",
          "text": [
            "proportion: 0.4788732394366197\n"
          ]
        }
      ],
      "source": [
        "prop = (df['Aktivitas Online Meningkat'] == 'Ya').sum() / len(df)\n",
        "print(\"proportion:\", prop)"
      ]
    },
    {
      "cell_type": "code",
      "execution_count": 36,
      "metadata": {
        "colab": {
          "base_uri": "https://localhost:8080/"
        },
        "id": "rc-Yco53cbQd",
        "outputId": "19207f53-6b59-4eaa-a72c-178446e14f43"
      },
      "outputs": [
        {
          "name": "stdout",
          "output_type": "stream",
          "text": [
            "margin of error: 0.058099299055121206\n",
            "lower bound: 0.4207739403814985\n",
            "upper bound: 0.5369725384917409\n"
          ]
        }
      ],
      "source": [
        "alpha = 0.05\n",
        "n = len(df)\n",
        "z = stats.norm.ppf(1 - alpha / 2)\n",
        "\n",
        "mor = z * np.sqrt(prop * (1 - prop) / n)\n",
        "\n",
        "lower_bound = prop - mor\n",
        "upper_bound = prop + mor\n",
        "\n",
        "print(\"margin of error:\", mor)\n",
        "print(\"lower bound:\", lower_bound)\n",
        "print(\"upper bound:\", upper_bound)"
      ]
    },
    {
      "cell_type": "markdown",
      "metadata": {
        "id": "CblYNdCXcHo5"
      },
      "source": [
        "**Conclusion**\n",
        "\n",
        "Berdasarkan confidence interval 95%, proporsi responden dengan aktivitas online meningkat adalah antara 42.1% dan 53.7% dengan margin of error 0.06."
      ]
    },
    {
      "cell_type": "markdown",
      "metadata": {
        "id": "WRQJlT6y3_Zq"
      },
      "source": [
        "#### Proporsi responden dengan aktivitas online menurun\n",
        "\n",
        "- Atribut: Aktivitas Online Meningkat\n",
        "- Jumlah data: 284\n",
        "- Jumlah missing values: 0"
      ]
    },
    {
      "cell_type": "code",
      "execution_count": 37,
      "metadata": {
        "colab": {
          "base_uri": "https://localhost:8080/"
        },
        "id": "7s8tge7r3_Zq",
        "outputId": "36c51e46-de6c-4225-8cba-c0bc960399b7"
      },
      "outputs": [
        {
          "name": "stdout",
          "output_type": "stream",
          "text": [
            "proportion: 0.13732394366197184\n"
          ]
        }
      ],
      "source": [
        "prop = (df['Aktivitas Online Meningkat'] == 'Tidak').sum() / len(df)\n",
        "print(\"proportion:\", prop)"
      ]
    },
    {
      "cell_type": "code",
      "execution_count": 38,
      "metadata": {
        "colab": {
          "base_uri": "https://localhost:8080/"
        },
        "id": "F2SYllfR3_Zr",
        "outputId": "61c6f929-d360-4371-9c3d-2e47c0d1ba57"
      },
      "outputs": [
        {
          "name": "stdout",
          "output_type": "stream",
          "text": [
            "margin of error: 0.040030031019738\n",
            "lower bound: 0.09729391264223385\n",
            "upper bound: 0.17735397468170983\n"
          ]
        }
      ],
      "source": [
        "alpha = 0.05\n",
        "n = len(df)\n",
        "z = stats.norm.ppf(1 - alpha / 2)\n",
        "\n",
        "mor = z * np.sqrt(prop * (1 - prop) / n)\n",
        "\n",
        "lower_bound = prop - mor\n",
        "upper_bound = prop + mor\n",
        "\n",
        "print(\"margin of error:\", mor)\n",
        "print(\"lower bound:\", lower_bound)\n",
        "print(\"upper bound:\", upper_bound)"
      ]
    },
    {
      "cell_type": "markdown",
      "metadata": {
        "id": "tE-aQfEj3_Zs"
      },
      "source": [
        "**Conclusion**\n",
        "\n",
        "Berdasarkan confidence interval 95%, proporsi responden dengan aktivitas online sama saja adalah antara 9.7% dan 17.7% dengan margin of error 0.04."
      ]
    },
    {
      "cell_type": "markdown",
      "metadata": {
        "id": "u4rCXJBK4rZ-"
      },
      "source": [
        "#### **Insight**\n",
        "\n",
        "Berdasarkan data survey ini, proporsi responden dengan aktivitas online meningkat adalah antara 42.1% dan 53.7% dengan margin of error 0.06. Artinya, dengan tingkat kepercayaan yang tinggi, dapat dikatakan bahwa aktivitas online penduduk meningkat.\n",
        "\n",
        "Hanya sebagian kecil dari penduduk yang mengalami penurunan aktivitas online, yaitu antara 9.7% dan 17.7% dengan margin of error 0.04. Tingkat kepercayaan data ini juga tinggi.\n",
        "\n",
        "Ada beberapa faktor yang berkontribusi terhadap peningkatan aktivitas online di Indonesia. Salah satu faktornya adalah pandemi COVID-19 yang memaksa banyak orang untuk bekerja dan belajar dari rumah. Hal ini menyebabkan orang-orang lebih sering menggunakan internet untuk berbagai keperluan, seperti bekerja, belajar, dan bersosialisasi bahkan setelah pandemi berakhir."
      ]
    },
    {
      "cell_type": "markdown",
      "metadata": {
        "id": "xk6q_fbgy0xf"
      },
      "source": [
        "### Z-Test for One-Sample Proportion dengan Alpha = 5%\n",
        "\n",
        "\n",
        "---\n"
      ]
    },
    {
      "cell_type": "markdown",
      "metadata": {
        "id": "rf5JPoZp60LK"
      },
      "source": [
        "#### Proporsi responden dengan layanan aktif mobile banking adalah 50%\n",
        "\n",
        "**H0**: Proporsi responden dengan layanan aktif mobile banking adalah 50%\n",
        "\n",
        "**H1**: Proporsi responden dengan layanan aktif mobile banking tidak sama dengan 50%"
      ]
    },
    {
      "cell_type": "code",
      "execution_count": 39,
      "metadata": {
        "colab": {
          "base_uri": "https://localhost:8080/"
        },
        "id": "YGinWsIfeOw9",
        "outputId": "daef60d2-9afe-415a-de28-bedd04364bb2"
      },
      "outputs": [
        {
          "name": "stdout",
          "output_type": "stream",
          "text": [
            "proportion:  0.852112676056338\n"
          ]
        }
      ],
      "source": [
        "prop = (df['layanan_aktif_1'] == 'Mobile Banking').sum() / len(df)\n",
        "print(\"proportion: \", prop)"
      ]
    },
    {
      "cell_type": "code",
      "execution_count": 40,
      "metadata": {
        "colab": {
          "base_uri": "https://localhost:8080/"
        },
        "id": "r9MKIlYVeXjP",
        "outputId": "b64a8b5c-4129-4952-b9ed-bdc1562c3c48"
      },
      "outputs": [
        {
          "name": "stdout",
          "output_type": "stream",
          "text": [
            "z: 11.867816581938532\n"
          ]
        }
      ],
      "source": [
        "z = (prop - 0.5) / np.sqrt(0.5 * 0.5 / len(df))\n",
        "print(\"z:\", z)"
      ]
    },
    {
      "cell_type": "code",
      "execution_count": 41,
      "metadata": {
        "colab": {
          "base_uri": "https://localhost:8080/"
        },
        "id": "8JSz7AxReYK7",
        "outputId": "0ce73e64-87d9-4632-a68b-e7848764de45"
      },
      "outputs": [
        {
          "name": "stdout",
          "output_type": "stream",
          "text": [
            "p-value: 0.0\n"
          ]
        }
      ],
      "source": [
        "p = 2 * (1 - stats.norm.cdf(abs(z)))\n",
        "print(\"p-value:\", p)"
      ]
    },
    {
      "cell_type": "markdown",
      "metadata": {
        "id": "cUlZBMpCfG8l"
      },
      "source": [
        "**Conclusion**\n",
        "\n",
        "P-value (0.0) lebih kecil dari alpha (0.05), sehingga H0 ditolak. Kesimpulannya, proporsi responden dengan layanan aktif mobile banking tidak sama dengan 50%.\n",
        "\n"
      ]
    },
    {
      "cell_type": "markdown",
      "metadata": {
        "id": "niRzLiDxEf0J"
      },
      "source": [
        "#### Proporsi responden dengan layanan aktif internet banking adalah 50%\n",
        "\n",
        "**H0**: Proporsi responden dengan layanan aktif internet banking adalah 50%\n",
        "\n",
        "**H1**: Proporsi responden dengan layanan aktif internet banking tidak sama dengan 50%"
      ]
    },
    {
      "cell_type": "code",
      "execution_count": 42,
      "metadata": {
        "colab": {
          "base_uri": "https://localhost:8080/"
        },
        "id": "tywaQaySEf0J",
        "outputId": "03f27899-adba-4f7a-96b5-8b5b18ddd3be"
      },
      "outputs": [
        {
          "name": "stdout",
          "output_type": "stream",
          "text": [
            "proportion:  0.19718309859154928\n"
          ]
        }
      ],
      "source": [
        "prop = (df['layanan_aktif_4'] == 'Internet Banking').sum() / len(df)\n",
        "print(\"proportion: \", prop)"
      ]
    },
    {
      "cell_type": "code",
      "execution_count": 43,
      "metadata": {
        "colab": {
          "base_uri": "https://localhost:8080/"
        },
        "id": "ZFNBjFc3Ef0J",
        "outputId": "3123b6e9-68ec-411c-82d8-2b90668a3628"
      },
      "outputs": [
        {
          "name": "stdout",
          "output_type": "stream",
          "text": [
            "z: -10.20632226046714\n"
          ]
        }
      ],
      "source": [
        "z = (prop - 0.5) / np.sqrt(0.5 * 0.5 / len(df))\n",
        "print(\"z:\", z)"
      ]
    },
    {
      "cell_type": "code",
      "execution_count": 44,
      "metadata": {
        "colab": {
          "base_uri": "https://localhost:8080/"
        },
        "id": "Qd5y8VEYEf0J",
        "outputId": "389ac498-7667-49c8-d752-39323411a47d"
      },
      "outputs": [
        {
          "name": "stdout",
          "output_type": "stream",
          "text": [
            "p-value: 0.0\n"
          ]
        }
      ],
      "source": [
        "p = 2 * (1 - stats.norm.cdf(abs(z)))\n",
        "print(\"p-value:\", p)"
      ]
    },
    {
      "cell_type": "markdown",
      "metadata": {
        "id": "ECJVd3k-Ef0K"
      },
      "source": [
        "**Conclusion**\n",
        "\n",
        "P-value lebih kecil dari alpha (0.05), sehingga H0 ditolak. Kesimpulannya, proporsi responden dengan layanan internet banking tidak sama dengan 50%.\n",
        "\n"
      ]
    },
    {
      "cell_type": "markdown",
      "metadata": {
        "id": "fhrkjxhkE-Md"
      },
      "source": [
        "#### **Insight**\n",
        "\n",
        "Diperoleh penggunaan mobile banking dan internet banking sama-sama tidak sama dengan 50%, keduanya lebih condong ke angka maksimum ataua minimum.\n",
        "\n",
        "Dari proporsi, diamati bahwa penggunaan mobile banking mendominasi, dengan angka mencapai 85%. Sementara itu, orang-orang mulai meninggalkan internet banking, tampak dari proporsi 20% pada penggunaan internet banking.\n",
        "\n",
        "Internet banking lebih populer sebelum adanya mobile banking. Salah satu faktor penyebabnya adalah mobile banking mempermudah user untuk masuk ke akun mereka dan melakukan transaksi.\n",
        "\n",
        "Belakangan ini banyak sekali modus penipuan yang menyasar aplikasi mobile banking pada gawai pengguna. Beberapa pengguna juga mulai kehilangan kepercayaan mereka terhadap bank-bank atau dompet online tertentu karena pemotongan saldo yang tidak diinginkan. Dengan maraknya penggunaan mobile bank, keamanan aplikasi mobile banking perlu ditingkatkan untuk meningkatkan kepercayaan dan kenyamanan pengguna."
      ]
    },
    {
      "cell_type": "markdown",
      "metadata": {
        "id": "A8LeglodGs6b"
      },
      "source": [
        "#### Proporsi responden dengan layanan aktif ATM adalah 50%\n",
        "\n",
        "**H0**: Proporsi responden dengan layanan aktif ATM adalah 50%\n",
        "\n",
        "**H1**: Proporsi responden dengan layanan aktif ATM tidak sama dengan 50%"
      ]
    },
    {
      "cell_type": "code",
      "execution_count": 46,
      "metadata": {
        "colab": {
          "base_uri": "https://localhost:8080/"
        },
        "id": "xc9v2YhTGs6b",
        "outputId": "aee85e68-8990-477e-95b1-b0b5ab7bea51"
      },
      "outputs": [
        {
          "name": "stdout",
          "output_type": "stream",
          "text": [
            "proportion:  0.6267605633802817\n"
          ]
        }
      ],
      "source": [
        "prop = (df['layanan_aktif_2'] == 'ATM').sum() / len(df)\n",
        "print(\"proportion: \", prop)"
      ]
    },
    {
      "cell_type": "code",
      "execution_count": 47,
      "metadata": {
        "colab": {
          "base_uri": "https://localhost:8080/"
        },
        "id": "osG-FWxYGs6d",
        "outputId": "be5f4d05-c29e-4d4c-8582-b169cb326dcb"
      },
      "outputs": [
        {
          "name": "stdout",
          "output_type": "stream",
          "text": [
            "z: 4.272413969497873\n"
          ]
        }
      ],
      "source": [
        "z = (prop - 0.5) / np.sqrt(0.5 * 0.5 / len(df))\n",
        "print(\"z:\", z)"
      ]
    },
    {
      "cell_type": "code",
      "execution_count": 48,
      "metadata": {
        "colab": {
          "base_uri": "https://localhost:8080/"
        },
        "id": "XSiwyrC6Gs6d",
        "outputId": "7dad45fc-f530-4297-d008-6fbad4670ced"
      },
      "outputs": [
        {
          "name": "stdout",
          "output_type": "stream",
          "text": [
            "p-value: 1.9336816600823425e-05\n"
          ]
        }
      ],
      "source": [
        "p = 2 * (1 - stats.norm.cdf(abs(z)))\n",
        "print(\"p-value:\", p)"
      ]
    },
    {
      "cell_type": "markdown",
      "metadata": {
        "id": "gNiX9oFaGs6e"
      },
      "source": [
        "**Conclusion**\n",
        "\n",
        "P-value lebih kecil dari alpha (0.05), sehingga H0 ditolak. Kesimpulannya, proporsi responden dengan layanan ATM tidak sama dengan 50%.\n",
        "\n"
      ]
    },
    {
      "cell_type": "markdown",
      "metadata": {
        "id": "NbF1TGKJGr7H"
      },
      "source": [
        "#### **Insight**\n",
        "\n",
        "Proporsi responden yang menggunakan layanan ATM tidak sama dengan 50%, artinya cenderung ke suatu arah dominan atau minoritas.\n",
        "\n",
        "Dari proporsi diperoleh kecenderungan penggunaan ATM masih positif, pada tingkat 63%. Dapat disimpulkan bahwa layanan ATM masih relevan dan penyediaan ATM di berbagai lokasi masih menjadi kebutuhan masyarakat saat ini."
      ]
    },
    {
      "cell_type": "markdown",
      "metadata": {
        "id": "AVAMBuI60H6U"
      },
      "source": [
        "### Chi-Squared Test for Goodness-for-Fit Test dengan alpha = 5%\n",
        "\n",
        "(H0: data distribution = uniform distribution)\n",
        "\n",
        "---"
      ]
    },
    {
      "cell_type": "code",
      "execution_count": 49,
      "metadata": {
        "id": "-tSw84l9GnY9"
      },
      "outputs": [],
      "source": [
        "from scipy.stats import chisquare"
      ]
    },
    {
      "cell_type": "markdown",
      "metadata": {
        "id": "-dkQv8o2Hm6P"
      },
      "source": [
        "#### Atribut frequency bank memiliki distribusi uniform\n",
        "\n",
        "- Asumsi: Atribut bank_1 hingga bank_7 dianggap sebagai bank yang digunakan responden\n",
        "- Atribut: frequency (dari jumlah frekuensi masing-masing bank_1 hingga bank_7)\n",
        "\n",
        "**H0**: Atribut frequency bank memiliki distribusi uniform\n",
        "\n",
        "**H1**: Atribut frequency bank tidak memiliki distribusi uniform"
      ]
    },
    {
      "cell_type": "code",
      "execution_count": 50,
      "metadata": {
        "id": "lz8BTA8D8QWW"
      },
      "outputs": [],
      "source": [
        "no_bank_df = df[~df[['bank_1', 'bank_2', 'bank_3', 'bank_4', 'bank_5', 'bank_6', 'bank_7']].any(axis=1)]\n",
        "\n",
        "# no_bank_df\n"
      ]
    },
    {
      "cell_type": "code",
      "execution_count": 51,
      "metadata": {
        "colab": {
          "base_uri": "https://localhost:8080/"
        },
        "id": "DAMFw238DKqK",
        "outputId": "252128fd-34a3-4e61-89e7-ab65d71d2c69"
      },
      "outputs": [
        {
          "name": "stdout",
          "output_type": "stream",
          "text": [
            "proportion: 0.08098591549295775\n"
          ]
        }
      ],
      "source": [
        "prop = no_bank_df.shape[0] / n_row\n",
        "print(\"proportion:\", prop)"
      ]
    },
    {
      "cell_type": "markdown",
      "metadata": {
        "id": "IDkCIMGiDGmx"
      },
      "source": [
        "Jumlah responden yang tidak mengisi akun yang dimiliki sebanyak 23 (8% dari total responden). Persentase yang mengisi setidaknya salah satu bank cukup banyak sehingga distribusi akun bank yang dimiliki relatif representatf."
      ]
    },
    {
      "cell_type": "code",
      "execution_count": 52,
      "metadata": {
        "colab": {
          "base_uri": "https://localhost:8080/",
          "height": 269
        },
        "id": "_G4RjrQfFhJX",
        "outputId": "38f3b478-28b4-456b-e9ee-c2a214737d11"
      },
      "outputs": [
        {
          "data": {
            "text/html": [
              "\n",
              "  <div id=\"df-176b6873-7699-4657-bc81-d62aa36ecaf1\" class=\"colab-df-container\">\n",
              "    <div>\n",
              "<style scoped>\n",
              "    .dataframe tbody tr th:only-of-type {\n",
              "        vertical-align: middle;\n",
              "    }\n",
              "\n",
              "    .dataframe tbody tr th {\n",
              "        vertical-align: top;\n",
              "    }\n",
              "\n",
              "    .dataframe thead th {\n",
              "        text-align: right;\n",
              "    }\n",
              "</style>\n",
              "<table border=\"1\" class=\"dataframe\">\n",
              "  <thead>\n",
              "    <tr style=\"text-align: right;\">\n",
              "      <th></th>\n",
              "      <th>bank_name</th>\n",
              "      <th>frequency</th>\n",
              "    </tr>\n",
              "  </thead>\n",
              "  <tbody>\n",
              "    <tr>\n",
              "      <th>0</th>\n",
              "      <td>Bank BCA</td>\n",
              "      <td>153</td>\n",
              "    </tr>\n",
              "    <tr>\n",
              "      <th>1</th>\n",
              "      <td>Bank Mandiri</td>\n",
              "      <td>83</td>\n",
              "    </tr>\n",
              "    <tr>\n",
              "      <th>2</th>\n",
              "      <td>Bank BNI</td>\n",
              "      <td>61</td>\n",
              "    </tr>\n",
              "    <tr>\n",
              "      <th>3</th>\n",
              "      <td>Bank BRI</td>\n",
              "      <td>58</td>\n",
              "    </tr>\n",
              "    <tr>\n",
              "      <th>4</th>\n",
              "      <td>Bank CIMB Niaga</td>\n",
              "      <td>14</td>\n",
              "    </tr>\n",
              "    <tr>\n",
              "      <th>5</th>\n",
              "      <td>Bank Permata</td>\n",
              "      <td>12</td>\n",
              "    </tr>\n",
              "    <tr>\n",
              "      <th>6</th>\n",
              "      <td>Bank BTN</td>\n",
              "      <td>7</td>\n",
              "    </tr>\n",
              "  </tbody>\n",
              "</table>\n",
              "</div>\n",
              "    <div class=\"colab-df-buttons\">\n",
              "\n",
              "  <div class=\"colab-df-container\">\n",
              "    <button class=\"colab-df-convert\" onclick=\"convertToInteractive('df-176b6873-7699-4657-bc81-d62aa36ecaf1')\"\n",
              "            title=\"Convert this dataframe to an interactive table.\"\n",
              "            style=\"display:none;\">\n",
              "\n",
              "  <svg xmlns=\"http://www.w3.org/2000/svg\" height=\"24px\" viewBox=\"0 -960 960 960\">\n",
              "    <path d=\"M120-120v-720h720v720H120Zm60-500h600v-160H180v160Zm220 220h160v-160H400v160Zm0 220h160v-160H400v160ZM180-400h160v-160H180v160Zm440 0h160v-160H620v160ZM180-180h160v-160H180v160Zm440 0h160v-160H620v160Z\"/>\n",
              "  </svg>\n",
              "    </button>\n",
              "\n",
              "  <style>\n",
              "    .colab-df-container {\n",
              "      display:flex;\n",
              "      gap: 12px;\n",
              "    }\n",
              "\n",
              "    .colab-df-convert {\n",
              "      background-color: #E8F0FE;\n",
              "      border: none;\n",
              "      border-radius: 50%;\n",
              "      cursor: pointer;\n",
              "      display: none;\n",
              "      fill: #1967D2;\n",
              "      height: 32px;\n",
              "      padding: 0 0 0 0;\n",
              "      width: 32px;\n",
              "    }\n",
              "\n",
              "    .colab-df-convert:hover {\n",
              "      background-color: #E2EBFA;\n",
              "      box-shadow: 0px 1px 2px rgba(60, 64, 67, 0.3), 0px 1px 3px 1px rgba(60, 64, 67, 0.15);\n",
              "      fill: #174EA6;\n",
              "    }\n",
              "\n",
              "    .colab-df-buttons div {\n",
              "      margin-bottom: 4px;\n",
              "    }\n",
              "\n",
              "    [theme=dark] .colab-df-convert {\n",
              "      background-color: #3B4455;\n",
              "      fill: #D2E3FC;\n",
              "    }\n",
              "\n",
              "    [theme=dark] .colab-df-convert:hover {\n",
              "      background-color: #434B5C;\n",
              "      box-shadow: 0px 1px 3px 1px rgba(0, 0, 0, 0.15);\n",
              "      filter: drop-shadow(0px 1px 2px rgba(0, 0, 0, 0.3));\n",
              "      fill: #FFFFFF;\n",
              "    }\n",
              "  </style>\n",
              "\n",
              "    <script>\n",
              "      const buttonEl =\n",
              "        document.querySelector('#df-176b6873-7699-4657-bc81-d62aa36ecaf1 button.colab-df-convert');\n",
              "      buttonEl.style.display =\n",
              "        google.colab.kernel.accessAllowed ? 'block' : 'none';\n",
              "\n",
              "      async function convertToInteractive(key) {\n",
              "        const element = document.querySelector('#df-176b6873-7699-4657-bc81-d62aa36ecaf1');\n",
              "        const dataTable =\n",
              "          await google.colab.kernel.invokeFunction('convertToInteractive',\n",
              "                                                    [key], {});\n",
              "        if (!dataTable) return;\n",
              "\n",
              "        const docLinkHtml = 'Like what you see? Visit the ' +\n",
              "          '<a target=\"_blank\" href=https://colab.research.google.com/notebooks/data_table.ipynb>data table notebook</a>'\n",
              "          + ' to learn more about interactive tables.';\n",
              "        element.innerHTML = '';\n",
              "        dataTable['output_type'] = 'display_data';\n",
              "        await google.colab.output.renderOutput(dataTable, element);\n",
              "        const docLink = document.createElement('div');\n",
              "        docLink.innerHTML = docLinkHtml;\n",
              "        element.appendChild(docLink);\n",
              "      }\n",
              "    </script>\n",
              "  </div>\n",
              "\n",
              "\n",
              "<div id=\"df-6ae5e103-5297-41c4-b561-58e9fafdcc22\">\n",
              "  <button class=\"colab-df-quickchart\" onclick=\"quickchart('df-6ae5e103-5297-41c4-b561-58e9fafdcc22')\"\n",
              "            title=\"Suggest charts\"\n",
              "            style=\"display:none;\">\n",
              "\n",
              "<svg xmlns=\"http://www.w3.org/2000/svg\" height=\"24px\"viewBox=\"0 0 24 24\"\n",
              "     width=\"24px\">\n",
              "    <g>\n",
              "        <path d=\"M19 3H5c-1.1 0-2 .9-2 2v14c0 1.1.9 2 2 2h14c1.1 0 2-.9 2-2V5c0-1.1-.9-2-2-2zM9 17H7v-7h2v7zm4 0h-2V7h2v10zm4 0h-2v-4h2v4z\"/>\n",
              "    </g>\n",
              "</svg>\n",
              "  </button>\n",
              "\n",
              "<style>\n",
              "  .colab-df-quickchart {\n",
              "      --bg-color: #E8F0FE;\n",
              "      --fill-color: #1967D2;\n",
              "      --hover-bg-color: #E2EBFA;\n",
              "      --hover-fill-color: #174EA6;\n",
              "      --disabled-fill-color: #AAA;\n",
              "      --disabled-bg-color: #DDD;\n",
              "  }\n",
              "\n",
              "  [theme=dark] .colab-df-quickchart {\n",
              "      --bg-color: #3B4455;\n",
              "      --fill-color: #D2E3FC;\n",
              "      --hover-bg-color: #434B5C;\n",
              "      --hover-fill-color: #FFFFFF;\n",
              "      --disabled-bg-color: #3B4455;\n",
              "      --disabled-fill-color: #666;\n",
              "  }\n",
              "\n",
              "  .colab-df-quickchart {\n",
              "    background-color: var(--bg-color);\n",
              "    border: none;\n",
              "    border-radius: 50%;\n",
              "    cursor: pointer;\n",
              "    display: none;\n",
              "    fill: var(--fill-color);\n",
              "    height: 32px;\n",
              "    padding: 0;\n",
              "    width: 32px;\n",
              "  }\n",
              "\n",
              "  .colab-df-quickchart:hover {\n",
              "    background-color: var(--hover-bg-color);\n",
              "    box-shadow: 0 1px 2px rgba(60, 64, 67, 0.3), 0 1px 3px 1px rgba(60, 64, 67, 0.15);\n",
              "    fill: var(--button-hover-fill-color);\n",
              "  }\n",
              "\n",
              "  .colab-df-quickchart-complete:disabled,\n",
              "  .colab-df-quickchart-complete:disabled:hover {\n",
              "    background-color: var(--disabled-bg-color);\n",
              "    fill: var(--disabled-fill-color);\n",
              "    box-shadow: none;\n",
              "  }\n",
              "\n",
              "  .colab-df-spinner {\n",
              "    border: 2px solid var(--fill-color);\n",
              "    border-color: transparent;\n",
              "    border-bottom-color: var(--fill-color);\n",
              "    animation:\n",
              "      spin 1s steps(1) infinite;\n",
              "  }\n",
              "\n",
              "  @keyframes spin {\n",
              "    0% {\n",
              "      border-color: transparent;\n",
              "      border-bottom-color: var(--fill-color);\n",
              "      border-left-color: var(--fill-color);\n",
              "    }\n",
              "    20% {\n",
              "      border-color: transparent;\n",
              "      border-left-color: var(--fill-color);\n",
              "      border-top-color: var(--fill-color);\n",
              "    }\n",
              "    30% {\n",
              "      border-color: transparent;\n",
              "      border-left-color: var(--fill-color);\n",
              "      border-top-color: var(--fill-color);\n",
              "      border-right-color: var(--fill-color);\n",
              "    }\n",
              "    40% {\n",
              "      border-color: transparent;\n",
              "      border-right-color: var(--fill-color);\n",
              "      border-top-color: var(--fill-color);\n",
              "    }\n",
              "    60% {\n",
              "      border-color: transparent;\n",
              "      border-right-color: var(--fill-color);\n",
              "    }\n",
              "    80% {\n",
              "      border-color: transparent;\n",
              "      border-right-color: var(--fill-color);\n",
              "      border-bottom-color: var(--fill-color);\n",
              "    }\n",
              "    90% {\n",
              "      border-color: transparent;\n",
              "      border-bottom-color: var(--fill-color);\n",
              "    }\n",
              "  }\n",
              "</style>\n",
              "\n",
              "  <script>\n",
              "    async function quickchart(key) {\n",
              "      const quickchartButtonEl =\n",
              "        document.querySelector('#' + key + ' button');\n",
              "      quickchartButtonEl.disabled = true;  // To prevent multiple clicks.\n",
              "      quickchartButtonEl.classList.add('colab-df-spinner');\n",
              "      try {\n",
              "        const charts = await google.colab.kernel.invokeFunction(\n",
              "            'suggestCharts', [key], {});\n",
              "      } catch (error) {\n",
              "        console.error('Error during call to suggestCharts:', error);\n",
              "      }\n",
              "      quickchartButtonEl.classList.remove('colab-df-spinner');\n",
              "      quickchartButtonEl.classList.add('colab-df-quickchart-complete');\n",
              "    }\n",
              "    (() => {\n",
              "      let quickchartButtonEl =\n",
              "        document.querySelector('#df-6ae5e103-5297-41c4-b561-58e9fafdcc22 button');\n",
              "      quickchartButtonEl.style.display =\n",
              "        google.colab.kernel.accessAllowed ? 'block' : 'none';\n",
              "    })();\n",
              "  </script>\n",
              "</div>\n",
              "    </div>\n",
              "  </div>\n"
            ],
            "text/plain": [
              "         bank_name  frequency\n",
              "0         Bank BCA        153\n",
              "1     Bank Mandiri         83\n",
              "2         Bank BNI         61\n",
              "3         Bank BRI         58\n",
              "4  Bank CIMB Niaga         14\n",
              "5     Bank Permata         12\n",
              "6         Bank BTN          7"
            ]
          },
          "execution_count": 52,
          "metadata": {},
          "output_type": "execute_result"
        }
      ],
      "source": [
        "# create Bank\n",
        "\n",
        "bank_data = df[[col for col in df.columns if col.startswith('bank_')]].stack().dropna()\n",
        "\n",
        "Bank = bank_data.to_frame(name='bank_name').reset_index(drop=True).value_counts().rename_axis('bank_name').reset_index(name='frequency')\n",
        "\n",
        "Bank"
      ]
    },
    {
      "cell_type": "markdown",
      "metadata": {
        "id": "IKs4En5kKyYT"
      },
      "source": [
        "Seorang responden dapat memilih beberapa bank. Survey ini berfokus distribusi keseluruhan pilihan bank individu. Maka, frekuensi ekspektasi yang dipilih adalah jumlah keseluruhan data yang diperoleh."
      ]
    },
    {
      "cell_type": "code",
      "execution_count": 33,
      "metadata": {
        "colab": {
          "base_uri": "https://localhost:8080/"
        },
        "id": "ZwCksOC-Gtsr",
        "outputId": "49694b59-6ccb-4e2b-e995-32a4dc25c384"
      },
      "outputs": [
        {
          "name": "stdout",
          "output_type": "stream",
          "text": [
            "expected_frequencies: [55.42857142857143, 55.42857142857143, 55.42857142857143, 55.42857142857143, 55.42857142857143, 55.42857142857143, 55.42857142857143]\n"
          ]
        }
      ],
      "source": [
        "observed_frequencies = Bank['frequency'].to_list()\n",
        "\n",
        "n_banks = len(Bank)\n",
        "expected_frequencies = [Bank['frequency'].sum() / n_banks] * n_banks\n",
        "\n",
        "print(\"expected_frequencies:\", expected_frequencies)"
      ]
    },
    {
      "cell_type": "code",
      "execution_count": 34,
      "metadata": {
        "colab": {
          "base_uri": "https://localhost:8080/"
        },
        "id": "vnedkA6zJ390",
        "outputId": "372dd256-a1ad-4380-d97f-166c4175a465"
      },
      "outputs": [
        {
          "name": "stdout",
          "output_type": "stream",
          "text": [
            "chi-squared statistic: 293.45360824742266\n",
            "p-value: 2.0666509465524664e-60\n"
          ]
        }
      ],
      "source": [
        "alpha = 0.05\n",
        "\n",
        "chi_square_statistic, p_value = chisquare(observed_frequencies, f_exp=expected_frequencies)\n",
        "\n",
        "print(\"chi-squared statistic:\", chi_square_statistic)\n",
        "print(\"p-value:\", p_value)"
      ]
    },
    {
      "cell_type": "markdown",
      "metadata": {
        "id": "xaWq1WJ-LnJV"
      },
      "source": [
        "#### **Insight**\n",
        "\n",
        "P-value lebih kecil dari alpha (0.05), sehingga H0 ditolak. Hal ini menunjukkan bank tidak memiliki distribusi yang sesuai dengan distribusi uniform. Kesimpulannya, terdapat beberapa bank yang lebih populer daripada bank lainnya.\n",
        "\n",
        "Bank yang paling populer adalah Bank BCA. Bank lain yang populer adalah Bank Mandiri, Bank BNI dan Bank BRI.\n",
        "\n",
        "Karakteristik yang dimiliki dua bank paling populer antara lain adalah track record yang dapat dipercaya, kemudahan bertransasksi serta mengurus akun, aplikasi mobile dengan UI/UX yang baik, serta banyaknya lokasi cabang dan ATM.\n",
        "\n",
        "Bank BNI dan BRI yang cukup populer berkarakteristik menyasar masyarakat menengah dengan biaya administrasi yang cenderung lebih murah. Bank-bank ini banyak digunakan karyawan untuk penyaluran gaji.\n",
        "\n",
        "Dapat disimpulkan, karakteristik yang menyebabkan suatu bank populer adalah kemudahan transaksi dan mengurus akun serta promo yang ditawarkan."
      ]
    },
    {
      "cell_type": "markdown",
      "metadata": {
        "id": "VZbxBim5H2Jd"
      },
      "source": [
        "#### Atribut pendidikan terakhir memiliki distribusi uniform\n",
        "\n",
        "**H0**: Atribut pendidikan terakhir memiliki distribusi uniform\n",
        "\n",
        "**H1**: Atribut pendidikan terakhir tidak memiliki distribusi uniform"
      ]
    },
    {
      "cell_type": "code",
      "execution_count": 209,
      "metadata": {
        "colab": {
          "base_uri": "https://localhost:8080/",
          "height": 237
        },
        "id": "Mf0F9Tq2LUUM",
        "outputId": "34dd9ef5-4312-45a4-b781-c624a8f08b88"
      },
      "outputs": [
        {
          "data": {
            "text/html": [
              "\n",
              "  <div id=\"df-2b5796d6-ae7d-4149-b1d8-9ff41c85e9c9\" class=\"colab-df-container\">\n",
              "    <div>\n",
              "<style scoped>\n",
              "    .dataframe tbody tr th:only-of-type {\n",
              "        vertical-align: middle;\n",
              "    }\n",
              "\n",
              "    .dataframe tbody tr th {\n",
              "        vertical-align: top;\n",
              "    }\n",
              "\n",
              "    .dataframe thead th {\n",
              "        text-align: right;\n",
              "    }\n",
              "</style>\n",
              "<table border=\"1\" class=\"dataframe\">\n",
              "  <thead>\n",
              "    <tr style=\"text-align: right;\">\n",
              "      <th></th>\n",
              "      <th>value</th>\n",
              "      <th>frequency</th>\n",
              "    </tr>\n",
              "  </thead>\n",
              "  <tbody>\n",
              "    <tr>\n",
              "      <th>0</th>\n",
              "      <td>SMA</td>\n",
              "      <td>132</td>\n",
              "    </tr>\n",
              "    <tr>\n",
              "      <th>1</th>\n",
              "      <td>S1</td>\n",
              "      <td>114</td>\n",
              "    </tr>\n",
              "    <tr>\n",
              "      <th>2</th>\n",
              "      <td>S2</td>\n",
              "      <td>17</td>\n",
              "    </tr>\n",
              "    <tr>\n",
              "      <th>3</th>\n",
              "      <td>D3</td>\n",
              "      <td>16</td>\n",
              "    </tr>\n",
              "    <tr>\n",
              "      <th>4</th>\n",
              "      <td>D4</td>\n",
              "      <td>4</td>\n",
              "    </tr>\n",
              "    <tr>\n",
              "      <th>5</th>\n",
              "      <td>S3</td>\n",
              "      <td>1</td>\n",
              "    </tr>\n",
              "  </tbody>\n",
              "</table>\n",
              "</div>\n",
              "    <div class=\"colab-df-buttons\">\n",
              "\n",
              "  <div class=\"colab-df-container\">\n",
              "    <button class=\"colab-df-convert\" onclick=\"convertToInteractive('df-2b5796d6-ae7d-4149-b1d8-9ff41c85e9c9')\"\n",
              "            title=\"Convert this dataframe to an interactive table.\"\n",
              "            style=\"display:none;\">\n",
              "\n",
              "  <svg xmlns=\"http://www.w3.org/2000/svg\" height=\"24px\" viewBox=\"0 -960 960 960\">\n",
              "    <path d=\"M120-120v-720h720v720H120Zm60-500h600v-160H180v160Zm220 220h160v-160H400v160Zm0 220h160v-160H400v160ZM180-400h160v-160H180v160Zm440 0h160v-160H620v160ZM180-180h160v-160H180v160Zm440 0h160v-160H620v160Z\"/>\n",
              "  </svg>\n",
              "    </button>\n",
              "\n",
              "  <style>\n",
              "    .colab-df-container {\n",
              "      display:flex;\n",
              "      gap: 12px;\n",
              "    }\n",
              "\n",
              "    .colab-df-convert {\n",
              "      background-color: #E8F0FE;\n",
              "      border: none;\n",
              "      border-radius: 50%;\n",
              "      cursor: pointer;\n",
              "      display: none;\n",
              "      fill: #1967D2;\n",
              "      height: 32px;\n",
              "      padding: 0 0 0 0;\n",
              "      width: 32px;\n",
              "    }\n",
              "\n",
              "    .colab-df-convert:hover {\n",
              "      background-color: #E2EBFA;\n",
              "      box-shadow: 0px 1px 2px rgba(60, 64, 67, 0.3), 0px 1px 3px 1px rgba(60, 64, 67, 0.15);\n",
              "      fill: #174EA6;\n",
              "    }\n",
              "\n",
              "    .colab-df-buttons div {\n",
              "      margin-bottom: 4px;\n",
              "    }\n",
              "\n",
              "    [theme=dark] .colab-df-convert {\n",
              "      background-color: #3B4455;\n",
              "      fill: #D2E3FC;\n",
              "    }\n",
              "\n",
              "    [theme=dark] .colab-df-convert:hover {\n",
              "      background-color: #434B5C;\n",
              "      box-shadow: 0px 1px 3px 1px rgba(0, 0, 0, 0.15);\n",
              "      filter: drop-shadow(0px 1px 2px rgba(0, 0, 0, 0.3));\n",
              "      fill: #FFFFFF;\n",
              "    }\n",
              "  </style>\n",
              "\n",
              "    <script>\n",
              "      const buttonEl =\n",
              "        document.querySelector('#df-2b5796d6-ae7d-4149-b1d8-9ff41c85e9c9 button.colab-df-convert');\n",
              "      buttonEl.style.display =\n",
              "        google.colab.kernel.accessAllowed ? 'block' : 'none';\n",
              "\n",
              "      async function convertToInteractive(key) {\n",
              "        const element = document.querySelector('#df-2b5796d6-ae7d-4149-b1d8-9ff41c85e9c9');\n",
              "        const dataTable =\n",
              "          await google.colab.kernel.invokeFunction('convertToInteractive',\n",
              "                                                    [key], {});\n",
              "        if (!dataTable) return;\n",
              "\n",
              "        const docLinkHtml = 'Like what you see? Visit the ' +\n",
              "          '<a target=\"_blank\" href=https://colab.research.google.com/notebooks/data_table.ipynb>data table notebook</a>'\n",
              "          + ' to learn more about interactive tables.';\n",
              "        element.innerHTML = '';\n",
              "        dataTable['output_type'] = 'display_data';\n",
              "        await google.colab.output.renderOutput(dataTable, element);\n",
              "        const docLink = document.createElement('div');\n",
              "        docLink.innerHTML = docLinkHtml;\n",
              "        element.appendChild(docLink);\n",
              "      }\n",
              "    </script>\n",
              "  </div>\n",
              "\n",
              "\n",
              "<div id=\"df-ff0d83d0-2b9d-4ae0-a720-d3582d541cac\">\n",
              "  <button class=\"colab-df-quickchart\" onclick=\"quickchart('df-ff0d83d0-2b9d-4ae0-a720-d3582d541cac')\"\n",
              "            title=\"Suggest charts\"\n",
              "            style=\"display:none;\">\n",
              "\n",
              "<svg xmlns=\"http://www.w3.org/2000/svg\" height=\"24px\"viewBox=\"0 0 24 24\"\n",
              "     width=\"24px\">\n",
              "    <g>\n",
              "        <path d=\"M19 3H5c-1.1 0-2 .9-2 2v14c0 1.1.9 2 2 2h14c1.1 0 2-.9 2-2V5c0-1.1-.9-2-2-2zM9 17H7v-7h2v7zm4 0h-2V7h2v10zm4 0h-2v-4h2v4z\"/>\n",
              "    </g>\n",
              "</svg>\n",
              "  </button>\n",
              "\n",
              "<style>\n",
              "  .colab-df-quickchart {\n",
              "      --bg-color: #E8F0FE;\n",
              "      --fill-color: #1967D2;\n",
              "      --hover-bg-color: #E2EBFA;\n",
              "      --hover-fill-color: #174EA6;\n",
              "      --disabled-fill-color: #AAA;\n",
              "      --disabled-bg-color: #DDD;\n",
              "  }\n",
              "\n",
              "  [theme=dark] .colab-df-quickchart {\n",
              "      --bg-color: #3B4455;\n",
              "      --fill-color: #D2E3FC;\n",
              "      --hover-bg-color: #434B5C;\n",
              "      --hover-fill-color: #FFFFFF;\n",
              "      --disabled-bg-color: #3B4455;\n",
              "      --disabled-fill-color: #666;\n",
              "  }\n",
              "\n",
              "  .colab-df-quickchart {\n",
              "    background-color: var(--bg-color);\n",
              "    border: none;\n",
              "    border-radius: 50%;\n",
              "    cursor: pointer;\n",
              "    display: none;\n",
              "    fill: var(--fill-color);\n",
              "    height: 32px;\n",
              "    padding: 0;\n",
              "    width: 32px;\n",
              "  }\n",
              "\n",
              "  .colab-df-quickchart:hover {\n",
              "    background-color: var(--hover-bg-color);\n",
              "    box-shadow: 0 1px 2px rgba(60, 64, 67, 0.3), 0 1px 3px 1px rgba(60, 64, 67, 0.15);\n",
              "    fill: var(--button-hover-fill-color);\n",
              "  }\n",
              "\n",
              "  .colab-df-quickchart-complete:disabled,\n",
              "  .colab-df-quickchart-complete:disabled:hover {\n",
              "    background-color: var(--disabled-bg-color);\n",
              "    fill: var(--disabled-fill-color);\n",
              "    box-shadow: none;\n",
              "  }\n",
              "\n",
              "  .colab-df-spinner {\n",
              "    border: 2px solid var(--fill-color);\n",
              "    border-color: transparent;\n",
              "    border-bottom-color: var(--fill-color);\n",
              "    animation:\n",
              "      spin 1s steps(1) infinite;\n",
              "  }\n",
              "\n",
              "  @keyframes spin {\n",
              "    0% {\n",
              "      border-color: transparent;\n",
              "      border-bottom-color: var(--fill-color);\n",
              "      border-left-color: var(--fill-color);\n",
              "    }\n",
              "    20% {\n",
              "      border-color: transparent;\n",
              "      border-left-color: var(--fill-color);\n",
              "      border-top-color: var(--fill-color);\n",
              "    }\n",
              "    30% {\n",
              "      border-color: transparent;\n",
              "      border-left-color: var(--fill-color);\n",
              "      border-top-color: var(--fill-color);\n",
              "      border-right-color: var(--fill-color);\n",
              "    }\n",
              "    40% {\n",
              "      border-color: transparent;\n",
              "      border-right-color: var(--fill-color);\n",
              "      border-top-color: var(--fill-color);\n",
              "    }\n",
              "    60% {\n",
              "      border-color: transparent;\n",
              "      border-right-color: var(--fill-color);\n",
              "    }\n",
              "    80% {\n",
              "      border-color: transparent;\n",
              "      border-right-color: var(--fill-color);\n",
              "      border-bottom-color: var(--fill-color);\n",
              "    }\n",
              "    90% {\n",
              "      border-color: transparent;\n",
              "      border-bottom-color: var(--fill-color);\n",
              "    }\n",
              "  }\n",
              "</style>\n",
              "\n",
              "  <script>\n",
              "    async function quickchart(key) {\n",
              "      const quickchartButtonEl =\n",
              "        document.querySelector('#' + key + ' button');\n",
              "      quickchartButtonEl.disabled = true;  // To prevent multiple clicks.\n",
              "      quickchartButtonEl.classList.add('colab-df-spinner');\n",
              "      try {\n",
              "        const charts = await google.colab.kernel.invokeFunction(\n",
              "            'suggestCharts', [key], {});\n",
              "      } catch (error) {\n",
              "        console.error('Error during call to suggestCharts:', error);\n",
              "      }\n",
              "      quickchartButtonEl.classList.remove('colab-df-spinner');\n",
              "      quickchartButtonEl.classList.add('colab-df-quickchart-complete');\n",
              "    }\n",
              "    (() => {\n",
              "      let quickchartButtonEl =\n",
              "        document.querySelector('#df-ff0d83d0-2b9d-4ae0-a720-d3582d541cac button');\n",
              "      quickchartButtonEl.style.display =\n",
              "        google.colab.kernel.accessAllowed ? 'block' : 'none';\n",
              "    })();\n",
              "  </script>\n",
              "</div>\n",
              "    </div>\n",
              "  </div>\n"
            ],
            "text/plain": [
              "  value  frequency\n",
              "0   SMA        132\n",
              "1    S1        114\n",
              "2    S2         17\n",
              "3    D3         16\n",
              "4    D4          4\n",
              "5    S3          1"
            ]
          },
          "execution_count": 209,
          "metadata": {},
          "output_type": "execute_result"
        }
      ],
      "source": [
        "pendidikan_freq"
      ]
    },
    {
      "cell_type": "code",
      "execution_count": 56,
      "metadata": {
        "colab": {
          "base_uri": "https://localhost:8080/"
        },
        "id": "DbuXxJUTH2Jh",
        "outputId": "6d48efc4-8d65-41df-a04a-e8063570328d"
      },
      "outputs": [
        {
          "name": "stdout",
          "output_type": "stream",
          "text": [
            "expected_frequencies: 47.333333333333336\n",
            "observed_frequencies: [132, 114, 17, 16, 4, 1]\n"
          ]
        }
      ],
      "source": [
        "observed_frequencies = pendidikan_freq['frequency'].to_list()\n",
        "\n",
        "expected_frequencies = n_row/6\n",
        "\n",
        "print(\"expected_frequencies:\", expected_frequencies)\n",
        "print(\"observed_frequencies:\", observed_frequencies)"
      ]
    },
    {
      "cell_type": "code",
      "execution_count": 57,
      "metadata": {
        "colab": {
          "base_uri": "https://localhost:8080/"
        },
        "id": "kBbVJ95DH2Jh",
        "outputId": "125f0eae-d7c4-4d9d-e6b1-95d7e791c24a"
      },
      "outputs": [
        {
          "name": "stdout",
          "output_type": "stream",
          "text": [
            "chi-squared statistic: 370.5492957746477\n",
            "p-value: 6.57418465288085e-78\n"
          ]
        }
      ],
      "source": [
        "alpha = 0.05\n",
        "\n",
        "chi_square_statistic, p_value = chisquare(observed_frequencies, f_exp=expected_frequencies)\n",
        "\n",
        "print(\"chi-squared statistic:\", chi_square_statistic)\n",
        "print(\"p-value:\", p_value)"
      ]
    },
    {
      "cell_type": "markdown",
      "metadata": {
        "id": "RvCgC31DH2Ji"
      },
      "source": [
        "#### **Insight**\n",
        "\n",
        "P-value lebih kecil dari alpha (0.05), sehingga H0 ditolak. Hal ini menunjukkan tingkat pendidikan tidak memiliki distribusi yang sesuai dengan distribusi uniform.\n",
        "\n",
        "Dari data, kebanyakan dari masyarakat masih berada pada jenjang pendidikan SMA. Namun, dari data pekerjaan yang divisualisasikan di awal analisa, terlihat banyak responden dengan pekerjaan mahasiswa/pelajar. Selain itu, kebanyakan responden berada pada rentang umur 20-an.\n",
        "\n",
        "Dapat disimpulkan bahwa masyarakat dengan rentang umur ini mendominasi penggunaan internet. Strategi bisnis online dapat disesuaikan untuk menyasar kriteria orang-orang dengan usia 20-an dengan budget atau kebutuhan pelajar/mahasiswa."
      ]
    },
    {
      "cell_type": "markdown",
      "metadata": {
        "id": "E5z6RahqwNbF"
      },
      "source": [
        "## **Bivariate EDA**"
      ]
    },
    {
      "cell_type": "markdown",
      "metadata": {
        "id": "FC_eiyz-mTQC"
      },
      "source": [
        "### Confidence Interval 95% for Two-Sample Proportion Difference\n",
        "\n",
        "\n",
        "---"
      ]
    },
    {
      "cell_type": "markdown",
      "metadata": {
        "id": "t8d7GtAqbbk4"
      },
      "source": [
        "### Z-Test for Proportion Difference dengan alpha = 5%\n",
        "\n",
        "\n",
        "---"
      ]
    },
    {
      "cell_type": "markdown",
      "metadata": {
        "id": "0ycgU0q0cjzr"
      },
      "source": [
        "**Catatan**: Keduanya dilakukan sekaligus"
      ]
    },
    {
      "cell_type": "code",
      "execution_count": 81,
      "metadata": {
        "id": "Uq4Dg8sdXNJy"
      },
      "outputs": [],
      "source": [
        "from statsmodels.stats.proportion import proportions_ztest, proportion_confint"
      ]
    },
    {
      "cell_type": "markdown",
      "metadata": {
        "id": "fO8JPzwwU6Ux"
      },
      "source": [
        "#### Perbedaan proporsi jenis kelamin dan alasan memakai e-money karena promo"
      ]
    },
    {
      "cell_type": "code",
      "execution_count": 104,
      "metadata": {
        "id": "-1VbWfjiZDPi"
      },
      "outputs": [],
      "source": [
        "count = df.groupby('Jenis Kelamin')['alasan_pakai_emoney_3'].apply(lambda x: (x == 'Promo').sum())\n",
        "nobs = df['Jenis Kelamin'].value_counts()\n",
        "\n",
        "stat, pval = proportions_ztest(count=count, nobs=nobs)\n",
        "confint = proportion_confint(count=count, nobs=nobs, alpha=0.05)"
      ]
    },
    {
      "cell_type": "code",
      "execution_count": 105,
      "metadata": {
        "colab": {
          "base_uri": "https://localhost:8080/"
        },
        "id": "8nD2Wm9CZZeh",
        "outputId": "9391d265-90d4-495b-e6f6-7dcc8b09f955"
      },
      "outputs": [
        {
          "name": "stdout",
          "output_type": "stream",
          "text": [
            "proporsi\n",
            "Pria      0.463768\n",
            "Wanita    0.500000\n",
            "dtype: float64\n",
            "\n",
            "z:  -1.527654069029986\n",
            "\n",
            "(Jenis Kelamin\n",
            "Pria      0.357871\n",
            "Wanita    0.445704\n",
            "dtype: float64, Jenis Kelamin\n",
            "Pria      0.518841\n",
            "Wanita    0.612267\n",
            "dtype: float64)\n",
            "p-value:  0.12659844966976902\n",
            "\n"
          ]
        }
      ],
      "source": [
        "print(\"proporsi\")\n",
        "print(count/nobs)\n",
        "print()\n",
        "\n",
        "print(\"z: \", stat)\n",
        "print()\n",
        "\n",
        "print(confint)\n",
        "\n",
        "print(\"p-value: \", pval)\n",
        "print()"
      ]
    },
    {
      "cell_type": "markdown",
      "metadata": {
        "id": "fAxPeXD4U6Uz"
      },
      "source": [
        "**Conclusion**\n",
        "\n",
        "Berdasarkan confidence interval 95% proporsi antara pria dan wanita dan kecenderungan memakai ecommerce karena promo adalah 35%-51% untuk pria dan 44%-61% untuk wanita.\n",
        "\n",
        "P-value > alpha sehingga hipotesis perbedaan proporsi gagal ditolak."
      ]
    },
    {
      "cell_type": "markdown",
      "metadata": {
        "id": "u80coZaVapG1"
      },
      "source": [
        "#### Perbedaan proporsi jenis kelamin dan alasan memakai e-money karena simple"
      ]
    },
    {
      "cell_type": "code",
      "execution_count": 106,
      "metadata": {
        "id": "te79_FouapHA"
      },
      "outputs": [],
      "source": [
        "count = df.groupby('Jenis Kelamin')['alasan_pakai_emoney_1'].apply(lambda x: (x == 'Simple').sum())\n",
        "nobs = df['Jenis Kelamin'].value_counts()\n",
        "\n",
        "stat, pval = proportions_ztest(count=count, nobs=nobs)\n",
        "confint = proportion_confint(count=count, nobs=nobs, alpha=0.05)"
      ]
    },
    {
      "cell_type": "code",
      "execution_count": 107,
      "metadata": {
        "colab": {
          "base_uri": "https://localhost:8080/"
        },
        "id": "DzQT5TtqapHA",
        "outputId": "f57aa096-763b-419b-db79-0a1d12fc528a"
      },
      "outputs": [
        {
          "name": "stdout",
          "output_type": "stream",
          "text": [
            "proporsi\n",
            "Pria      0.717391\n",
            "Wanita    0.726027\n",
            "dtype: float64\n",
            "\n",
            "z:  -1.6923492975664405\n",
            "\n",
            "(Jenis Kelamin\n",
            "Pria      0.602297\n",
            "Wanita    0.697702\n",
            "dtype: float64, Jenis Kelamin\n",
            "Pria      0.753868\n",
            "Wanita    0.838530\n",
            "dtype: float64)\n",
            "p-value:  0.0905793935524205\n",
            "\n"
          ]
        }
      ],
      "source": [
        "print(\"proporsi\")\n",
        "print(count/nobs)\n",
        "print()\n",
        "\n",
        "print(\"z: \", stat)\n",
        "print()\n",
        "\n",
        "print(confint)\n",
        "\n",
        "print(\"p-value: \", pval)\n",
        "print()"
      ]
    },
    {
      "cell_type": "markdown",
      "metadata": {
        "id": "yvLD78aDapHB"
      },
      "source": [
        "**Conclusion**\n",
        "\n",
        "Berdasarkan confidence interval 95% proporsi antara pria dan wanita dan kecenderungan memakai ecommerce karena promo adalah 60%-75% untuk pria dan 75%-83% untuk wanita.\n",
        "\n",
        "P-value > alpha sehingga hipotesis perbedaan proporsi = 0 gagal ditolak."
      ]
    },
    {
      "cell_type": "markdown",
      "metadata": {
        "id": "wCVa1sczaqbj"
      },
      "source": [
        "#### Perbedaan proporsi jenis kelamin dan alasan memakai e-money karena aman"
      ]
    },
    {
      "cell_type": "code",
      "execution_count": 108,
      "metadata": {
        "id": "0hwovzI9aqbj"
      },
      "outputs": [],
      "source": [
        "count = df.groupby('Jenis Kelamin')['alasan_pakai_emoney_5'].apply(lambda x: (x == 'Aman').sum())\n",
        "nobs = df['Jenis Kelamin'].value_counts()\n",
        "\n",
        "stat, pval = proportions_ztest(count=count, nobs=nobs)\n",
        "confint = proportion_confint(count=count, nobs=nobs, alpha=0.05)"
      ]
    },
    {
      "cell_type": "code",
      "execution_count": 110,
      "metadata": {
        "colab": {
          "base_uri": "https://localhost:8080/"
        },
        "id": "gZx5MTDZaqbj",
        "outputId": "57f768ea-11e9-4344-fe07-b396320fbadd"
      },
      "outputs": [
        {
          "name": "stdout",
          "output_type": "stream",
          "text": [
            "proporsi\n",
            "Pria      0.275362\n",
            "Wanita    0.267123\n",
            "dtype: float64\n",
            "\n",
            "z:  -0.4231800420584511\n",
            "\n",
            "(Jenis Kelamin\n",
            "Pria      0.189100\n",
            "Wanita    0.207485\n",
            "dtype: float64, Jenis Kelamin\n",
            "Pria      0.331448\n",
            "Wanita    0.357733\n",
            "dtype: float64)\n",
            "p-value:  0.6721639069825153\n",
            "\n"
          ]
        }
      ],
      "source": [
        "print(\"proporsi\")\n",
        "print(count/nobs)\n",
        "print()\n",
        "\n",
        "print(\"z: \", stat)\n",
        "print()\n",
        "\n",
        "print(confint)\n",
        "\n",
        "print(\"p-value: \", pval)\n",
        "print()"
      ]
    },
    {
      "cell_type": "markdown",
      "metadata": {
        "id": "3kpHopwTaqbk"
      },
      "source": [
        "**Conclusion**\n",
        "\n",
        "Berdasarkan confidence interval 95% proporsi antara pria dan wanita dan kecenderungan memakai ecommerce karena promo adalah 18%-33% untuk pria dan 20%-35% untuk wanita.\n",
        "\n",
        "P-value > alpha sehingga hipotesis perbedaan proporsi = 0 gagal ditolak."
      ]
    },
    {
      "cell_type": "code",
      "execution_count": 22,
      "metadata": {
        "id": "K5-SDtXllq69"
      },
      "outputs": [],
      "source": [
        "from statsmodels.stats.proportion import proportions_ztest"
      ]
    },
    {
      "cell_type": "markdown",
      "metadata": {
        "id": "O0yfHdHDcMso"
      },
      "source": [
        "#### Z-Test Proportion untuk Aktivitas Online Meningkat dan Jenis Kelamin"
      ]
    },
    {
      "cell_type": "code",
      "execution_count": 32,
      "metadata": {
        "id": "-Zp1g7i-m_-6"
      },
      "outputs": [],
      "source": [
        "df_filtered = df[df[\"Aktivitas Online Meningkat\"] == \"Ya\"]\n",
        "\n",
        "male_count = df_filtered[df_filtered[\"Jenis Kelamin\"] == \"Pria\"].shape[0]\n",
        "female_count = df_filtered[df_filtered[\"Jenis Kelamin\"] == \"Wanita\"].shape[0]\n",
        "total_count = df_filtered.shape[0]\n",
        "\n",
        "male_prop = male_count / total_count\n",
        "female_prop = female_count / total_count"
      ]
    },
    {
      "cell_type": "code",
      "execution_count": 23,
      "metadata": {
        "colab": {
          "base_uri": "https://localhost:8080/"
        },
        "id": "dC1HBCUonG7H",
        "outputId": "26821f15-af1e-41b2-a703-37e240a659c6"
      },
      "outputs": [
        {
          "name": "stdout",
          "output_type": "stream",
          "text": [
            "z-statistic: 0.2425356250363321\n",
            "p-value: 0.808365155914511\n"
          ]
        }
      ],
      "source": [
        "z_stat, p_value = proportions_ztest([male_count, female_count], [total_count, total_count])\n",
        "\n",
        "print(\"z-statistic:\", z_stat)\n",
        "print(\"p-value:\", p_value)"
      ]
    },
    {
      "cell_type": "markdown",
      "metadata": {
        "id": "XfNA-1bUtbHH"
      },
      "source": [
        "**Conclusion**\n",
        "\n",
        "P-value (0.88) lebih besar dari alpha (0.05), sehingga H0 gagal ditolak.\n",
        "Kesimpulannya, tidak ada cukup bukti untuk membantah selisih proporsi pria dengan aktivitas online meningkat dan proporsi wanita dengan aktivitas online meningkat adalah 0.\n",
        "\n"
      ]
    },
    {
      "cell_type": "markdown",
      "metadata": {
        "id": "uNqMYJNQvyJu"
      },
      "source": [
        "### Chi-Squared Test for Independence\n",
        "\n",
        "\n",
        "---\n"
      ]
    },
    {
      "cell_type": "code",
      "execution_count": 58,
      "metadata": {
        "id": "tVCGAykcPPTs"
      },
      "outputs": [],
      "source": [
        "import matplotlib.pyplot as plt\n",
        "import seaborn as sns\n",
        "import numpy as np\n",
        "from scipy.stats import chi2_contingency"
      ]
    },
    {
      "cell_type": "markdown",
      "metadata": {
        "id": "mzQlbsGhQbn1"
      },
      "source": [
        "#### Frekuensi penggunaan mobile banking homogen pada setiap rentang penghasilan per bulan\n",
        "\n",
        "Atribut:\n",
        "- Penghasilan per Bulan\n",
        "  - Jumlah missing values: 0\n",
        "- Frekuensi Penggunaan Channel Bank Mobile Banking\n",
        "  - Jumlah missing values: 34\n",
        "\n",
        "**H0**: Frekuensi penggunaan mobile banking homogen pada setiap rentang penghasilan per bulan\n",
        "\n",
        "**H1**: Frekuensi penggunaan mobile banking tidak homogen pada setiap rentang penghasilan per bulan"
      ]
    },
    {
      "cell_type": "code",
      "execution_count": 60,
      "metadata": {
        "id": "PyQ8QjGOZHgI"
      },
      "outputs": [],
      "source": [
        "weights = {\n",
        "    '>10 kali per bulan': 4,\n",
        "    '6-9 kali per bulan': 3,\n",
        "    '2-5 kali per bulan': 2,\n",
        "    'Kurang dari/setidaknya 1 kali per bulan': 1,\n",
        "    'Tidak pernah': 0,\n",
        "    np.nan: 0\n",
        "}"
      ]
    },
    {
      "cell_type": "code",
      "execution_count": 61,
      "metadata": {
        "id": "ppD8ah4gZRZ6"
      },
      "outputs": [],
      "source": [
        "# map frequency using weights\n",
        "df['mobile_banking_score'] = df['18. Bagaimana frekuensi penggunaan Channel Bank berikut? [Mobile Banking ]'].map(weights)"
      ]
    },
    {
      "cell_type": "code",
      "execution_count": 62,
      "metadata": {
        "id": "inwIem_B6oZy"
      },
      "outputs": [],
      "source": [
        "contingency_table = pd.crosstab(df['Penghasilan per Bulan'], df['mobile_banking_score'])"
      ]
    },
    {
      "cell_type": "code",
      "execution_count": 63,
      "metadata": {
        "colab": {
          "base_uri": "https://localhost:8080/"
        },
        "id": "4qEs5flr7uBW",
        "outputId": "58869342-98e7-45ce-b562-b388d866ce28"
      },
      "outputs": [
        {
          "name": "stdout",
          "output_type": "stream",
          "text": [
            "chi-squared test statistic: 12.031589759070782\n",
            "p-value: 0.06126777475212697\n"
          ]
        }
      ],
      "source": [
        "chi2, pval, dof, expected = chi2_contingency(contingency_table)\n",
        "\n",
        "print(f'chi-squared test statistic: {chi2}')\n",
        "print(f'p-value: {pval}')"
      ]
    },
    {
      "cell_type": "code",
      "execution_count": 64,
      "metadata": {
        "colab": {
          "base_uri": "https://localhost:8080/",
          "height": 486
        },
        "id": "kXbYm3-D77Yj",
        "outputId": "41e00492-b3ea-43a8-a799-704c8c0b2671"
      },
      "outputs": [
        {
          "data": {
            "image/png": "[encoded data removed]",
            "text/plain": [
              "<Figure size 640x480 with 1 Axes>"
            ]
          },
          "metadata": {},
          "output_type": "display_data"
        }
      ],
      "source": [
        "plt.bar(contingency_table.index, contingency_table.values[:, 0], color='b')  # Pilih kolom pertama\n",
        "plt.xticks(rotation=45, ha='right')\n",
        "plt.xlabel('Penghasilan per Bulan')\n",
        "plt.ylabel('mobile_banking_score')\n",
        "plt.tight_layout()\n",
        "plt.show()"
      ]
    },
    {
      "cell_type": "markdown",
      "metadata": {
        "id": "NqfYkfEpemwN"
      },
      "source": [
        "#### **Insight**\n",
        "\n",
        "P-value (0.06) lebih besar dari alpha (0.05), sehingga H0 gagal ditolak. Hal ini menunjukkan tidak ada cukup bukti untuk menyimpulkan adanya frekuensi penggunaan mobile banking homogen pada setiap rentang penghasilan per bulan\n",
        "\n",
        "Dalam kasus ini, p-value sebesar 0.06 menunjukkan bahwa ada kemungkinan 6% bahwa homogenitas antara rentang penghasilan dan frekuensi penggunaan mobile banking terjadi secara kebetulan. Ini berarti bahwa hubungan tersebut mungkin ada, tetapi mungkin juga tidak.\n",
        "\n",
        "Untuk menarik kesimpulan yang lebih kuat, kita dapat meningkatkan ukuran sampel atau menggunakan uji statistik yang lebih kuat.\n",
        "\n",
        "Jika dilihat dari visualisasi data, penggunnaan mobile banking cenderung berbanding terbalik dengan banyak gaji per bulan. Namun, skor penggunaan mobile banking masih tergolong tinggi pada rentang >7. Oleh karena itu, dapat disimpulkan layanan mobile banking relevan dan sering digunakan oleh semua lapisan masyarakat."
      ]
    },
    {
      "cell_type": "markdown",
      "metadata": {
        "id": "IFtKhDZcQUlo"
      },
      "source": [
        "#### Distribusi pendidikan terakhir homogen pada kedua jenis kelamin\n",
        "\n",
        "Atribut:\n",
        "- Pendidikan terakhir\n",
        "  - Jumlah missing values: 0\n",
        "- Jenis kelamin\n",
        "  - Jumlah missing values: 0\n",
        "\n",
        "**H0**: Distribusi pendidikan terakhir homogen pada kedua jenis kelamin\n",
        "\n",
        "**H1**: Distribusi pendidikan terakhir tidak homogen pada kedua jenis kelamin"
      ]
    },
    {
      "cell_type": "code",
      "execution_count": 66,
      "metadata": {
        "id": "2asIgQKEQUlp"
      },
      "outputs": [],
      "source": [
        "contingency_table = pd.crosstab(df['Pendidikan Terakhir'], df['Jenis Kelamin'])"
      ]
    },
    {
      "cell_type": "code",
      "execution_count": 67,
      "metadata": {
        "colab": {
          "base_uri": "https://localhost:8080/"
        },
        "id": "tT2o2FKqQUlp",
        "outputId": "0df535b4-e655-41ba-a581-3cbbde4e41c1"
      },
      "outputs": [
        {
          "name": "stdout",
          "output_type": "stream",
          "text": [
            "chi-squared test statistic: 8.992004392190536\n",
            "p-value: 0.10938350115086388\n"
          ]
        }
      ],
      "source": [
        "chi2, pval, dof, expected = chi2_contingency(contingency_table)\n",
        "\n",
        "print(f'chi-squared test statistic: {chi2}')\n",
        "print(f'p-value: {pval}')"
      ]
    },
    {
      "cell_type": "markdown",
      "metadata": {
        "id": "sp1k6TsMQUlr"
      },
      "source": [
        "**Conclusion**\n",
        "\n",
        "P-value (0.11) lebih besar dari alpha (0.05), sehingga H0 gagal ditolak. Hal ini menunjukkan tidak ada cukup bukti untuk menyimpulkan homogenitas antara tingkat pendidikan di antara dua jenis kelamin."
      ]
    },
    {
      "cell_type": "markdown",
      "metadata": {
        "id": "ytNbpqtfv3Wc"
      },
      "source": [
        "### Chi-Squared Test for Homogenity\n",
        "\n",
        "\n",
        "---\n",
        "\n"
      ]
    },
    {
      "cell_type": "code",
      "execution_count": 92,
      "metadata": {
        "id": "HfN-MTPEW2Oj"
      },
      "outputs": [],
      "source": [
        "from scipy.stats import chi2_contingency"
      ]
    },
    {
      "cell_type": "code",
      "execution_count": 106,
      "metadata": {
        "colab": {
          "base_uri": "https://localhost:8080/",
          "height": 175
        },
        "id": "DG9dVdTqXeRm",
        "outputId": "8a09de65-732d-49b6-ac2f-fb26ea82f5da"
      },
      "outputs": [
        {
          "data": {
            "text/html": [
              "\n",
              "  <div id=\"df-63aa4f67-3376-4181-aa46-3be1e543c66a\" class=\"colab-df-container\">\n",
              "    <div>\n",
              "<style scoped>\n",
              "    .dataframe tbody tr th:only-of-type {\n",
              "        vertical-align: middle;\n",
              "    }\n",
              "\n",
              "    .dataframe tbody tr th {\n",
              "        vertical-align: top;\n",
              "    }\n",
              "\n",
              "    .dataframe thead th {\n",
              "        text-align: right;\n",
              "    }\n",
              "</style>\n",
              "<table border=\"1\" class=\"dataframe\">\n",
              "  <thead>\n",
              "    <tr style=\"text-align: right;\">\n",
              "      <th></th>\n",
              "      <th>Usia</th>\n",
              "      <th>tempat_belanja_online_1</th>\n",
              "    </tr>\n",
              "  </thead>\n",
              "  <tbody>\n",
              "    <tr>\n",
              "      <th>48</th>\n",
              "      <td>57</td>\n",
              "      <td>Marketplace (seperti Lazada</td>\n",
              "    </tr>\n",
              "    <tr>\n",
              "      <th>102</th>\n",
              "      <td>50</td>\n",
              "      <td>NaN</td>\n",
              "    </tr>\n",
              "    <tr>\n",
              "      <th>123</th>\n",
              "      <td>52</td>\n",
              "      <td>NaN</td>\n",
              "    </tr>\n",
              "    <tr>\n",
              "      <th>264</th>\n",
              "      <td>51</td>\n",
              "      <td>NaN</td>\n",
              "    </tr>\n",
              "  </tbody>\n",
              "</table>\n",
              "</div>\n",
              "    <div class=\"colab-df-buttons\">\n",
              "\n",
              "  <div class=\"colab-df-container\">\n",
              "    <button class=\"colab-df-convert\" onclick=\"convertToInteractive('df-63aa4f67-3376-4181-aa46-3be1e543c66a')\"\n",
              "            title=\"Convert this dataframe to an interactive table.\"\n",
              "            style=\"display:none;\">\n",
              "\n",
              "  <svg xmlns=\"http://www.w3.org/2000/svg\" height=\"24px\" viewBox=\"0 -960 960 960\">\n",
              "    <path d=\"M120-120v-720h720v720H120Zm60-500h600v-160H180v160Zm220 220h160v-160H400v160Zm0 220h160v-160H400v160ZM180-400h160v-160H180v160Zm440 0h160v-160H620v160ZM180-180h160v-160H180v160Zm440 0h160v-160H620v160Z\"/>\n",
              "  </svg>\n",
              "    </button>\n",
              "\n",
              "  <style>\n",
              "    .colab-df-container {\n",
              "      display:flex;\n",
              "      gap: 12px;\n",
              "    }\n",
              "\n",
              "    .colab-df-convert {\n",
              "      background-color: #E8F0FE;\n",
              "      border: none;\n",
              "      border-radius: 50%;\n",
              "      cursor: pointer;\n",
              "      display: none;\n",
              "      fill: #1967D2;\n",
              "      height: 32px;\n",
              "      padding: 0 0 0 0;\n",
              "      width: 32px;\n",
              "    }\n",
              "\n",
              "    .colab-df-convert:hover {\n",
              "      background-color: #E2EBFA;\n",
              "      box-shadow: 0px 1px 2px rgba(60, 64, 67, 0.3), 0px 1px 3px 1px rgba(60, 64, 67, 0.15);\n",
              "      fill: #174EA6;\n",
              "    }\n",
              "\n",
              "    .colab-df-buttons div {\n",
              "      margin-bottom: 4px;\n",
              "    }\n",
              "\n",
              "    [theme=dark] .colab-df-convert {\n",
              "      background-color: #3B4455;\n",
              "      fill: #D2E3FC;\n",
              "    }\n",
              "\n",
              "    [theme=dark] .colab-df-convert:hover {\n",
              "      background-color: #434B5C;\n",
              "      box-shadow: 0px 1px 3px 1px rgba(0, 0, 0, 0.15);\n",
              "      filter: drop-shadow(0px 1px 2px rgba(0, 0, 0, 0.3));\n",
              "      fill: #FFFFFF;\n",
              "    }\n",
              "  </style>\n",
              "\n",
              "    <script>\n",
              "      const buttonEl =\n",
              "        document.querySelector('#df-63aa4f67-3376-4181-aa46-3be1e543c66a button.colab-df-convert');\n",
              "      buttonEl.style.display =\n",
              "        google.colab.kernel.accessAllowed ? 'block' : 'none';\n",
              "\n",
              "      async function convertToInteractive(key) {\n",
              "        const element = document.querySelector('#df-63aa4f67-3376-4181-aa46-3be1e543c66a');\n",
              "        const dataTable =\n",
              "          await google.colab.kernel.invokeFunction('convertToInteractive',\n",
              "                                                    [key], {});\n",
              "        if (!dataTable) return;\n",
              "\n",
              "        const docLinkHtml = 'Like what you see? Visit the ' +\n",
              "          '<a target=\"_blank\" href=https://colab.research.google.com/notebooks/data_table.ipynb>data table notebook</a>'\n",
              "          + ' to learn more about interactive tables.';\n",
              "        element.innerHTML = '';\n",
              "        dataTable['output_type'] = 'display_data';\n",
              "        await google.colab.output.renderOutput(dataTable, element);\n",
              "        const docLink = document.createElement('div');\n",
              "        docLink.innerHTML = docLinkHtml;\n",
              "        element.appendChild(docLink);\n",
              "      }\n",
              "    </script>\n",
              "  </div>\n",
              "\n",
              "\n",
              "<div id=\"df-06429a9b-0d3e-468f-a0cb-a5c05d06fae6\">\n",
              "  <button class=\"colab-df-quickchart\" onclick=\"quickchart('df-06429a9b-0d3e-468f-a0cb-a5c05d06fae6')\"\n",
              "            title=\"Suggest charts\"\n",
              "            style=\"display:none;\">\n",
              "\n",
              "<svg xmlns=\"http://www.w3.org/2000/svg\" height=\"24px\"viewBox=\"0 0 24 24\"\n",
              "     width=\"24px\">\n",
              "    <g>\n",
              "        <path d=\"M19 3H5c-1.1 0-2 .9-2 2v14c0 1.1.9 2 2 2h14c1.1 0 2-.9 2-2V5c0-1.1-.9-2-2-2zM9 17H7v-7h2v7zm4 0h-2V7h2v10zm4 0h-2v-4h2v4z\"/>\n",
              "    </g>\n",
              "</svg>\n",
              "  </button>\n",
              "\n",
              "<style>\n",
              "  .colab-df-quickchart {\n",
              "      --bg-color: #E8F0FE;\n",
              "      --fill-color: #1967D2;\n",
              "      --hover-bg-color: #E2EBFA;\n",
              "      --hover-fill-color: #174EA6;\n",
              "      --disabled-fill-color: #AAA;\n",
              "      --disabled-bg-color: #DDD;\n",
              "  }\n",
              "\n",
              "  [theme=dark] .colab-df-quickchart {\n",
              "      --bg-color: #3B4455;\n",
              "      --fill-color: #D2E3FC;\n",
              "      --hover-bg-color: #434B5C;\n",
              "      --hover-fill-color: #FFFFFF;\n",
              "      --disabled-bg-color: #3B4455;\n",
              "      --disabled-fill-color: #666;\n",
              "  }\n",
              "\n",
              "  .colab-df-quickchart {\n",
              "    background-color: var(--bg-color);\n",
              "    border: none;\n",
              "    border-radius: 50%;\n",
              "    cursor: pointer;\n",
              "    display: none;\n",
              "    fill: var(--fill-color);\n",
              "    height: 32px;\n",
              "    padding: 0;\n",
              "    width: 32px;\n",
              "  }\n",
              "\n",
              "  .colab-df-quickchart:hover {\n",
              "    background-color: var(--hover-bg-color);\n",
              "    box-shadow: 0 1px 2px rgba(60, 64, 67, 0.3), 0 1px 3px 1px rgba(60, 64, 67, 0.15);\n",
              "    fill: var(--button-hover-fill-color);\n",
              "  }\n",
              "\n",
              "  .colab-df-quickchart-complete:disabled,\n",
              "  .colab-df-quickchart-complete:disabled:hover {\n",
              "    background-color: var(--disabled-bg-color);\n",
              "    fill: var(--disabled-fill-color);\n",
              "    box-shadow: none;\n",
              "  }\n",
              "\n",
              "  .colab-df-spinner {\n",
              "    border: 2px solid var(--fill-color);\n",
              "    border-color: transparent;\n",
              "    border-bottom-color: var(--fill-color);\n",
              "    animation:\n",
              "      spin 1s steps(1) infinite;\n",
              "  }\n",
              "\n",
              "  @keyframes spin {\n",
              "    0% {\n",
              "      border-color: transparent;\n",
              "      border-bottom-color: var(--fill-color);\n",
              "      border-left-color: var(--fill-color);\n",
              "    }\n",
              "    20% {\n",
              "      border-color: transparent;\n",
              "      border-left-color: var(--fill-color);\n",
              "      border-top-color: var(--fill-color);\n",
              "    }\n",
              "    30% {\n",
              "      border-color: transparent;\n",
              "      border-left-color: var(--fill-color);\n",
              "      border-top-color: var(--fill-color);\n",
              "      border-right-color: var(--fill-color);\n",
              "    }\n",
              "    40% {\n",
              "      border-color: transparent;\n",
              "      border-right-color: var(--fill-color);\n",
              "      border-top-color: var(--fill-color);\n",
              "    }\n",
              "    60% {\n",
              "      border-color: transparent;\n",
              "      border-right-color: var(--fill-color);\n",
              "    }\n",
              "    80% {\n",
              "      border-color: transparent;\n",
              "      border-right-color: var(--fill-color);\n",
              "      border-bottom-color: var(--fill-color);\n",
              "    }\n",
              "    90% {\n",
              "      border-color: transparent;\n",
              "      border-bottom-color: var(--fill-color);\n",
              "    }\n",
              "  }\n",
              "</style>\n",
              "\n",
              "  <script>\n",
              "    async function quickchart(key) {\n",
              "      const quickchartButtonEl =\n",
              "        document.querySelector('#' + key + ' button');\n",
              "      quickchartButtonEl.disabled = true;  // To prevent multiple clicks.\n",
              "      quickchartButtonEl.classList.add('colab-df-spinner');\n",
              "      try {\n",
              "        const charts = await google.colab.kernel.invokeFunction(\n",
              "            'suggestCharts', [key], {});\n",
              "      } catch (error) {\n",
              "        console.error('Error during call to suggestCharts:', error);\n",
              "      }\n",
              "      quickchartButtonEl.classList.remove('colab-df-spinner');\n",
              "      quickchartButtonEl.classList.add('colab-df-quickchart-complete');\n",
              "    }\n",
              "    (() => {\n",
              "      let quickchartButtonEl =\n",
              "        document.querySelector('#df-06429a9b-0d3e-468f-a0cb-a5c05d06fae6 button');\n",
              "      quickchartButtonEl.style.display =\n",
              "        google.colab.kernel.accessAllowed ? 'block' : 'none';\n",
              "    })();\n",
              "  </script>\n",
              "</div>\n",
              "    </div>\n",
              "  </div>\n"
            ],
            "text/plain": [
              "     Usia      tempat_belanja_online_1\n",
              "48     57  Marketplace (seperti Lazada\n",
              "102    50                          NaN\n",
              "123    52                          NaN\n",
              "264    51                          NaN"
            ]
          },
          "execution_count": 106,
          "metadata": {},
          "output_type": "execute_result"
        }
      ],
      "source": [
        "no_ecom_df = get_no_answer_df(df, 'ecommerce_pilihan_')\n",
        "\n",
        "no_ecom_df[['Usia', 'tempat_belanja_online_1']]"
      ]
    },
    {
      "cell_type": "markdown",
      "metadata": {
        "id": "aBuNnCeAYV-H"
      },
      "source": [
        "Dari responden yang tidak memilih e-commerce sama sekali, hanya satu yang menyatakan berbelanja online di marketplace. Perhatikan bahwa usia semua responden tersebut di atas 50 sehingga kemungkinan mereka tidak menggunakan sarana marketplace/ecommerce.\n",
        "\n",
        "Data e-commerce pilihan dianggap valid untuk dianalisa karena cukup lengkap."
      ]
    },
    {
      "cell_type": "code",
      "execution_count": 98,
      "metadata": {
        "id": "VYGVDkogW4dT"
      },
      "outputs": [],
      "source": [
        "cols = [\"ecommerce_pilihan_1\", \"ecommerce_pilihan_2\", \"ecommerce_pilihan_3\", \"ecommerce_pilihan_4\", \"keluhan_belanja_online_1\", \"keluhan_belanja_online_2\", \"keluhan_belanja_online_3\", \"keluhan_belanja_online_4\", \"keluhan_belanja_online_5\", \"keluhan_belanja_online_6\"]\n",
        "ecom = df[cols]\n",
        "ecom = ecom.dropna()"
      ]
    },
    {
      "cell_type": "code",
      "execution_count": 108,
      "metadata": {
        "id": "IUfnxwukZCSd"
      },
      "outputs": [],
      "source": [
        "contingency_table = pd.crosstab(df[\"ecommerce_pilihan_1\"], df[\"keluhan_belanja_online_1\"])"
      ]
    },
    {
      "cell_type": "code",
      "execution_count": 110,
      "metadata": {
        "colab": {
          "base_uri": "https://localhost:8080/"
        },
        "id": "AjZHqyxoZMAd",
        "outputId": "d35ce307-daa4-4853-f637-1adb5c0f573d"
      },
      "outputs": [
        {
          "name": "stdout",
          "output_type": "stream",
          "text": [
            "chi-squared value: 0.0\n",
            "p-value: 1.0\n"
          ]
        }
      ],
      "source": [
        "chi2, p, dof, expected = chi2_contingency(contingency_table)\n",
        "\n",
        "print(\"chi-squared value:\", chi2)\n",
        "print(\"p-value:\", p)"
      ]
    },
    {
      "cell_type": "markdown",
      "metadata": {
        "id": "SqIG6Co0crMY"
      },
      "source": [
        "**Conclusion**\n",
        "\n",
        "P-value = 1 menunjukkan bahwa terdapat homogenitas antara atribut yang diuji."
      ]
    },
    {
      "cell_type": "markdown",
      "metadata": {
        "id": "p72E7_pY9hgq"
      },
      "source": [
        "## **Lainnya**"
      ]
    },
    {
      "cell_type": "markdown",
      "metadata": {
        "id": "soG976AT9nMq"
      },
      "source": [
        "### Menganalisis Kecenderungan Berbelanja Online untuk Berbagai Produk\n",
        "\n"
      ]
    },
    {
      "cell_type": "code",
      "execution_count": 191,
      "metadata": {
        "colab": {
          "base_uri": "https://localhost:8080/"
        },
        "id": "9AQfkiKA9lCd",
        "outputId": "f09410c6-3e56-4184-96f3-b7e787226e53"
      },
      "outputs": [
        {
          "name": "stdout",
          "output_type": "stream",
          "text": [
            "47. Bagaimana kecenderungan Anda jika akan berbelanja hal-hal berikut? [fashion & mode]\n",
            "                                    value  frequency\n",
            "0  offline/ langsung datang ke toko fisik         93\n",
            "1                                  online         91\n",
            "\n",
            "47. Bagaimana kecenderungan Anda jika akan berbelanja hal-hal berikut? [groceries / keperluan sehari- hari]\n",
            "                                    value  frequency\n",
            "0  offline/ langsung datang ke toko fisik        143\n",
            "1                                  online         50\n",
            "\n",
            "47. Bagaimana kecenderungan Anda jika akan berbelanja hal-hal berikut? [handphone]\n",
            "                                    value  frequency\n",
            "0  offline/ langsung datang ke toko fisik        145\n",
            "1                                  online         39\n",
            "\n",
            "47. Bagaimana kecenderungan Anda jika akan berbelanja hal-hal berikut? [laptop/computer]\n",
            "                                    value  frequency\n",
            "0  offline/ langsung datang ke toko fisik        153\n",
            "1                                  online         32\n",
            "\n",
            "47. Bagaimana kecenderungan Anda jika akan berbelanja hal-hal berikut? [alat elektronik rumah tangga]\n",
            "                                    value  frequency\n",
            "0  offline/ langsung datang ke toko fisik        108\n",
            "1                                  online         73\n",
            "\n",
            "47. Bagaimana kecenderungan Anda jika akan berbelanja hal-hal berikut? [kosmetik & alat kecantikan/ perawatan badan]\n",
            "                                    value  frequency\n",
            "0                                  online        119\n",
            "1  offline/ langsung datang ke toko fisik         64\n",
            "\n",
            "47. Bagaimana kecenderungan Anda jika akan berbelanja hal-hal berikut? [buku, hobi & koleksi]\n",
            "                                    value  frequency\n",
            "0                                  online        120\n",
            "1  offline/ langsung datang ke toko fisik         66\n",
            "\n",
            "47. Bagaimana kecenderungan Anda jika akan berbelanja hal-hal berikut? [pulsa (data & komunikasi)]\n",
            "                                    value  frequency\n",
            "0                                  online        177\n",
            "1  offline/ langsung datang ke toko fisik         15\n",
            "\n",
            "47. Bagaimana kecenderungan Anda jika akan berbelanja hal-hal berikut? [makanan & minuman]\n",
            "                                    value  frequency\n",
            "0                                  online        122\n",
            "1  offline/ langsung datang ke toko fisik         71\n",
            "\n",
            "47. Bagaimana kecenderungan Anda jika akan berbelanja hal-hal berikut? [tiket pesawat tiket kereta api hotel]\n",
            "                                    value  frequency\n",
            "0                                  online        166\n",
            "1  offline/ langsung datang ke toko fisik         24\n",
            "\n",
            "47. Bagaimana kecenderungan Anda jika akan berbelanja hal-hal berikut? [tiket bioskop tiket wisata]\n",
            "                                    value  frequency\n",
            "0                                  online        132\n",
            "1  offline/ langsung datang ke toko fisik         53\n",
            "\n"
          ]
        }
      ],
      "source": [
        "for i in range(97, 108):\n",
        "    col = df.columns[i]\n",
        "\n",
        "    online_freq = get_unique_values_and_frequencies(df, col)\n",
        "\n",
        "    print(col)\n",
        "    print(online_freq)\n",
        "    print()"
      ]
    },
    {
      "cell_type": "markdown",
      "metadata": {
        "id": "GhLPtgnK9zhU"
      },
      "source": [
        "### **Insight**\n",
        "\n",
        "Kecenderungan berbelanja sekarang sudah mulai bergeser ke berbelanja online untuk berbagai produk, terutama kosmetik, buku & hobi, pulsa, makanan & minuman, tiket pesawat, dan tiket bioskop.\n",
        "\n",
        "Kecenderungan ini berasal dari kemudahan dalam berbelanja barang-barang tersebut online. Buktinya dapat dilihat dari data alasan seseorang memilih berbelanja online.\n",
        "\n",
        "Jika diperhatikan, produk-produk tersebut tersedia pada banyak e-commerce. E-commerce dianggap sebagai sarana jual beli online yang dapat dipercaya. Oleh karena itu, untuk meningkatkan penjualan barang-barang tersebut, sebaiknya seorang penjual menjajakan barangnya di berbagai e-commerce."
      ]
    },
    {
      "cell_type": "markdown",
      "metadata": {
        "id": "US1ZlUUB_Dgb"
      },
      "source": [
        "### **Insight**\n",
        "\n",
        "Namun, untuk beberapa barang seperti groceries, handphone, laptop, dan alat elektronik, orang-orang masih cenderung berbelanja offline.\n",
        "\n",
        "Jika diperhatikan, kebanyakan barang ini adalah barang-barang yang relatif mahal.\n",
        "\n",
        "Rendahnya tingkat berbelanja online untuk barang-barang mahal menunjukkan masih ada resiko yang terlalu 'mahal' dikorbankan dibandingkan berbelanja offline.\n",
        "\n",
        "Jika seseorang berbelanja offline, dia perlu waktu untuk pergi ke toko, kemudian mencari di beberapa toko untuk membandingkan harga. Namun, pengorbanan itu dinilai masih lebih 'murah' atau 'aman' dibandingkan resiko berbelanja online.\n",
        "\n",
        "Keluhan berbelanja online yang relevan dengan situasi ini antara lain, barang rusak, barang salah, barang yang diperoleh tidak sesuai dengan promosi.\n",
        "\n",
        "Jika ingin lebih banyak orang berbelanja barang-barang elektronik secara online, keamanan dan garansi barang selama pengiriman harus dijamin serta perlu ada verifikasi spesifikasi yang dapat memastikan barang sesuai.\n",
        "\n",
        "Problem kedua dapat ditindaklanjuti dengan memberikan verifikasi store atau verifikasi per barang jualan. Namun, problem keamanan selama pengiriman masih sulit dijamin karena berkaitan dengan banyak faktor eksternal."
      ]
    },
    {
      "cell_type": "markdown",
      "metadata": {
        "id": "7MxGoZReAt_1"
      },
      "source": [
        "### **Insight**\n",
        "\n",
        "Selain barang yang relatif mahal, barang yang diperlukan fresh juga cenderung dibeli secara offline, misalnya grocery.\n",
        "\n",
        "Beberapa orang ingin memilih sendiri barang belanjaannya, seperti buah yang manis, sayur yang masih hijau, atau ikan yang baru sampai di pasar.\n",
        "\n",
        "Kendala dari sistem belanja online selama ini adalah tidak ada jaminan bahwa agen yang memilih dan membawa pesanan ahli dalam memilih bahan-bahan yang bagus.\n",
        "\n",
        "Ada peluang untuk mengembangkan bisnis layanan belanja online dengan jaminan agen yang ditugaskan ahli dalam memilih bahan makanan yang bagus.\n",
        "\n",
        "Alternatif lain untuk pilihan belanja ini adalah membuka toko online yang menjamin kualitas barang yang dijual. Toko online ini biasa dikenal dengan toko dengan kualitas premium."
      ]
    },
    {
      "cell_type": "code",
      "execution_count": 47,
      "metadata": {
        "id": "J9LwBHAqaLS5"
      },
      "outputs": [],
      "source": [
        "contingency_table = pd.crosstab(df['Usia'], df['mobile_banking_score'])"
      ]
    },
    {
      "cell_type": "code",
      "execution_count": 48,
      "metadata": {
        "colab": {
          "base_uri": "https://localhost:8080/"
        },
        "id": "kPJS5ZFPaZd2",
        "outputId": "8c3b1afb-c5b5-4ddc-eaba-b00d154fba11"
      },
      "outputs": [
        {
          "name": "stdout",
          "output_type": "stream",
          "text": [
            "chi-squared test statistic: 73.07887519055338\n",
            "p-value: 0.1196679308499407\n"
          ]
        }
      ],
      "source": [
        "chi2, pval, dof, expected = chi2_contingency(contingency_table)\n",
        "\n",
        "print(f'chi-squared test statistic: {chi2}')\n",
        "print(f'p-value: {pval}')"
      ]
    },
    {
      "cell_type": "code",
      "execution_count": 49,
      "metadata": {
        "colab": {
          "base_uri": "https://localhost:8080/",
          "height": 449
        },
        "id": "qYdyrELWPWh5",
        "outputId": "6c85d78a-73fb-4e6d-a686-1b51e436931f"
      },
      "outputs": [
        {
          "data": {
            "image/png": "[encoded data removed]",
            "text/plain": [
              "<Figure size 640x480 with 1 Axes>"
            ]
          },
          "metadata": {},
          "output_type": "display_data"
        }
      ],
      "source": [
        "plt.bar(contingency_table.index, contingency_table.values[:, 0], color='b')  # Pilih kolom pertama\n",
        "plt.xlabel('Usia')\n",
        "plt.ylabel('mobile_banking_score')\n",
        "plt.show()"
      ]
    },
    {
      "cell_type": "markdown",
      "metadata": {
        "id": "ZEKiq-qjRLF4"
      },
      "source": [
        "### Analisis channel bank paling populer"
      ]
    },
    {
      "cell_type": "code",
      "execution_count": 117,
      "metadata": {
        "colab": {
          "base_uri": "https://localhost:8080/"
        },
        "id": "XJY4MCUyRDBu",
        "outputId": "eb30ad94-3116-4ad6-d949-0af710882bcd"
      },
      "outputs": [
        {
          "name": "stdout",
          "output_type": "stream",
          "text": [
            "missing values: 2\n",
            "proportion: 0.007042253521126761\n"
          ]
        }
      ],
      "source": [
        "no_channel_df = get_no_answer_df(df, \"18. Bagaimana frekuensi penggunaan Channel Bank berikut? \")\n",
        "\n",
        "print(\"missing values:\", no_channel_df.shape[0])\n",
        "print(\"proportion:\", no_channel_df.shape[0]/n_row)"
      ]
    },
    {
      "cell_type": "markdown",
      "metadata": {
        "id": "7RN-tn9YTHaL"
      },
      "source": [
        "Jumlah responden yang tidak mengisi channel bank sama sekali adalah 2 orang (0.007%). Data yang tersedia cenderung valid dan memadai untuk melakukan analisis."
      ]
    },
    {
      "cell_type": "code",
      "execution_count": 118,
      "metadata": {
        "id": "0IlUM0iEUNEs"
      },
      "outputs": [],
      "source": [
        "weights = {\n",
        "    '>10 kali per bulan': 4,\n",
        "    '6-9 kali per bulan': 3,\n",
        "    '2-5 kali per bulan': 2,\n",
        "    'Kurang dari/setidaknya 1 kali per bulan': 1,\n",
        "    'Tidak pernah': 0\n",
        "}"
      ]
    },
    {
      "cell_type": "code",
      "execution_count": 125,
      "metadata": {
        "id": "5UksxmQPUszt"
      },
      "outputs": [],
      "source": [
        "channel_scores = {}\n",
        "for col in df.filter(like='18. Bagaimana frekuensi penggunaan Channel Bank berikut?'):\n",
        "    weighted_frequencies = df[col].map(weights)\n",
        "    channel_scores[col.replace('18. Bagaimana frekuensi penggunaan Channel Bank berikut? ', '')] = weighted_frequencies.sum()\n"
      ]
    },
    {
      "cell_type": "code",
      "execution_count": 126,
      "metadata": {
        "colab": {
          "base_uri": "https://localhost:8080/"
        },
        "id": "WBjcju6BVD1Z",
        "outputId": "f2277ab0-3ac3-424e-bef8-6546cce12800"
      },
      "outputs": [
        {
          "name": "stdout",
          "output_type": "stream",
          "text": [
            "Channel bank yang paling banyak digunakan adalah: [ATM]\n"
          ]
        }
      ],
      "source": [
        "most_used_channel = max(channel_scores, key=channel_scores.get)\n",
        "print(f'Channel bank yang paling banyak digunakan adalah: {most_used_channel}')"
      ]
    },
    {
      "cell_type": "code",
      "execution_count": 128,
      "metadata": {
        "colab": {
          "base_uri": "https://localhost:8080/",
          "height": 487
        },
        "id": "HI9JS_SXVGzM",
        "outputId": "4d595ee8-6e3e-4f17-d089-7d3c0b776ce3"
      },
      "outputs": [
        {
          "data": {
            "image/png": "[encoded data removed]",
            "text/plain": [
              "<Figure size 640x480 with 1 Axes>"
            ]
          },
          "metadata": {},
          "output_type": "display_data"
        }
      ],
      "source": [
        "plt.bar(channel_scores.keys(), channel_scores.values())\n",
        "\n",
        "plt.xticks(rotation=45, ha='right')\n",
        "\n",
        "plt.xlabel('Channel Bank')\n",
        "plt.ylabel('Skor Penggunaan')\n",
        "plt.title('Penggunaan Channel Bank dengan Pembobotan Frekuensi')\n",
        "plt.tight_layout()\n",
        "plt.show()"
      ]
    },
    {
      "cell_type": "code",
      "execution_count": 124,
      "metadata": {
        "colab": {
          "base_uri": "https://localhost:8080/"
        },
        "id": "uo1haO-XV0om",
        "outputId": "eb21b182-468d-4d6f-d419-f972b2d9fc6d"
      },
      "outputs": [
        {
          "data": {
            "text/plain": [
              "0      > 10 kali per bulan\n",
              "1       2-5 kali per bulan\n",
              "2       6-9 kali per bulan\n",
              "3       2-5 kali per bulan\n",
              "4       2-5 kali per bulan\n",
              "              ...         \n",
              "279    > 10 kali per bulan\n",
              "280    > 10 kali per bulan\n",
              "281     2-5 kali per bulan\n",
              "282     6-9 kali per bulan\n",
              "283     2-5 kali per bulan\n",
              "Name: 18. Bagaimana frekuensi penggunaan Channel Bank berikut? [ATM], Length: 284, dtype: object"
            ]
          },
          "execution_count": 124,
          "metadata": {},
          "output_type": "execute_result"
        }
      ],
      "source": [
        "df['18. Bagaimana frekuensi penggunaan Channel Bank berikut? [ATM]']"
      ]
    },
    {
      "cell_type": "markdown",
      "metadata": {
        "id": "lKBxk75ICPN4"
      },
      "source": [
        "### Menganalisis penggunaan e-money paling populer"
      ]
    },
    {
      "cell_type": "code",
      "execution_count": 82,
      "metadata": {
        "colab": {
          "base_uri": "https://localhost:8080/"
        },
        "id": "V3ILKM6FDQst",
        "outputId": "0752cfa9-2191-4e23-f28a-3e7c9df86894"
      },
      "outputs": [
        {
          "data": {
            "text/plain": [
              "21"
            ]
          },
          "execution_count": 82,
          "metadata": {},
          "output_type": "execute_result"
        }
      ],
      "source": [
        "no_guna_emoney_df = df[~df[['penggunaan_emoney_1', 'penggunaan_emoney_2', 'penggunaan_emoney_3', 'penggunaan_emoney_4', 'penggunaan_emoney_5', 'penggunaan_emoney_6', 'penggunaan_emoney_7', 'penggunaan_emoney_8', 'penggunaan_emoney_9', 'penggunaan_emoney_10']].any(axis=1)]\n",
        "\n",
        "no_guna_emoney_df.shape[0]"
      ]
    },
    {
      "cell_type": "code",
      "execution_count": 80,
      "metadata": {
        "colab": {
          "base_uri": "https://localhost:8080/",
          "height": 363
        },
        "id": "U4uDw3EpCgch",
        "outputId": "2401a11d-4d40-4184-b10e-f689645e82ca"
      },
      "outputs": [
        {
          "data": {
            "text/html": [
              "\n",
              "  <div id=\"df-49ab2d6c-3ef2-40b5-b911-3bc8cdb28b9f\" class=\"colab-df-container\">\n",
              "    <div>\n",
              "<style scoped>\n",
              "    .dataframe tbody tr th:only-of-type {\n",
              "        vertical-align: middle;\n",
              "    }\n",
              "\n",
              "    .dataframe tbody tr th {\n",
              "        vertical-align: top;\n",
              "    }\n",
              "\n",
              "    .dataframe thead th {\n",
              "        text-align: right;\n",
              "    }\n",
              "</style>\n",
              "<table border=\"1\" class=\"dataframe\">\n",
              "  <thead>\n",
              "    <tr style=\"text-align: right;\">\n",
              "      <th></th>\n",
              "      <th>penggunaan</th>\n",
              "      <th>frequency</th>\n",
              "    </tr>\n",
              "  </thead>\n",
              "  <tbody>\n",
              "    <tr>\n",
              "      <th>0</th>\n",
              "      <td>Pembelian delivery makanan</td>\n",
              "      <td>201</td>\n",
              "    </tr>\n",
              "    <tr>\n",
              "      <th>1</th>\n",
              "      <td>Pembayaran transportasi online</td>\n",
              "      <td>176</td>\n",
              "    </tr>\n",
              "    <tr>\n",
              "      <th>2</th>\n",
              "      <td>Pembayaran e-commerce</td>\n",
              "      <td>175</td>\n",
              "    </tr>\n",
              "    <tr>\n",
              "      <th>3</th>\n",
              "      <td>Pembayaran di restauran/ cafe</td>\n",
              "      <td>133</td>\n",
              "    </tr>\n",
              "    <tr>\n",
              "      <th>4</th>\n",
              "      <td>Pembayaran tol</td>\n",
              "      <td>132</td>\n",
              "    </tr>\n",
              "    <tr>\n",
              "      <th>5</th>\n",
              "      <td>Pembelian pulsa</td>\n",
              "      <td>131</td>\n",
              "    </tr>\n",
              "    <tr>\n",
              "      <th>6</th>\n",
              "      <td>Pembayaran di minimarket</td>\n",
              "      <td>124</td>\n",
              "    </tr>\n",
              "    <tr>\n",
              "      <th>7</th>\n",
              "      <td>Pembayaran tiket parkir</td>\n",
              "      <td>108</td>\n",
              "    </tr>\n",
              "    <tr>\n",
              "      <th>8</th>\n",
              "      <td>Pembayaran transportasi umum</td>\n",
              "      <td>88</td>\n",
              "    </tr>\n",
              "    <tr>\n",
              "      <th>9</th>\n",
              "      <td>Pembayaran utilitas (PLN</td>\n",
              "      <td>64</td>\n",
              "    </tr>\n",
              "  </tbody>\n",
              "</table>\n",
              "</div>\n",
              "    <div class=\"colab-df-buttons\">\n",
              "\n",
              "  <div class=\"colab-df-container\">\n",
              "    <button class=\"colab-df-convert\" onclick=\"convertToInteractive('df-49ab2d6c-3ef2-40b5-b911-3bc8cdb28b9f')\"\n",
              "            title=\"Convert this dataframe to an interactive table.\"\n",
              "            style=\"display:none;\">\n",
              "\n",
              "  <svg xmlns=\"http://www.w3.org/2000/svg\" height=\"24px\" viewBox=\"0 -960 960 960\">\n",
              "    <path d=\"M120-120v-720h720v720H120Zm60-500h600v-160H180v160Zm220 220h160v-160H400v160Zm0 220h160v-160H400v160ZM180-400h160v-160H180v160Zm440 0h160v-160H620v160ZM180-180h160v-160H180v160Zm440 0h160v-160H620v160Z\"/>\n",
              "  </svg>\n",
              "    </button>\n",
              "\n",
              "  <style>\n",
              "    .colab-df-container {\n",
              "      display:flex;\n",
              "      gap: 12px;\n",
              "    }\n",
              "\n",
              "    .colab-df-convert {\n",
              "      background-color: #E8F0FE;\n",
              "      border: none;\n",
              "      border-radius: 50%;\n",
              "      cursor: pointer;\n",
              "      display: none;\n",
              "      fill: #1967D2;\n",
              "      height: 32px;\n",
              "      padding: 0 0 0 0;\n",
              "      width: 32px;\n",
              "    }\n",
              "\n",
              "    .colab-df-convert:hover {\n",
              "      background-color: #E2EBFA;\n",
              "      box-shadow: 0px 1px 2px rgba(60, 64, 67, 0.3), 0px 1px 3px 1px rgba(60, 64, 67, 0.15);\n",
              "      fill: #174EA6;\n",
              "    }\n",
              "\n",
              "    .colab-df-buttons div {\n",
              "      margin-bottom: 4px;\n",
              "    }\n",
              "\n",
              "    [theme=dark] .colab-df-convert {\n",
              "      background-color: #3B4455;\n",
              "      fill: #D2E3FC;\n",
              "    }\n",
              "\n",
              "    [theme=dark] .colab-df-convert:hover {\n",
              "      background-color: #434B5C;\n",
              "      box-shadow: 0px 1px 3px 1px rgba(0, 0, 0, 0.15);\n",
              "      filter: drop-shadow(0px 1px 2px rgba(0, 0, 0, 0.3));\n",
              "      fill: #FFFFFF;\n",
              "    }\n",
              "  </style>\n",
              "\n",
              "    <script>\n",
              "      const buttonEl =\n",
              "        document.querySelector('#df-49ab2d6c-3ef2-40b5-b911-3bc8cdb28b9f button.colab-df-convert');\n",
              "      buttonEl.style.display =\n",
              "        google.colab.kernel.accessAllowed ? 'block' : 'none';\n",
              "\n",
              "      async function convertToInteractive(key) {\n",
              "        const element = document.querySelector('#df-49ab2d6c-3ef2-40b5-b911-3bc8cdb28b9f');\n",
              "        const dataTable =\n",
              "          await google.colab.kernel.invokeFunction('convertToInteractive',\n",
              "                                                    [key], {});\n",
              "        if (!dataTable) return;\n",
              "\n",
              "        const docLinkHtml = 'Like what you see? Visit the ' +\n",
              "          '<a target=\"_blank\" href=https://colab.research.google.com/notebooks/data_table.ipynb>data table notebook</a>'\n",
              "          + ' to learn more about interactive tables.';\n",
              "        element.innerHTML = '';\n",
              "        dataTable['output_type'] = 'display_data';\n",
              "        await google.colab.output.renderOutput(dataTable, element);\n",
              "        const docLink = document.createElement('div');\n",
              "        docLink.innerHTML = docLinkHtml;\n",
              "        element.appendChild(docLink);\n",
              "      }\n",
              "    </script>\n",
              "  </div>\n",
              "\n",
              "\n",
              "<div id=\"df-3676d343-9f54-4ff2-8701-a095e2e7813c\">\n",
              "  <button class=\"colab-df-quickchart\" onclick=\"quickchart('df-3676d343-9f54-4ff2-8701-a095e2e7813c')\"\n",
              "            title=\"Suggest charts\"\n",
              "            style=\"display:none;\">\n",
              "\n",
              "<svg xmlns=\"http://www.w3.org/2000/svg\" height=\"24px\"viewBox=\"0 0 24 24\"\n",
              "     width=\"24px\">\n",
              "    <g>\n",
              "        <path d=\"M19 3H5c-1.1 0-2 .9-2 2v14c0 1.1.9 2 2 2h14c1.1 0 2-.9 2-2V5c0-1.1-.9-2-2-2zM9 17H7v-7h2v7zm4 0h-2V7h2v10zm4 0h-2v-4h2v4z\"/>\n",
              "    </g>\n",
              "</svg>\n",
              "  </button>\n",
              "\n",
              "<style>\n",
              "  .colab-df-quickchart {\n",
              "      --bg-color: #E8F0FE;\n",
              "      --fill-color: #1967D2;\n",
              "      --hover-bg-color: #E2EBFA;\n",
              "      --hover-fill-color: #174EA6;\n",
              "      --disabled-fill-color: #AAA;\n",
              "      --disabled-bg-color: #DDD;\n",
              "  }\n",
              "\n",
              "  [theme=dark] .colab-df-quickchart {\n",
              "      --bg-color: #3B4455;\n",
              "      --fill-color: #D2E3FC;\n",
              "      --hover-bg-color: #434B5C;\n",
              "      --hover-fill-color: #FFFFFF;\n",
              "      --disabled-bg-color: #3B4455;\n",
              "      --disabled-fill-color: #666;\n",
              "  }\n",
              "\n",
              "  .colab-df-quickchart {\n",
              "    background-color: var(--bg-color);\n",
              "    border: none;\n",
              "    border-radius: 50%;\n",
              "    cursor: pointer;\n",
              "    display: none;\n",
              "    fill: var(--fill-color);\n",
              "    height: 32px;\n",
              "    padding: 0;\n",
              "    width: 32px;\n",
              "  }\n",
              "\n",
              "  .colab-df-quickchart:hover {\n",
              "    background-color: var(--hover-bg-color);\n",
              "    box-shadow: 0 1px 2px rgba(60, 64, 67, 0.3), 0 1px 3px 1px rgba(60, 64, 67, 0.15);\n",
              "    fill: var(--button-hover-fill-color);\n",
              "  }\n",
              "\n",
              "  .colab-df-quickchart-complete:disabled,\n",
              "  .colab-df-quickchart-complete:disabled:hover {\n",
              "    background-color: var(--disabled-bg-color);\n",
              "    fill: var(--disabled-fill-color);\n",
              "    box-shadow: none;\n",
              "  }\n",
              "\n",
              "  .colab-df-spinner {\n",
              "    border: 2px solid var(--fill-color);\n",
              "    border-color: transparent;\n",
              "    border-bottom-color: var(--fill-color);\n",
              "    animation:\n",
              "      spin 1s steps(1) infinite;\n",
              "  }\n",
              "\n",
              "  @keyframes spin {\n",
              "    0% {\n",
              "      border-color: transparent;\n",
              "      border-bottom-color: var(--fill-color);\n",
              "      border-left-color: var(--fill-color);\n",
              "    }\n",
              "    20% {\n",
              "      border-color: transparent;\n",
              "      border-left-color: var(--fill-color);\n",
              "      border-top-color: var(--fill-color);\n",
              "    }\n",
              "    30% {\n",
              "      border-color: transparent;\n",
              "      border-left-color: var(--fill-color);\n",
              "      border-top-color: var(--fill-color);\n",
              "      border-right-color: var(--fill-color);\n",
              "    }\n",
              "    40% {\n",
              "      border-color: transparent;\n",
              "      border-right-color: var(--fill-color);\n",
              "      border-top-color: var(--fill-color);\n",
              "    }\n",
              "    60% {\n",
              "      border-color: transparent;\n",
              "      border-right-color: var(--fill-color);\n",
              "    }\n",
              "    80% {\n",
              "      border-color: transparent;\n",
              "      border-right-color: var(--fill-color);\n",
              "      border-bottom-color: var(--fill-color);\n",
              "    }\n",
              "    90% {\n",
              "      border-color: transparent;\n",
              "      border-bottom-color: var(--fill-color);\n",
              "    }\n",
              "  }\n",
              "</style>\n",
              "\n",
              "  <script>\n",
              "    async function quickchart(key) {\n",
              "      const quickchartButtonEl =\n",
              "        document.querySelector('#' + key + ' button');\n",
              "      quickchartButtonEl.disabled = true;  // To prevent multiple clicks.\n",
              "      quickchartButtonEl.classList.add('colab-df-spinner');\n",
              "      try {\n",
              "        const charts = await google.colab.kernel.invokeFunction(\n",
              "            'suggestCharts', [key], {});\n",
              "      } catch (error) {\n",
              "        console.error('Error during call to suggestCharts:', error);\n",
              "      }\n",
              "      quickchartButtonEl.classList.remove('colab-df-spinner');\n",
              "      quickchartButtonEl.classList.add('colab-df-quickchart-complete');\n",
              "    }\n",
              "    (() => {\n",
              "      let quickchartButtonEl =\n",
              "        document.querySelector('#df-3676d343-9f54-4ff2-8701-a095e2e7813c button');\n",
              "      quickchartButtonEl.style.display =\n",
              "        google.colab.kernel.accessAllowed ? 'block' : 'none';\n",
              "    })();\n",
              "  </script>\n",
              "</div>\n",
              "    </div>\n",
              "  </div>\n"
            ],
            "text/plain": [
              "                       penggunaan  frequency\n",
              "0      Pembelian delivery makanan        201\n",
              "1  Pembayaran transportasi online        176\n",
              "2           Pembayaran e-commerce        175\n",
              "3   Pembayaran di restauran/ cafe        133\n",
              "4                  Pembayaran tol        132\n",
              "5                 Pembelian pulsa        131\n",
              "6        Pembayaran di minimarket        124\n",
              "7         Pembayaran tiket parkir        108\n",
              "8    Pembayaran transportasi umum         88\n",
              "9        Pembayaran utilitas (PLN         64"
            ]
          },
          "execution_count": 80,
          "metadata": {},
          "output_type": "execute_result"
        }
      ],
      "source": [
        "# create Guna_Emoney\n",
        "\n",
        "guna_emoney_data = df[[col for col in df.columns if col.startswith('penggunaan_emoney_')]].stack().dropna()\n",
        "\n",
        "Guna_Emoney = guna_emoney_data.to_frame(name='penggunaan').reset_index(drop=True).value_counts().rename_axis('penggunaan').reset_index(name='frequency')\n",
        "\n",
        "Guna_Emoney"
      ]
    },
    {
      "cell_type": "markdown",
      "metadata": {
        "id": "46lTORFl8h3C"
      },
      "source": [
        "### Menganalisis peningkatan belanja online dalam 6 bulan terakhir yang paling populer"
      ]
    },
    {
      "cell_type": "code",
      "execution_count": 77,
      "metadata": {
        "colab": {
          "base_uri": "https://localhost:8080/",
          "height": 229
        },
        "id": "KVn-B1WR9h5q",
        "outputId": "c507262b-c189-465b-d181-d3f4bb0ed969"
      },
      "outputs": [
        {
          "name": "stderr",
          "output_type": "stream",
          "text": [
            "<ipython-input-77-4814c5380213>:9: FutureWarning: The frame.append method is deprecated and will be removed from pandas in a future version. Use pandas.concat instead.\n",
            "  Kecenderungan = Kecenderungan.append(nan_row, ignore_index=True)\n"
          ]
        },
        {
          "data": {
            "text/html": [
              "\n",
              "  <div id=\"df-0b89669d-1dca-46bb-8ddf-6859b4e28fb0\" class=\"colab-df-container\">\n",
              "    <div>\n",
              "<style scoped>\n",
              "    .dataframe tbody tr th:only-of-type {\n",
              "        vertical-align: middle;\n",
              "    }\n",
              "\n",
              "    .dataframe tbody tr th {\n",
              "        vertical-align: top;\n",
              "    }\n",
              "\n",
              "    .dataframe thead th {\n",
              "        text-align: right;\n",
              "    }\n",
              "</style>\n",
              "<table border=\"1\" class=\"dataframe\">\n",
              "  <thead>\n",
              "    <tr style=\"text-align: right;\">\n",
              "      <th></th>\n",
              "      <th>kecenderungan</th>\n",
              "      <th>frequency</th>\n",
              "    </tr>\n",
              "  </thead>\n",
              "  <tbody>\n",
              "    <tr>\n",
              "      <th>0</th>\n",
              "      <td>Tetap</td>\n",
              "      <td>131</td>\n",
              "    </tr>\n",
              "    <tr>\n",
              "      <th>1</th>\n",
              "      <td>Meningkat</td>\n",
              "      <td>92</td>\n",
              "    </tr>\n",
              "    <tr>\n",
              "      <th>2</th>\n",
              "      <td>Menurun</td>\n",
              "      <td>60</td>\n",
              "    </tr>\n",
              "    <tr>\n",
              "      <th>3</th>\n",
              "      <td>nan</td>\n",
              "      <td>1</td>\n",
              "    </tr>\n",
              "  </tbody>\n",
              "</table>\n",
              "</div>\n",
              "    <div class=\"colab-df-buttons\">\n",
              "\n",
              "  <div class=\"colab-df-container\">\n",
              "    <button class=\"colab-df-convert\" onclick=\"convertToInteractive('df-0b89669d-1dca-46bb-8ddf-6859b4e28fb0')\"\n",
              "            title=\"Convert this dataframe to an interactive table.\"\n",
              "            style=\"display:none;\">\n",
              "\n",
              "  <svg xmlns=\"http://www.w3.org/2000/svg\" height=\"24px\" viewBox=\"0 -960 960 960\">\n",
              "    <path d=\"M120-120v-720h720v720H120Zm60-500h600v-160H180v160Zm220 220h160v-160H400v160Zm0 220h160v-160H400v160ZM180-400h160v-160H180v160Zm440 0h160v-160H620v160ZM180-180h160v-160H180v160Zm440 0h160v-160H620v160Z\"/>\n",
              "  </svg>\n",
              "    </button>\n",
              "\n",
              "  <style>\n",
              "    .colab-df-container {\n",
              "      display:flex;\n",
              "      gap: 12px;\n",
              "    }\n",
              "\n",
              "    .colab-df-convert {\n",
              "      background-color: #E8F0FE;\n",
              "      border: none;\n",
              "      border-radius: 50%;\n",
              "      cursor: pointer;\n",
              "      display: none;\n",
              "      fill: #1967D2;\n",
              "      height: 32px;\n",
              "      padding: 0 0 0 0;\n",
              "      width: 32px;\n",
              "    }\n",
              "\n",
              "    .colab-df-convert:hover {\n",
              "      background-color: #E2EBFA;\n",
              "      box-shadow: 0px 1px 2px rgba(60, 64, 67, 0.3), 0px 1px 3px 1px rgba(60, 64, 67, 0.15);\n",
              "      fill: #174EA6;\n",
              "    }\n",
              "\n",
              "    .colab-df-buttons div {\n",
              "      margin-bottom: 4px;\n",
              "    }\n",
              "\n",
              "    [theme=dark] .colab-df-convert {\n",
              "      background-color: #3B4455;\n",
              "      fill: #D2E3FC;\n",
              "    }\n",
              "\n",
              "    [theme=dark] .colab-df-convert:hover {\n",
              "      background-color: #434B5C;\n",
              "      box-shadow: 0px 1px 3px 1px rgba(0, 0, 0, 0.15);\n",
              "      filter: drop-shadow(0px 1px 2px rgba(0, 0, 0, 0.3));\n",
              "      fill: #FFFFFF;\n",
              "    }\n",
              "  </style>\n",
              "\n",
              "    <script>\n",
              "      const buttonEl =\n",
              "        document.querySelector('#df-0b89669d-1dca-46bb-8ddf-6859b4e28fb0 button.colab-df-convert');\n",
              "      buttonEl.style.display =\n",
              "        google.colab.kernel.accessAllowed ? 'block' : 'none';\n",
              "\n",
              "      async function convertToInteractive(key) {\n",
              "        const element = document.querySelector('#df-0b89669d-1dca-46bb-8ddf-6859b4e28fb0');\n",
              "        const dataTable =\n",
              "          await google.colab.kernel.invokeFunction('convertToInteractive',\n",
              "                                                    [key], {});\n",
              "        if (!dataTable) return;\n",
              "\n",
              "        const docLinkHtml = 'Like what you see? Visit the ' +\n",
              "          '<a target=\"_blank\" href=https://colab.research.google.com/notebooks/data_table.ipynb>data table notebook</a>'\n",
              "          + ' to learn more about interactive tables.';\n",
              "        element.innerHTML = '';\n",
              "        dataTable['output_type'] = 'display_data';\n",
              "        await google.colab.output.renderOutput(dataTable, element);\n",
              "        const docLink = document.createElement('div');\n",
              "        docLink.innerHTML = docLinkHtml;\n",
              "        element.appendChild(docLink);\n",
              "      }\n",
              "    </script>\n",
              "  </div>\n",
              "\n",
              "\n",
              "<div id=\"df-062b1faa-6879-4ec8-9a82-87f9da1e69e6\">\n",
              "  <button class=\"colab-df-quickchart\" onclick=\"quickchart('df-062b1faa-6879-4ec8-9a82-87f9da1e69e6')\"\n",
              "            title=\"Suggest charts\"\n",
              "            style=\"display:none;\">\n",
              "\n",
              "<svg xmlns=\"http://www.w3.org/2000/svg\" height=\"24px\"viewBox=\"0 0 24 24\"\n",
              "     width=\"24px\">\n",
              "    <g>\n",
              "        <path d=\"M19 3H5c-1.1 0-2 .9-2 2v14c0 1.1.9 2 2 2h14c1.1 0 2-.9 2-2V5c0-1.1-.9-2-2-2zM9 17H7v-7h2v7zm4 0h-2V7h2v10zm4 0h-2v-4h2v4z\"/>\n",
              "    </g>\n",
              "</svg>\n",
              "  </button>\n",
              "\n",
              "<style>\n",
              "  .colab-df-quickchart {\n",
              "      --bg-color: #E8F0FE;\n",
              "      --fill-color: #1967D2;\n",
              "      --hover-bg-color: #E2EBFA;\n",
              "      --hover-fill-color: #174EA6;\n",
              "      --disabled-fill-color: #AAA;\n",
              "      --disabled-bg-color: #DDD;\n",
              "  }\n",
              "\n",
              "  [theme=dark] .colab-df-quickchart {\n",
              "      --bg-color: #3B4455;\n",
              "      --fill-color: #D2E3FC;\n",
              "      --hover-bg-color: #434B5C;\n",
              "      --hover-fill-color: #FFFFFF;\n",
              "      --disabled-bg-color: #3B4455;\n",
              "      --disabled-fill-color: #666;\n",
              "  }\n",
              "\n",
              "  .colab-df-quickchart {\n",
              "    background-color: var(--bg-color);\n",
              "    border: none;\n",
              "    border-radius: 50%;\n",
              "    cursor: pointer;\n",
              "    display: none;\n",
              "    fill: var(--fill-color);\n",
              "    height: 32px;\n",
              "    padding: 0;\n",
              "    width: 32px;\n",
              "  }\n",
              "\n",
              "  .colab-df-quickchart:hover {\n",
              "    background-color: var(--hover-bg-color);\n",
              "    box-shadow: 0 1px 2px rgba(60, 64, 67, 0.3), 0 1px 3px 1px rgba(60, 64, 67, 0.15);\n",
              "    fill: var(--button-hover-fill-color);\n",
              "  }\n",
              "\n",
              "  .colab-df-quickchart-complete:disabled,\n",
              "  .colab-df-quickchart-complete:disabled:hover {\n",
              "    background-color: var(--disabled-bg-color);\n",
              "    fill: var(--disabled-fill-color);\n",
              "    box-shadow: none;\n",
              "  }\n",
              "\n",
              "  .colab-df-spinner {\n",
              "    border: 2px solid var(--fill-color);\n",
              "    border-color: transparent;\n",
              "    border-bottom-color: var(--fill-color);\n",
              "    animation:\n",
              "      spin 1s steps(1) infinite;\n",
              "  }\n",
              "\n",
              "  @keyframes spin {\n",
              "    0% {\n",
              "      border-color: transparent;\n",
              "      border-bottom-color: var(--fill-color);\n",
              "      border-left-color: var(--fill-color);\n",
              "    }\n",
              "    20% {\n",
              "      border-color: transparent;\n",
              "      border-left-color: var(--fill-color);\n",
              "      border-top-color: var(--fill-color);\n",
              "    }\n",
              "    30% {\n",
              "      border-color: transparent;\n",
              "      border-left-color: var(--fill-color);\n",
              "      border-top-color: var(--fill-color);\n",
              "      border-right-color: var(--fill-color);\n",
              "    }\n",
              "    40% {\n",
              "      border-color: transparent;\n",
              "      border-right-color: var(--fill-color);\n",
              "      border-top-color: var(--fill-color);\n",
              "    }\n",
              "    60% {\n",
              "      border-color: transparent;\n",
              "      border-right-color: var(--fill-color);\n",
              "    }\n",
              "    80% {\n",
              "      border-color: transparent;\n",
              "      border-right-color: var(--fill-color);\n",
              "      border-bottom-color: var(--fill-color);\n",
              "    }\n",
              "    90% {\n",
              "      border-color: transparent;\n",
              "      border-bottom-color: var(--fill-color);\n",
              "    }\n",
              "  }\n",
              "</style>\n",
              "\n",
              "  <script>\n",
              "    async function quickchart(key) {\n",
              "      const quickchartButtonEl =\n",
              "        document.querySelector('#' + key + ' button');\n",
              "      quickchartButtonEl.disabled = true;  // To prevent multiple clicks.\n",
              "      quickchartButtonEl.classList.add('colab-df-spinner');\n",
              "      try {\n",
              "        const charts = await google.colab.kernel.invokeFunction(\n",
              "            'suggestCharts', [key], {});\n",
              "      } catch (error) {\n",
              "        console.error('Error during call to suggestCharts:', error);\n",
              "      }\n",
              "      quickchartButtonEl.classList.remove('colab-df-spinner');\n",
              "      quickchartButtonEl.classList.add('colab-df-quickchart-complete');\n",
              "    }\n",
              "    (() => {\n",
              "      let quickchartButtonEl =\n",
              "        document.querySelector('#df-062b1faa-6879-4ec8-9a82-87f9da1e69e6 button');\n",
              "      quickchartButtonEl.style.display =\n",
              "        google.colab.kernel.accessAllowed ? 'block' : 'none';\n",
              "    })();\n",
              "  </script>\n",
              "</div>\n",
              "    </div>\n",
              "  </div>\n"
            ],
            "text/plain": [
              "  kecenderungan  frequency\n",
              "0         Tetap        131\n",
              "1     Meningkat         92\n",
              "2       Menurun         60\n",
              "3           nan          1"
            ]
          },
          "execution_count": 77,
          "metadata": {},
          "output_type": "execute_result"
        }
      ],
      "source": [
        "# create Kecenderungan\n",
        "kecenderungan_data = df[[col for col in df.columns if col.startswith('45. Bagaimana frekuensi Anda melakukan belanja online dalam 6 bulan terakhir?')]].stack().dropna()\n",
        "Kecenderungan = kecenderungan_data.to_frame(name='kecenderungan').reset_index(drop=True).value_counts().rename_axis('kecenderungan').reset_index(name='frequency')\n",
        "\n",
        "nan_row = pd.DataFrame({'kecenderungan': ['nan'], 'frequency': [1]})\n",
        "Kecenderungan = Kecenderungan.append(nan_row, ignore_index=True)\n",
        "\n",
        "Kecenderungan"
      ]
    },
    {
      "cell_type": "code",
      "execution_count": 79,
      "metadata": {
        "colab": {
          "base_uri": "https://localhost:8080/"
        },
        "id": "1lSf2IC18o54",
        "outputId": "f0bca893-19c4-43ee-81e8-aca3ac180687"
      },
      "outputs": [
        {
          "data": {
            "text/plain": [
              "153"
            ]
          },
          "execution_count": 79,
          "metadata": {},
          "output_type": "execute_result"
        }
      ],
      "source": [
        "no_meningkat_df = df[~df[['belanja_online_meningkat_6bln_terakhir_1', 'belanja_online_meningkat_6bln_terakhir_2', 'belanja_online_meningkat_6bln_terakhir_3', 'belanja_online_meningkat_6bln_terakhir_4', 'belanja_online_meningkat_6bln_terakhir_5', 'belanja_online_meningkat_6bln_terakhir_6', 'belanja_online_meningkat_6bln_terakhir_7', 'belanja_online_meningkat_6bln_terakhir_8', 'belanja_online_meningkat_6bln_terakhir_9', 'belanja_online_meningkat_6bln_terakhir_10']].any(axis=1)]\n",
        "\n",
        "no_meningkat_df.shape[0]"
      ]
    },
    {
      "cell_type": "code",
      "execution_count": 54,
      "metadata": {
        "colab": {
          "base_uri": "https://localhost:8080/",
          "height": 363
        },
        "id": "FZp2r9539Lgq",
        "outputId": "1acf5c79-d11b-4482-94cc-db3414e7051a"
      },
      "outputs": [
        {
          "data": {
            "text/html": [
              "\n",
              "  <div id=\"df-08bc8592-52a7-49c9-8351-9ddad381ca68\" class=\"colab-df-container\">\n",
              "    <div>\n",
              "<style scoped>\n",
              "    .dataframe tbody tr th:only-of-type {\n",
              "        vertical-align: middle;\n",
              "    }\n",
              "\n",
              "    .dataframe tbody tr th {\n",
              "        vertical-align: top;\n",
              "    }\n",
              "\n",
              "    .dataframe thead th {\n",
              "        text-align: right;\n",
              "    }\n",
              "</style>\n",
              "<table border=\"1\" class=\"dataframe\">\n",
              "  <thead>\n",
              "    <tr style=\"text-align: right;\">\n",
              "      <th></th>\n",
              "      <th>meningkat</th>\n",
              "      <th>frequency</th>\n",
              "    </tr>\n",
              "  </thead>\n",
              "  <tbody>\n",
              "    <tr>\n",
              "      <th>0</th>\n",
              "      <td>Membeli makanan dan minuman secara online</td>\n",
              "      <td>96</td>\n",
              "    </tr>\n",
              "    <tr>\n",
              "      <th>1</th>\n",
              "      <td>Belanja fashion &amp; mode secara online</td>\n",
              "      <td>69</td>\n",
              "    </tr>\n",
              "    <tr>\n",
              "      <th>2</th>\n",
              "      <td>Pembelian pulsa secara online</td>\n",
              "      <td>62</td>\n",
              "    </tr>\n",
              "    <tr>\n",
              "      <th>3</th>\n",
              "      <td>Belanja buku</td>\n",
              "      <td>41</td>\n",
              "    </tr>\n",
              "    <tr>\n",
              "      <th>4</th>\n",
              "      <td>Booking transportasi jarak jauh kereta api/ pe...</td>\n",
              "      <td>40</td>\n",
              "    </tr>\n",
              "    <tr>\n",
              "      <th>5</th>\n",
              "      <td>Belanja groceries / keperluan sehari-hari seca...</td>\n",
              "      <td>39</td>\n",
              "    </tr>\n",
              "    <tr>\n",
              "      <th>6</th>\n",
              "      <td>Belanja kosmetik &amp; alat kecantikan/ perawatan ...</td>\n",
              "      <td>39</td>\n",
              "    </tr>\n",
              "    <tr>\n",
              "      <th>7</th>\n",
              "      <td>Booking Hotel secara online</td>\n",
              "      <td>25</td>\n",
              "    </tr>\n",
              "    <tr>\n",
              "      <th>8</th>\n",
              "      <td>Belanja handphone</td>\n",
              "      <td>12</td>\n",
              "    </tr>\n",
              "    <tr>\n",
              "      <th>9</th>\n",
              "      <td>laptop/ komputer secara online</td>\n",
              "      <td>12</td>\n",
              "    </tr>\n",
              "  </tbody>\n",
              "</table>\n",
              "</div>\n",
              "    <div class=\"colab-df-buttons\">\n",
              "\n",
              "  <div class=\"colab-df-container\">\n",
              "    <button class=\"colab-df-convert\" onclick=\"convertToInteractive('df-08bc8592-52a7-49c9-8351-9ddad381ca68')\"\n",
              "            title=\"Convert this dataframe to an interactive table.\"\n",
              "            style=\"display:none;\">\n",
              "\n",
              "  <svg xmlns=\"http://www.w3.org/2000/svg\" height=\"24px\" viewBox=\"0 -960 960 960\">\n",
              "    <path d=\"M120-120v-720h720v720H120Zm60-500h600v-160H180v160Zm220 220h160v-160H400v160Zm0 220h160v-160H400v160ZM180-400h160v-160H180v160Zm440 0h160v-160H620v160ZM180-180h160v-160H180v160Zm440 0h160v-160H620v160Z\"/>\n",
              "  </svg>\n",
              "    </button>\n",
              "\n",
              "  <style>\n",
              "    .colab-df-container {\n",
              "      display:flex;\n",
              "      gap: 12px;\n",
              "    }\n",
              "\n",
              "    .colab-df-convert {\n",
              "      background-color: #E8F0FE;\n",
              "      border: none;\n",
              "      border-radius: 50%;\n",
              "      cursor: pointer;\n",
              "      display: none;\n",
              "      fill: #1967D2;\n",
              "      height: 32px;\n",
              "      padding: 0 0 0 0;\n",
              "      width: 32px;\n",
              "    }\n",
              "\n",
              "    .colab-df-convert:hover {\n",
              "      background-color: #E2EBFA;\n",
              "      box-shadow: 0px 1px 2px rgba(60, 64, 67, 0.3), 0px 1px 3px 1px rgba(60, 64, 67, 0.15);\n",
              "      fill: #174EA6;\n",
              "    }\n",
              "\n",
              "    .colab-df-buttons div {\n",
              "      margin-bottom: 4px;\n",
              "    }\n",
              "\n",
              "    [theme=dark] .colab-df-convert {\n",
              "      background-color: #3B4455;\n",
              "      fill: #D2E3FC;\n",
              "    }\n",
              "\n",
              "    [theme=dark] .colab-df-convert:hover {\n",
              "      background-color: #434B5C;\n",
              "      box-shadow: 0px 1px 3px 1px rgba(0, 0, 0, 0.15);\n",
              "      filter: drop-shadow(0px 1px 2px rgba(0, 0, 0, 0.3));\n",
              "      fill: #FFFFFF;\n",
              "    }\n",
              "  </style>\n",
              "\n",
              "    <script>\n",
              "      const buttonEl =\n",
              "        document.querySelector('#df-08bc8592-52a7-49c9-8351-9ddad381ca68 button.colab-df-convert');\n",
              "      buttonEl.style.display =\n",
              "        google.colab.kernel.accessAllowed ? 'block' : 'none';\n",
              "\n",
              "      async function convertToInteractive(key) {\n",
              "        const element = document.querySelector('#df-08bc8592-52a7-49c9-8351-9ddad381ca68');\n",
              "        const dataTable =\n",
              "          await google.colab.kernel.invokeFunction('convertToInteractive',\n",
              "                                                    [key], {});\n",
              "        if (!dataTable) return;\n",
              "\n",
              "        const docLinkHtml = 'Like what you see? Visit the ' +\n",
              "          '<a target=\"_blank\" href=https://colab.research.google.com/notebooks/data_table.ipynb>data table notebook</a>'\n",
              "          + ' to learn more about interactive tables.';\n",
              "        element.innerHTML = '';\n",
              "        dataTable['output_type'] = 'display_data';\n",
              "        await google.colab.output.renderOutput(dataTable, element);\n",
              "        const docLink = document.createElement('div');\n",
              "        docLink.innerHTML = docLinkHtml;\n",
              "        element.appendChild(docLink);\n",
              "      }\n",
              "    </script>\n",
              "  </div>\n",
              "\n",
              "\n",
              "<div id=\"df-df539f80-6f09-4c7a-8e31-aa52aa8b4169\">\n",
              "  <button class=\"colab-df-quickchart\" onclick=\"quickchart('df-df539f80-6f09-4c7a-8e31-aa52aa8b4169')\"\n",
              "            title=\"Suggest charts\"\n",
              "            style=\"display:none;\">\n",
              "\n",
              "<svg xmlns=\"http://www.w3.org/2000/svg\" height=\"24px\"viewBox=\"0 0 24 24\"\n",
              "     width=\"24px\">\n",
              "    <g>\n",
              "        <path d=\"M19 3H5c-1.1 0-2 .9-2 2v14c0 1.1.9 2 2 2h14c1.1 0 2-.9 2-2V5c0-1.1-.9-2-2-2zM9 17H7v-7h2v7zm4 0h-2V7h2v10zm4 0h-2v-4h2v4z\"/>\n",
              "    </g>\n",
              "</svg>\n",
              "  </button>\n",
              "\n",
              "<style>\n",
              "  .colab-df-quickchart {\n",
              "      --bg-color: #E8F0FE;\n",
              "      --fill-color: #1967D2;\n",
              "      --hover-bg-color: #E2EBFA;\n",
              "      --hover-fill-color: #174EA6;\n",
              "      --disabled-fill-color: #AAA;\n",
              "      --disabled-bg-color: #DDD;\n",
              "  }\n",
              "\n",
              "  [theme=dark] .colab-df-quickchart {\n",
              "      --bg-color: #3B4455;\n",
              "      --fill-color: #D2E3FC;\n",
              "      --hover-bg-color: #434B5C;\n",
              "      --hover-fill-color: #FFFFFF;\n",
              "      --disabled-bg-color: #3B4455;\n",
              "      --disabled-fill-color: #666;\n",
              "  }\n",
              "\n",
              "  .colab-df-quickchart {\n",
              "    background-color: var(--bg-color);\n",
              "    border: none;\n",
              "    border-radius: 50%;\n",
              "    cursor: pointer;\n",
              "    display: none;\n",
              "    fill: var(--fill-color);\n",
              "    height: 32px;\n",
              "    padding: 0;\n",
              "    width: 32px;\n",
              "  }\n",
              "\n",
              "  .colab-df-quickchart:hover {\n",
              "    background-color: var(--hover-bg-color);\n",
              "    box-shadow: 0 1px 2px rgba(60, 64, 67, 0.3), 0 1px 3px 1px rgba(60, 64, 67, 0.15);\n",
              "    fill: var(--button-hover-fill-color);\n",
              "  }\n",
              "\n",
              "  .colab-df-quickchart-complete:disabled,\n",
              "  .colab-df-quickchart-complete:disabled:hover {\n",
              "    background-color: var(--disabled-bg-color);\n",
              "    fill: var(--disabled-fill-color);\n",
              "    box-shadow: none;\n",
              "  }\n",
              "\n",
              "  .colab-df-spinner {\n",
              "    border: 2px solid var(--fill-color);\n",
              "    border-color: transparent;\n",
              "    border-bottom-color: var(--fill-color);\n",
              "    animation:\n",
              "      spin 1s steps(1) infinite;\n",
              "  }\n",
              "\n",
              "  @keyframes spin {\n",
              "    0% {\n",
              "      border-color: transparent;\n",
              "      border-bottom-color: var(--fill-color);\n",
              "      border-left-color: var(--fill-color);\n",
              "    }\n",
              "    20% {\n",
              "      border-color: transparent;\n",
              "      border-left-color: var(--fill-color);\n",
              "      border-top-color: var(--fill-color);\n",
              "    }\n",
              "    30% {\n",
              "      border-color: transparent;\n",
              "      border-left-color: var(--fill-color);\n",
              "      border-top-color: var(--fill-color);\n",
              "      border-right-color: var(--fill-color);\n",
              "    }\n",
              "    40% {\n",
              "      border-color: transparent;\n",
              "      border-right-color: var(--fill-color);\n",
              "      border-top-color: var(--fill-color);\n",
              "    }\n",
              "    60% {\n",
              "      border-color: transparent;\n",
              "      border-right-color: var(--fill-color);\n",
              "    }\n",
              "    80% {\n",
              "      border-color: transparent;\n",
              "      border-right-color: var(--fill-color);\n",
              "      border-bottom-color: var(--fill-color);\n",
              "    }\n",
              "    90% {\n",
              "      border-color: transparent;\n",
              "      border-bottom-color: var(--fill-color);\n",
              "    }\n",
              "  }\n",
              "</style>\n",
              "\n",
              "  <script>\n",
              "    async function quickchart(key) {\n",
              "      const quickchartButtonEl =\n",
              "        document.querySelector('#' + key + ' button');\n",
              "      quickchartButtonEl.disabled = true;  // To prevent multiple clicks.\n",
              "      quickchartButtonEl.classList.add('colab-df-spinner');\n",
              "      try {\n",
              "        const charts = await google.colab.kernel.invokeFunction(\n",
              "            'suggestCharts', [key], {});\n",
              "      } catch (error) {\n",
              "        console.error('Error during call to suggestCharts:', error);\n",
              "      }\n",
              "      quickchartButtonEl.classList.remove('colab-df-spinner');\n",
              "      quickchartButtonEl.classList.add('colab-df-quickchart-complete');\n",
              "    }\n",
              "    (() => {\n",
              "      let quickchartButtonEl =\n",
              "        document.querySelector('#df-df539f80-6f09-4c7a-8e31-aa52aa8b4169 button');\n",
              "      quickchartButtonEl.style.display =\n",
              "        google.colab.kernel.accessAllowed ? 'block' : 'none';\n",
              "    })();\n",
              "  </script>\n",
              "</div>\n",
              "    </div>\n",
              "  </div>\n"
            ],
            "text/plain": [
              "                                           meningkat  frequency\n",
              "0          Membeli makanan dan minuman secara online         96\n",
              "1               Belanja fashion & mode secara online         69\n",
              "2                      Pembelian pulsa secara online         62\n",
              "3                                       Belanja buku         41\n",
              "4  Booking transportasi jarak jauh kereta api/ pe...         40\n",
              "5  Belanja groceries / keperluan sehari-hari seca...         39\n",
              "6  Belanja kosmetik & alat kecantikan/ perawatan ...         39\n",
              "7                        Booking Hotel secara online         25\n",
              "8                                  Belanja handphone         12\n",
              "9                     laptop/ komputer secara online         12"
            ]
          },
          "execution_count": 54,
          "metadata": {},
          "output_type": "execute_result"
        }
      ],
      "source": [
        "# create Meningkat\n",
        "\n",
        "meningkat_data = df[[col for col in df.columns if col.startswith('belanja_online_meningkat_6bln_terakhir_')]].stack().dropna()\n",
        "\n",
        "Meningkat = meningkat_data.to_frame(name='meningkat').reset_index(drop=True).value_counts().rename_axis('meningkat').reset_index(name='frequency')\n",
        "\n",
        "Meningkat"
      ]
    }
  ],
  "metadata": {
    "colab": {
      "collapsed_sections": [
        "EWL147f7BHM4",
        "UnW_BPkEisjt",
        "vHN6BkqaHW29"
      ],
      "provenance": []
    },
    "kernelspec": {
      "display_name": "Python 3",
      "name": "python3"
    },
    "language_info": {
      "codemirror_mode": {
        "name": "ipython",
        "version": 3
      },
      "file_extension": ".py",
      "mimetype": "text/x-python",
      "name": "python",
      "nbconvert_exporter": "python",
      "pygments_lexer": "ipython3",
      "version": "3.10.5"
    }
  },
  "nbformat": 4,
  "nbformat_minor": 0
}
